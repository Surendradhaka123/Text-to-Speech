{
  "cells": [
    {
      "cell_type": "code",
      "execution_count": null,
      "metadata": {
        "id": "CJlnHvmY_onN",
        "colab": {
          "base_uri": "https://localhost:8080/"
        },
        "outputId": "2eb2a541-cfe3-46a5-b274-e18c39113721"
      },
      "outputs": [
        {
          "output_type": "stream",
          "name": "stdout",
          "text": [
            "Looking in indexes: https://pypi.org/simple, https://us-python.pkg.dev/colab-wheels/public/simple/\n",
            "Collecting transformers\n",
            "  Downloading transformers-4.29.2-py3-none-any.whl (7.1 MB)\n",
            "\u001b[2K     \u001b[90m━━━━━━━━━━━━━━━━━━━━━━━━━━━━━━━━━━━━━━━━\u001b[0m \u001b[32m7.1/7.1 MB\u001b[0m \u001b[31m28.0 MB/s\u001b[0m eta \u001b[36m0:00:00\u001b[0m\n",
            "\u001b[?25hCollecting datasets\n",
            "  Downloading datasets-2.12.0-py3-none-any.whl (474 kB)\n",
            "\u001b[2K     \u001b[90m━━━━━━━━━━━━━━━━━━━━━━━━━━━━━━━━━━━━━━\u001b[0m \u001b[32m474.6/474.6 kB\u001b[0m \u001b[31m26.1 MB/s\u001b[0m eta \u001b[36m0:00:00\u001b[0m\n",
            "\u001b[?25hRequirement already satisfied: filelock in /usr/local/lib/python3.10/dist-packages (from transformers) (3.12.0)\n",
            "Collecting huggingface-hub<1.0,>=0.14.1 (from transformers)\n",
            "  Downloading huggingface_hub-0.14.1-py3-none-any.whl (224 kB)\n",
            "\u001b[2K     \u001b[90m━━━━━━━━━━━━━━━━━━━━━━━━━━━━━━━━━━━━━━\u001b[0m \u001b[32m224.5/224.5 kB\u001b[0m \u001b[31m15.6 MB/s\u001b[0m eta \u001b[36m0:00:00\u001b[0m\n",
            "\u001b[?25hRequirement already satisfied: numpy>=1.17 in /usr/local/lib/python3.10/dist-packages (from transformers) (1.22.4)\n",
            "Requirement already satisfied: packaging>=20.0 in /usr/local/lib/python3.10/dist-packages (from transformers) (23.1)\n",
            "Requirement already satisfied: pyyaml>=5.1 in /usr/local/lib/python3.10/dist-packages (from transformers) (6.0)\n",
            "Requirement already satisfied: regex!=2019.12.17 in /usr/local/lib/python3.10/dist-packages (from transformers) (2022.10.31)\n",
            "Requirement already satisfied: requests in /usr/local/lib/python3.10/dist-packages (from transformers) (2.27.1)\n",
            "Collecting tokenizers!=0.11.3,<0.14,>=0.11.1 (from transformers)\n",
            "  Downloading tokenizers-0.13.3-cp310-cp310-manylinux_2_17_x86_64.manylinux2014_x86_64.whl (7.8 MB)\n",
            "\u001b[2K     \u001b[90m━━━━━━━━━━━━━━━━━━━━━━━━━━━━━━━━━━━━━━━━\u001b[0m \u001b[32m7.8/7.8 MB\u001b[0m \u001b[31m58.3 MB/s\u001b[0m eta \u001b[36m0:00:00\u001b[0m\n",
            "\u001b[?25hRequirement already satisfied: tqdm>=4.27 in /usr/local/lib/python3.10/dist-packages (from transformers) (4.65.0)\n",
            "Requirement already satisfied: pyarrow>=8.0.0 in /usr/local/lib/python3.10/dist-packages (from datasets) (9.0.0)\n",
            "Collecting dill<0.3.7,>=0.3.0 (from datasets)\n",
            "  Downloading dill-0.3.6-py3-none-any.whl (110 kB)\n",
            "\u001b[2K     \u001b[90m━━━━━━━━━━━━━━━━━━━━━━━━━━━━━━━━━━━━━━━\u001b[0m \u001b[32m110.5/110.5 kB\u001b[0m \u001b[31m9.7 MB/s\u001b[0m eta \u001b[36m0:00:00\u001b[0m\n",
            "\u001b[?25hRequirement already satisfied: pandas in /usr/local/lib/python3.10/dist-packages (from datasets) (1.5.3)\n",
            "Collecting xxhash (from datasets)\n",
            "  Downloading xxhash-3.2.0-cp310-cp310-manylinux_2_17_x86_64.manylinux2014_x86_64.whl (212 kB)\n",
            "\u001b[2K     \u001b[90m━━━━━━━━━━━━━━━━━━━━━━━━━━━━━━━━━━━━━━\u001b[0m \u001b[32m212.5/212.5 kB\u001b[0m \u001b[31m14.0 MB/s\u001b[0m eta \u001b[36m0:00:00\u001b[0m\n",
            "\u001b[?25hCollecting multiprocess (from datasets)\n",
            "  Downloading multiprocess-0.70.14-py310-none-any.whl (134 kB)\n",
            "\u001b[2K     \u001b[90m━━━━━━━━━━━━━━━━━━━━━━━━━━━━━━━━━━━━━━━\u001b[0m \u001b[32m134.3/134.3 kB\u001b[0m \u001b[31m9.6 MB/s\u001b[0m eta \u001b[36m0:00:00\u001b[0m\n",
            "\u001b[?25hRequirement already satisfied: fsspec[http]>=2021.11.1 in /usr/local/lib/python3.10/dist-packages (from datasets) (2023.4.0)\n",
            "Collecting aiohttp (from datasets)\n",
            "  Downloading aiohttp-3.8.4-cp310-cp310-manylinux_2_17_x86_64.manylinux2014_x86_64.whl (1.0 MB)\n",
            "\u001b[2K     \u001b[90m━━━━━━━━━━━━━━━━━━━━━━━━━━━━━━━━━━━━━━━━\u001b[0m \u001b[32m1.0/1.0 MB\u001b[0m \u001b[31m17.6 MB/s\u001b[0m eta \u001b[36m0:00:00\u001b[0m\n",
            "\u001b[?25hCollecting responses<0.19 (from datasets)\n",
            "  Downloading responses-0.18.0-py3-none-any.whl (38 kB)\n",
            "Requirement already satisfied: attrs>=17.3.0 in /usr/local/lib/python3.10/dist-packages (from aiohttp->datasets) (23.1.0)\n",
            "Requirement already satisfied: charset-normalizer<4.0,>=2.0 in /usr/local/lib/python3.10/dist-packages (from aiohttp->datasets) (2.0.12)\n",
            "Collecting multidict<7.0,>=4.5 (from aiohttp->datasets)\n",
            "  Downloading multidict-6.0.4-cp310-cp310-manylinux_2_17_x86_64.manylinux2014_x86_64.whl (114 kB)\n",
            "\u001b[2K     \u001b[90m━━━━━━━━━━━━━━━━━━━━━━━━━━━━━━━━━━━━━━━\u001b[0m \u001b[32m114.5/114.5 kB\u001b[0m \u001b[31m3.9 MB/s\u001b[0m eta \u001b[36m0:00:00\u001b[0m\n",
            "\u001b[?25hCollecting async-timeout<5.0,>=4.0.0a3 (from aiohttp->datasets)\n",
            "  Downloading async_timeout-4.0.2-py3-none-any.whl (5.8 kB)\n",
            "Collecting yarl<2.0,>=1.0 (from aiohttp->datasets)\n",
            "  Downloading yarl-1.9.2-cp310-cp310-manylinux_2_17_x86_64.manylinux2014_x86_64.whl (268 kB)\n",
            "\u001b[2K     \u001b[90m━━━━━━━━━━━━━━━━━━━━━━━━━━━━━━━━━━━━━━━\u001b[0m \u001b[32m268.8/268.8 kB\u001b[0m \u001b[31m9.7 MB/s\u001b[0m eta \u001b[36m0:00:00\u001b[0m\n",
            "\u001b[?25hCollecting frozenlist>=1.1.1 (from aiohttp->datasets)\n",
            "  Downloading frozenlist-1.3.3-cp310-cp310-manylinux_2_5_x86_64.manylinux1_x86_64.manylinux_2_17_x86_64.manylinux2014_x86_64.whl (149 kB)\n",
            "\u001b[2K     \u001b[90m━━━━━━━━━━━━━━━━━━━━━━━━━━━━━━━━━━━━━━━\u001b[0m \u001b[32m149.6/149.6 kB\u001b[0m \u001b[31m9.0 MB/s\u001b[0m eta \u001b[36m0:00:00\u001b[0m\n",
            "\u001b[?25hCollecting aiosignal>=1.1.2 (from aiohttp->datasets)\n",
            "  Downloading aiosignal-1.3.1-py3-none-any.whl (7.6 kB)\n",
            "Requirement already satisfied: typing-extensions>=3.7.4.3 in /usr/local/lib/python3.10/dist-packages (from huggingface-hub<1.0,>=0.14.1->transformers) (4.5.0)\n",
            "Requirement already satisfied: urllib3<1.27,>=1.21.1 in /usr/local/lib/python3.10/dist-packages (from requests->transformers) (1.26.15)\n",
            "Requirement already satisfied: certifi>=2017.4.17 in /usr/local/lib/python3.10/dist-packages (from requests->transformers) (2022.12.7)\n",
            "Requirement already satisfied: idna<4,>=2.5 in /usr/local/lib/python3.10/dist-packages (from requests->transformers) (3.4)\n",
            "Requirement already satisfied: python-dateutil>=2.8.1 in /usr/local/lib/python3.10/dist-packages (from pandas->datasets) (2.8.2)\n",
            "Requirement already satisfied: pytz>=2020.1 in /usr/local/lib/python3.10/dist-packages (from pandas->datasets) (2022.7.1)\n",
            "Requirement already satisfied: six>=1.5 in /usr/local/lib/python3.10/dist-packages (from python-dateutil>=2.8.1->pandas->datasets) (1.16.0)\n",
            "Installing collected packages: tokenizers, xxhash, multidict, frozenlist, dill, async-timeout, yarl, responses, multiprocess, huggingface-hub, aiosignal, transformers, aiohttp, datasets\n",
            "Successfully installed aiohttp-3.8.4 aiosignal-1.3.1 async-timeout-4.0.2 datasets-2.12.0 dill-0.3.6 frozenlist-1.3.3 huggingface-hub-0.14.1 multidict-6.0.4 multiprocess-0.70.14 responses-0.18.0 tokenizers-0.13.3 transformers-4.29.2 xxhash-3.2.0 yarl-1.9.2\n"
          ]
        }
      ],
      "source": [
        "# Transformers installation\n",
        "! pip install transformers datasets\n",
        "# To install from source instead of the last release, comment the command above and uncomment the following one.\n",
        "# ! pip install git+https://github.com/huggingface/transformers.git"
      ]
    },
    {
      "cell_type": "markdown",
      "metadata": {
        "id": "E-6XpCxU_onS"
      },
      "source": [
        "# Fine tuning"
      ]
    },
    {
      "cell_type": "code",
      "source": [
        "!pip install datasets soundfile speechbrain accelerate\n"
      ],
      "metadata": {
        "id": "dVtLb35rAJcI",
        "colab": {
          "base_uri": "https://localhost:8080/"
        },
        "outputId": "5e176eff-6a6f-4c76-eef4-1635bd6790e9"
      },
      "execution_count": null,
      "outputs": [
        {
          "output_type": "stream",
          "name": "stdout",
          "text": [
            "Looking in indexes: https://pypi.org/simple, https://us-python.pkg.dev/colab-wheels/public/simple/\n",
            "Requirement already satisfied: datasets in /usr/local/lib/python3.10/dist-packages (2.12.0)\n",
            "Requirement already satisfied: soundfile in /usr/local/lib/python3.10/dist-packages (0.12.1)\n",
            "Collecting speechbrain\n",
            "  Downloading speechbrain-0.5.14-py3-none-any.whl (519 kB)\n",
            "\u001b[2K     \u001b[90m━━━━━━━━━━━━━━━━━━━━━━━━━━━━━━━━━━━━━━━\u001b[0m \u001b[32m519.0/519.0 kB\u001b[0m \u001b[31m8.2 MB/s\u001b[0m eta \u001b[36m0:00:00\u001b[0m\n",
            "\u001b[?25hCollecting accelerate\n",
            "  Downloading accelerate-0.19.0-py3-none-any.whl (219 kB)\n",
            "\u001b[2K     \u001b[90m━━━━━━━━━━━━━━━━━━━━━━━━━━━━━━━━━━━━━━\u001b[0m \u001b[32m219.1/219.1 kB\u001b[0m \u001b[31m11.0 MB/s\u001b[0m eta \u001b[36m0:00:00\u001b[0m\n",
            "\u001b[?25hRequirement already satisfied: numpy>=1.17 in /usr/local/lib/python3.10/dist-packages (from datasets) (1.22.4)\n",
            "Requirement already satisfied: pyarrow>=8.0.0 in /usr/local/lib/python3.10/dist-packages (from datasets) (9.0.0)\n",
            "Requirement already satisfied: dill<0.3.7,>=0.3.0 in /usr/local/lib/python3.10/dist-packages (from datasets) (0.3.6)\n",
            "Requirement already satisfied: pandas in /usr/local/lib/python3.10/dist-packages (from datasets) (1.5.3)\n",
            "Requirement already satisfied: requests>=2.19.0 in /usr/local/lib/python3.10/dist-packages (from datasets) (2.27.1)\n",
            "Requirement already satisfied: tqdm>=4.62.1 in /usr/local/lib/python3.10/dist-packages (from datasets) (4.65.0)\n",
            "Requirement already satisfied: xxhash in /usr/local/lib/python3.10/dist-packages (from datasets) (3.2.0)\n",
            "Requirement already satisfied: multiprocess in /usr/local/lib/python3.10/dist-packages (from datasets) (0.70.14)\n",
            "Requirement already satisfied: fsspec[http]>=2021.11.1 in /usr/local/lib/python3.10/dist-packages (from datasets) (2023.4.0)\n",
            "Requirement already satisfied: aiohttp in /usr/local/lib/python3.10/dist-packages (from datasets) (3.8.4)\n",
            "Requirement already satisfied: huggingface-hub<1.0.0,>=0.11.0 in /usr/local/lib/python3.10/dist-packages (from datasets) (0.14.1)\n",
            "Requirement already satisfied: packaging in /usr/local/lib/python3.10/dist-packages (from datasets) (23.1)\n",
            "Requirement already satisfied: responses<0.19 in /usr/local/lib/python3.10/dist-packages (from datasets) (0.18.0)\n",
            "Requirement already satisfied: pyyaml>=5.1 in /usr/local/lib/python3.10/dist-packages (from datasets) (6.0)\n",
            "Requirement already satisfied: cffi>=1.0 in /usr/local/lib/python3.10/dist-packages (from soundfile) (1.15.1)\n",
            "Collecting hyperpyyaml (from speechbrain)\n",
            "  Downloading HyperPyYAML-1.2.0-py3-none-any.whl (16 kB)\n",
            "Requirement already satisfied: joblib in /usr/local/lib/python3.10/dist-packages (from speechbrain) (1.2.0)\n",
            "Requirement already satisfied: scipy in /usr/local/lib/python3.10/dist-packages (from speechbrain) (1.10.1)\n",
            "Collecting sentencepiece (from speechbrain)\n",
            "  Downloading sentencepiece-0.1.99-cp310-cp310-manylinux_2_17_x86_64.manylinux2014_x86_64.whl (1.3 MB)\n",
            "\u001b[2K     \u001b[90m━━━━━━━━━━━━━━━━━━━━━━━━━━━━━━━━━━━━━━━━\u001b[0m \u001b[32m1.3/1.3 MB\u001b[0m \u001b[31m25.4 MB/s\u001b[0m eta \u001b[36m0:00:00\u001b[0m\n",
            "\u001b[?25hRequirement already satisfied: torch>=1.9 in /usr/local/lib/python3.10/dist-packages (from speechbrain) (2.0.1+cu118)\n",
            "Requirement already satisfied: torchaudio in /usr/local/lib/python3.10/dist-packages (from speechbrain) (2.0.2+cu118)\n",
            "Requirement already satisfied: psutil in /usr/local/lib/python3.10/dist-packages (from accelerate) (5.9.5)\n",
            "Requirement already satisfied: pycparser in /usr/local/lib/python3.10/dist-packages (from cffi>=1.0->soundfile) (2.21)\n",
            "Requirement already satisfied: attrs>=17.3.0 in /usr/local/lib/python3.10/dist-packages (from aiohttp->datasets) (23.1.0)\n",
            "Requirement already satisfied: charset-normalizer<4.0,>=2.0 in /usr/local/lib/python3.10/dist-packages (from aiohttp->datasets) (2.0.12)\n",
            "Requirement already satisfied: multidict<7.0,>=4.5 in /usr/local/lib/python3.10/dist-packages (from aiohttp->datasets) (6.0.4)\n",
            "Requirement already satisfied: async-timeout<5.0,>=4.0.0a3 in /usr/local/lib/python3.10/dist-packages (from aiohttp->datasets) (4.0.2)\n",
            "Requirement already satisfied: yarl<2.0,>=1.0 in /usr/local/lib/python3.10/dist-packages (from aiohttp->datasets) (1.9.2)\n",
            "Requirement already satisfied: frozenlist>=1.1.1 in /usr/local/lib/python3.10/dist-packages (from aiohttp->datasets) (1.3.3)\n",
            "Requirement already satisfied: aiosignal>=1.1.2 in /usr/local/lib/python3.10/dist-packages (from aiohttp->datasets) (1.3.1)\n",
            "Requirement already satisfied: filelock in /usr/local/lib/python3.10/dist-packages (from huggingface-hub<1.0.0,>=0.11.0->datasets) (3.12.0)\n",
            "Requirement already satisfied: typing-extensions>=3.7.4.3 in /usr/local/lib/python3.10/dist-packages (from huggingface-hub<1.0.0,>=0.11.0->datasets) (4.5.0)\n",
            "Requirement already satisfied: urllib3<1.27,>=1.21.1 in /usr/local/lib/python3.10/dist-packages (from requests>=2.19.0->datasets) (1.26.15)\n",
            "Requirement already satisfied: certifi>=2017.4.17 in /usr/local/lib/python3.10/dist-packages (from requests>=2.19.0->datasets) (2022.12.7)\n",
            "Requirement already satisfied: idna<4,>=2.5 in /usr/local/lib/python3.10/dist-packages (from requests>=2.19.0->datasets) (3.4)\n",
            "Requirement already satisfied: sympy in /usr/local/lib/python3.10/dist-packages (from torch>=1.9->speechbrain) (1.11.1)\n",
            "Requirement already satisfied: networkx in /usr/local/lib/python3.10/dist-packages (from torch>=1.9->speechbrain) (3.1)\n",
            "Requirement already satisfied: jinja2 in /usr/local/lib/python3.10/dist-packages (from torch>=1.9->speechbrain) (3.1.2)\n",
            "Requirement already satisfied: triton==2.0.0 in /usr/local/lib/python3.10/dist-packages (from torch>=1.9->speechbrain) (2.0.0)\n",
            "Requirement already satisfied: cmake in /usr/local/lib/python3.10/dist-packages (from triton==2.0.0->torch>=1.9->speechbrain) (3.25.2)\n",
            "Requirement already satisfied: lit in /usr/local/lib/python3.10/dist-packages (from triton==2.0.0->torch>=1.9->speechbrain) (16.0.5)\n",
            "Collecting ruamel.yaml>=0.17.8 (from hyperpyyaml->speechbrain)\n",
            "  Downloading ruamel.yaml-0.17.27-py3-none-any.whl (109 kB)\n",
            "\u001b[2K     \u001b[90m━━━━━━━━━━━━━━━━━━━━━━━━━━━━━━━━━━━━━━━\u001b[0m \u001b[32m109.5/109.5 kB\u001b[0m \u001b[31m6.7 MB/s\u001b[0m eta \u001b[36m0:00:00\u001b[0m\n",
            "\u001b[?25hRequirement already satisfied: python-dateutil>=2.8.1 in /usr/local/lib/python3.10/dist-packages (from pandas->datasets) (2.8.2)\n",
            "Requirement already satisfied: pytz>=2020.1 in /usr/local/lib/python3.10/dist-packages (from pandas->datasets) (2022.7.1)\n",
            "Requirement already satisfied: six>=1.5 in /usr/local/lib/python3.10/dist-packages (from python-dateutil>=2.8.1->pandas->datasets) (1.16.0)\n",
            "Collecting ruamel.yaml.clib>=0.2.7 (from ruamel.yaml>=0.17.8->hyperpyyaml->speechbrain)\n",
            "  Downloading ruamel.yaml.clib-0.2.7-cp310-cp310-manylinux_2_17_x86_64.manylinux2014_x86_64.manylinux_2_24_x86_64.whl (485 kB)\n",
            "\u001b[2K     \u001b[90m━━━━━━━━━━━━━━━━━━━━━━━━━━━━━━━━━━━━━━\u001b[0m \u001b[32m485.6/485.6 kB\u001b[0m \u001b[31m27.9 MB/s\u001b[0m eta \u001b[36m0:00:00\u001b[0m\n",
            "\u001b[?25hRequirement already satisfied: MarkupSafe>=2.0 in /usr/local/lib/python3.10/dist-packages (from jinja2->torch>=1.9->speechbrain) (2.1.2)\n",
            "Requirement already satisfied: mpmath>=0.19 in /usr/local/lib/python3.10/dist-packages (from sympy->torch>=1.9->speechbrain) (1.3.0)\n",
            "Installing collected packages: sentencepiece, ruamel.yaml.clib, ruamel.yaml, hyperpyyaml, speechbrain, accelerate\n",
            "Successfully installed accelerate-0.19.0 hyperpyyaml-1.2.0 ruamel.yaml-0.17.27 ruamel.yaml.clib-0.2.7 sentencepiece-0.1.99 speechbrain-0.5.14\n"
          ]
        }
      ]
    },
    {
      "cell_type": "code",
      "execution_count": null,
      "metadata": {
        "id": "8fccOJVt_oni",
        "outputId": "784e0c10-dc1a-4aa3-a6db-b6dedf9714be",
        "colab": {
          "base_uri": "https://localhost:8080/",
          "height": 359,
          "referenced_widgets": [
            "18cd43e9a85e4243a247ae37a3c28823",
            "22761bdd2c2342b18a9234b1ba7b4499",
            "55270ea3646c4ab3b66c47057045890f",
            "ce5af83af8d34b6193a95119b41471b2",
            "c500fd5909774be8b04853da50ffd023",
            "0d894be205f44fe8be4ad857ce96eb51",
            "9be64bb34b0c457dbb55aa91d3d5d492",
            "db2fbc9adab640f1a7fbbb3cbb00d5d3",
            "4d5429b962e040ed8a40a873b8c6fa4a",
            "340290ca4c55419abaf6fbf7f5d80b40",
            "fb8546c1e91c4930850220295303bd19",
            "69f8a3ff7ce24f27a2c6f7894b562c98",
            "73b87223b91243f3a09848f7b3ca6d7c",
            "d2b27dd5b5fc48838312db9a8f7adda8",
            "4bb24194625d49679ba5f7641a512eaa",
            "3a535c7ba618494683625776f2d383e0",
            "0baea5ed51f14ab1ae55d63312e008e0"
          ]
        }
      },
      "outputs": [
        {
          "output_type": "display_data",
          "data": {
            "text/plain": [
              "VBox(children=(HTML(value='<center> <img\\nsrc=https://huggingface.co/front/assets/huggingface_logo-noborder.sv…"
            ],
            "application/vnd.jupyter.widget-view+json": {
              "version_major": 2,
              "version_minor": 0,
              "model_id": "18cd43e9a85e4243a247ae37a3c28823"
            }
          },
          "metadata": {}
        }
      ],
      "source": [
        "from huggingface_hub import notebook_login\n",
        "\n",
        "notebook_login()"
      ]
    },
    {
      "cell_type": "markdown",
      "metadata": {
        "id": "qSFYpghJ_onj"
      },
      "source": [
        "##  Dataset loading"
      ]
    },
    {
      "cell_type": "markdown",
      "metadata": {
        "id": "Nsrro47z_onk"
      },
      "source": [
        "[VoxPopuli](https://huggingface.co/datasets/facebook/voxpopuli) is a large-scale multilingual speech corpus consisting of \n",
        "data sourced from 2009-2020 European Parliament event recordings. It contains labelled audio-transcription data for 15 \n",
        "European languages. In this guide, we are using the Dutch language subset."
      ]
    },
    {
      "cell_type": "code",
      "execution_count": null,
      "metadata": {
        "id": "a89nIgpf_onp"
      },
      "outputs": [],
      "source": [
        "from datasets import load_dataset, Audio\n",
        "\n",
        "dataset = load_dataset(\"facebook/voxpopuli\", \"nl\", split=\"train\")\n",
        "len(dataset)"
      ]
    },
    {
      "cell_type": "markdown",
      "metadata": {
        "id": "L1wE6poG_ons"
      },
      "source": [
        "20968 examples should be sufficient for fine-tuning. SpeechT5 expects audio data to have a sampling rate of 16 kHz, so \n",
        "make sure the examples in the dataset meet this requirement:"
      ]
    },
    {
      "cell_type": "code",
      "execution_count": null,
      "metadata": {
        "id": "UIAGEmMH_ont"
      },
      "outputs": [],
      "source": [
        "dataset = dataset.cast_column(\"audio\", Audio(sampling_rate=16000))"
      ]
    },
    {
      "cell_type": "markdown",
      "metadata": {
        "id": "_pAIWazA_onu"
      },
      "source": [
        "## Preprocess the data"
      ]
    },
    {
      "cell_type": "markdown",
      "metadata": {
        "id": "_RjdVe5l_onv"
      },
      "source": [
        "Let's begin by defining the model checkpoint to use and loading the appropriate processor:"
      ]
    },
    {
      "cell_type": "code",
      "execution_count": null,
      "metadata": {
        "id": "mDeIR9Iy_onx"
      },
      "outputs": [],
      "source": [
        "from transformers import SpeechT5Processor\n",
        "\n",
        "checkpoint = \"microsoft/speecht5_tts\"\n",
        "processor = SpeechT5Processor.from_pretrained(checkpoint)"
      ]
    },
    {
      "cell_type": "markdown",
      "metadata": {
        "id": "jmStZNPc_on0"
      },
      "source": [
        "### Text cleanup for SpeechT5 tokenization "
      ]
    },
    {
      "cell_type": "markdown",
      "metadata": {
        "id": "SylwpGyK_on3"
      },
      "source": [
        "Start by cleaning up the text data. We'll need the tokenizer part of the processor to process the text:"
      ]
    },
    {
      "cell_type": "code",
      "execution_count": null,
      "metadata": {
        "id": "PipiLlOA_on4"
      },
      "outputs": [],
      "source": [
        "tokenizer = processor.tokenizer"
      ]
    },
    {
      "cell_type": "markdown",
      "metadata": {
        "id": "qHUm17I8_on5"
      },
      "source": [
        "The dataset examples contain `raw_text` and `normalized_text` features. When deciding which feature to use as the text input, \n",
        "we have to consider that the SpeechT5 tokenizer doesn't have any tokens for numbers. In `normalized_text` the numbers are written \n",
        "out as text. Thus, it is a better fit, and we will use    `normalized_text` as input text.\n",
        "\n",
        "Because SpeechT5 was trained on the English language, it may not recognize certain characters in the Dutch dataset. If \n",
        "left as is, these characters will be converted to `<unk>` tokens. However, in Dutch, certain characters like `à` are \n",
        "used to stress syllables. In order to preserve the meaning of the text, we can replace this character with a regular `a`.\n",
        "\n",
        "To identify unsupported tokens, extract all unique characters in the dataset using the `SpeechT5Tokenizer` which \n",
        "works with characters as tokens. To do this, write the `extract_all_chars` mapping function that concatenates \n",
        "the transcriptions from all examples into one string and converts it to a set of characters. \n",
        "Make sure to set `batched=True` and `batch_size=-1` in `dataset.map()` so that all transcriptions are available at once for \n",
        "the mapping function."
      ]
    },
    {
      "cell_type": "code",
      "execution_count": null,
      "metadata": {
        "id": "W27ktSfp_on8",
        "outputId": "c60aa9d5-1bc9-4900-9376-518b33ad1d5d",
        "colab": {
          "base_uri": "https://localhost:8080/",
          "height": 17,
          "referenced_widgets": [
            "f75fecf52ced4a3ab804ea459014d91a",
            "03c93c55782d490ea261767c2c99802f",
            "e1bec6f2fdc8436882e17953b696b61e",
            "61d98a3075bf4790aa9f92c2c9e67159",
            "850ff5397ba44873aef40c924fb864f6",
            "e361de9d6aa441efad0a20f9397f094b",
            "b75362a67a034ca6bd47af932aaeb2b0",
            "703aeb1a50c142fb82373e9b987d5510",
            "a24e817f89b844cda00354f96fde43eb",
            "82d4df62ecaf4d1292d3bbcf71275aef",
            "574439c5286b4a3f8ee1166a7106e354"
          ]
        }
      },
      "outputs": [
        {
          "output_type": "display_data",
          "data": {
            "text/plain": [
              "Map:   0%|          | 0/20968 [00:00<?, ? examples/s]"
            ],
            "application/vnd.jupyter.widget-view+json": {
              "version_major": 2,
              "version_minor": 0,
              "model_id": "f75fecf52ced4a3ab804ea459014d91a"
            }
          },
          "metadata": {}
        }
      ],
      "source": [
        "def extract_all_chars(batch):\n",
        "    all_text = \" \".join(batch[\"normalized_text\"])\n",
        "    vocab = list(set(all_text))\n",
        "    return {\"vocab\": [vocab], \"all_text\": [all_text]}\n",
        "\n",
        "\n",
        "vocabs = dataset.map(\n",
        "    extract_all_chars,\n",
        "    batched=True,\n",
        "    batch_size=-1,\n",
        "    keep_in_memory=True,\n",
        "    remove_columns=dataset.column_names,\n",
        ")\n",
        "\n",
        "dataset_vocab = set(vocabs[\"vocab\"][0])\n",
        "tokenizer_vocab = {k for k, _ in tokenizer.get_vocab().items()}"
      ]
    },
    {
      "cell_type": "markdown",
      "metadata": {
        "id": "C9_qO8JL_on9"
      },
      "source": [
        "Now we have two sets of characters: one with the vocabulary from the dataset and one with the vocabulary from the tokenizer. \n",
        "To identify any unsupported characters in the dataset, we can take the difference between these two sets. The resulting \n",
        "set will contain the characters that are in the dataset but not in the tokenizer."
      ]
    },
    {
      "cell_type": "code",
      "execution_count": null,
      "metadata": {
        "id": "5b31rvLb_on-",
        "outputId": "a906c690-a7e9-4eb8-c0a5-48cfb28e07e7",
        "colab": {
          "base_uri": "https://localhost:8080/"
        }
      },
      "outputs": [
        {
          "output_type": "execute_result",
          "data": {
            "text/plain": [
              "{' ', 'à', 'ç', 'è', 'ë', 'í', 'ï', 'ö', 'ü'}"
            ]
          },
          "metadata": {},
          "execution_count": 75
        }
      ],
      "source": [
        "dataset_vocab - tokenizer_vocab"
      ]
    },
    {
      "cell_type": "markdown",
      "metadata": {
        "id": "3Rr_Q2EL_on_"
      },
      "source": [
        "To handle the unsupported characters identified in the previous step, we define a function that maps these characters to \n",
        "valid tokens. Note that spaces are already replaced by `▁` in the tokenizer and don't need to be handled separately."
      ]
    },
    {
      "cell_type": "code",
      "execution_count": null,
      "metadata": {
        "id": "SKZYY-bM_ooA",
        "outputId": "bf5796b4-3a11-402f-cd07-5c875b1d77be",
        "colab": {
          "base_uri": "https://localhost:8080/"
        }
      },
      "outputs": [
        {
          "output_type": "stream",
          "name": "stderr",
          "text": [
            "WARNING:datasets.arrow_dataset:Loading cached processed dataset at /root/.cache/huggingface/datasets/facebook___voxpopuli/nl/1.3.0/b5ff837284f0778eefe0f642734e142d8c3f574eba8c9c8a4b13602297f73604/cache-cb5343d2d02a4d17.arrow\n"
          ]
        }
      ],
      "source": [
        "replacements = [\n",
        "    (\"à\", \"a\"),\n",
        "    (\"ç\", \"c\"),\n",
        "    (\"è\", \"e\"),\n",
        "    (\"ë\", \"e\"),\n",
        "    (\"í\", \"i\"),\n",
        "    (\"ï\", \"i\"),\n",
        "    (\"ö\", \"o\"),\n",
        "    (\"ü\", \"u\"),\n",
        "]\n",
        "\n",
        "\n",
        "def cleanup_text(inputs):\n",
        "    for src, dst in replacements:\n",
        "        inputs[\"normalized_text\"] = inputs[\"normalized_text\"].replace(src, dst)\n",
        "    return inputs\n",
        "\n",
        "\n",
        "dataset = dataset.map(cleanup_text)"
      ]
    },
    {
      "cell_type": "markdown",
      "metadata": {
        "id": "V2ILOpLu_ooB"
      },
      "source": [
        "Now that we have to dealt with special characters in the text, it's time to shift focus to the audio data."
      ]
    },
    {
      "cell_type": "markdown",
      "metadata": {
        "id": "FSANLXF5_ooC"
      },
      "source": [
        "### Speakers"
      ]
    },
    {
      "cell_type": "markdown",
      "metadata": {
        "id": "jBusJU0n_ooC"
      },
      "source": [
        "The VoxPopuli dataset includes speech from multiple speakers, but how many speakers are represented in the dataset? To \n",
        "determine this, we can count the number of unique speakers and the number of examples each speaker contributes to the dataset. \n",
        "With a total of 20,968 examples in the dataset, this information will give us a better understanding of the distribution of \n",
        "speakers and examples in the data."
      ]
    },
    {
      "cell_type": "code",
      "execution_count": null,
      "metadata": {
        "id": "yTYkjHWp_ooD"
      },
      "outputs": [],
      "source": [
        "from collections import defaultdict\n",
        "\n",
        "speaker_counts = defaultdict(int)\n",
        "\n",
        "for speaker_id in dataset[\"speaker_id\"]:\n",
        "    speaker_counts[speaker_id] += 1"
      ]
    },
    {
      "cell_type": "code",
      "execution_count": null,
      "metadata": {
        "id": "oLpz53La_ooJ",
        "outputId": "ebb03e83-3d6a-4742-817c-d27b778c278f",
        "colab": {
          "base_uri": "https://localhost:8080/"
        }
      },
      "outputs": [
        {
          "output_type": "stream",
          "name": "stderr",
          "text": [
            "WARNING:datasets.arrow_dataset:Loading cached processed dataset at /root/.cache/huggingface/datasets/facebook___voxpopuli/nl/1.3.0/b5ff837284f0778eefe0f642734e142d8c3f574eba8c9c8a4b13602297f73604/cache-ad493c12c5db8fa8.arrow\n"
          ]
        }
      ],
      "source": [
        "def select_speaker(speaker_id):\n",
        "    return 100 <= speaker_counts[speaker_id] <= 400\n",
        "\n",
        "\n",
        "dataset = dataset.filter(select_speaker, input_columns=[\"speaker_id\"])"
      ]
    },
    {
      "cell_type": "markdown",
      "metadata": {
        "id": "Xzvsavo6_ooL"
      },
      "source": [
        "Let's check how many speakers remain:"
      ]
    },
    {
      "cell_type": "code",
      "execution_count": null,
      "metadata": {
        "id": "W_qcnLO8_ooL",
        "outputId": "9aeddac7-077f-41ff-8cd0-08366dfbd5d9",
        "colab": {
          "base_uri": "https://localhost:8080/"
        }
      },
      "outputs": [
        {
          "output_type": "execute_result",
          "data": {
            "text/plain": [
              "42"
            ]
          },
          "metadata": {},
          "execution_count": 80
        }
      ],
      "source": [
        "len(set(dataset[\"speaker_id\"]))"
      ]
    },
    {
      "cell_type": "markdown",
      "metadata": {
        "id": "CAd9vHnX_ooM"
      },
      "source": [
        "Let's see how many examples are left:"
      ]
    },
    {
      "cell_type": "code",
      "execution_count": null,
      "metadata": {
        "id": "zqI58bNI_ooM",
        "outputId": "bc2243e5-e5d4-4c14-fccd-9553f6893f03",
        "colab": {
          "base_uri": "https://localhost:8080/"
        }
      },
      "outputs": [
        {
          "output_type": "execute_result",
          "data": {
            "text/plain": [
              "9973"
            ]
          },
          "metadata": {},
          "execution_count": 81
        }
      ],
      "source": [
        "len(dataset)"
      ]
    },
    {
      "cell_type": "markdown",
      "metadata": {
        "id": "yFb2B8JZ_ooO"
      },
      "source": [
        "### Speaker embeddings"
      ]
    },
    {
      "cell_type": "markdown",
      "metadata": {
        "id": "q4gStSub_ooP"
      },
      "source": [
        "To enable the TTS model to differentiate between multiple speakers, we'll need to create a speaker embedding for each example. \n",
        "The speaker embedding is an additional input into the model that captures a particular speaker's voice characteristics.\n",
        "To generate these speaker embeddings, we use the pre-trained [spkrec-xvect-voxceleb](https://huggingface.co/speechbrain/spkrec-xvect-voxceleb) \n",
        "model from SpeechBrain. \n",
        "\n",
        "Create a function `create_speaker_embedding()` that takes an input audio waveform and outputs a 512-element vector \n",
        "containing the corresponding speaker embedding."
      ]
    },
    {
      "cell_type": "code",
      "execution_count": null,
      "metadata": {
        "id": "ha7PvFUc_ooP"
      },
      "outputs": [],
      "source": [
        "import os\n",
        "import torch\n",
        "from speechbrain.pretrained import EncoderClassifier\n",
        "\n",
        "spk_model_name = \"speechbrain/spkrec-xvect-voxceleb\"\n",
        "\n",
        "device = \"cuda\" if torch.cuda.is_available() else \"cpu\"\n",
        "speaker_model = EncoderClassifier.from_hparams(\n",
        "    source=spk_model_name,\n",
        "    run_opts={\"device\": device},\n",
        "    savedir=os.path.join(\"/tmp\", spk_model_name),\n",
        ")\n",
        "\n",
        "\n",
        "def create_speaker_embedding(waveform):\n",
        "    with torch.no_grad():\n",
        "        speaker_embeddings = speaker_model.encode_batch(torch.tensor(waveform))\n",
        "        speaker_embeddings = torch.nn.functional.normalize(speaker_embeddings, dim=2)\n",
        "        speaker_embeddings = speaker_embeddings.squeeze().cpu().numpy()\n",
        "    return speaker_embeddings"
      ]
    },
    {
      "cell_type": "markdown",
      "metadata": {
        "id": "C1kW4N0u_ooQ"
      },
      "source": [
        "### Processing the dataset"
      ]
    },
    {
      "cell_type": "markdown",
      "metadata": {
        "id": "ETT3uLwJ_ooh"
      },
      "source": [
        "Finally, let's process the data into the format the model expects. here we will create a `prepare_dataset` function that takes in a \n",
        "single example and uses the `SpeechT5Processor` object to tokenize the input text and load the target audio into a log-mel spectrogram. \n",
        "It should also add the speaker embeddings as an additional input."
      ]
    },
    {
      "cell_type": "code",
      "execution_count": null,
      "metadata": {
        "id": "iVP3oxxT_ooi"
      },
      "outputs": [],
      "source": [
        "def prepare_dataset(example):\n",
        "    audio = example[\"audio\"]\n",
        "\n",
        "    example = processor(\n",
        "        text=example[\"normalized_text\"],\n",
        "        audio_target=audio[\"array\"],\n",
        "        sampling_rate=audio[\"sampling_rate\"],\n",
        "        return_attention_mask=False,\n",
        "    )\n",
        "\n",
        "    # strip off the batch dimension\n",
        "    example[\"labels\"] = example[\"labels\"][0]\n",
        "\n",
        "    # use SpeechBrain to obtain x-vector\n",
        "    example[\"speaker_embeddings\"] = create_speaker_embedding(audio[\"array\"])\n",
        "\n",
        "    return example"
      ]
    },
    {
      "cell_type": "markdown",
      "metadata": {
        "id": "FgTcu9gi_oom"
      },
      "source": [
        "Now we will Verify the processing is correct by looking at a single example:"
      ]
    },
    {
      "cell_type": "code",
      "execution_count": null,
      "metadata": {
        "id": "p2Id_z75_oot",
        "outputId": "378e141e-10d7-4f04-9752-ef56bbbf2e6f",
        "colab": {
          "base_uri": "https://localhost:8080/"
        }
      },
      "outputs": [
        {
          "output_type": "execute_result",
          "data": {
            "text/plain": [
              "['input_ids', 'labels', 'speaker_embeddings']"
            ]
          },
          "metadata": {},
          "execution_count": 84
        }
      ],
      "source": [
        "processed_example = prepare_dataset(dataset[0])\n",
        "list(processed_example.keys())"
      ]
    },
    {
      "cell_type": "markdown",
      "metadata": {
        "id": "ArunvDWD_oov"
      },
      "source": [
        "Speaker embeddings should be a 512-element vector:"
      ]
    },
    {
      "cell_type": "code",
      "execution_count": null,
      "metadata": {
        "id": "E7n2t81a_oow",
        "outputId": "da84d2da-cf7d-4d0f-83d3-de2739a06e7d",
        "colab": {
          "base_uri": "https://localhost:8080/"
        }
      },
      "outputs": [
        {
          "output_type": "execute_result",
          "data": {
            "text/plain": [
              "(512,)"
            ]
          },
          "metadata": {},
          "execution_count": 85
        }
      ],
      "source": [
        "processed_example[\"speaker_embeddings\"].shape"
      ]
    },
    {
      "cell_type": "code",
      "execution_count": null,
      "metadata": {
        "id": "2AC_HtLN_oo3",
        "outputId": "0ed56c0e-239e-42c0-c213-7df22f8f16d3",
        "colab": {
          "base_uri": "https://localhost:8080/"
        }
      },
      "outputs": [
        {
          "output_type": "stream",
          "name": "stderr",
          "text": [
            "WARNING:datasets.arrow_dataset:Loading cached processed dataset at /root/.cache/huggingface/datasets/facebook___voxpopuli/nl/1.3.0/b5ff837284f0778eefe0f642734e142d8c3f574eba8c9c8a4b13602297f73604/cache-ff8e7888f0ac4858.arrow\n"
          ]
        }
      ],
      "source": [
        "dataset = dataset.map(prepare_dataset, remove_columns=dataset.column_names)"
      ]
    },
    {
      "cell_type": "code",
      "execution_count": null,
      "metadata": {
        "id": "yRSq7l6P_oo7",
        "outputId": "e127a74e-463c-4efa-848c-be1823035e60",
        "colab": {
          "base_uri": "https://localhost:8080/"
        }
      },
      "outputs": [
        {
          "output_type": "stream",
          "name": "stderr",
          "text": [
            "WARNING:datasets.arrow_dataset:Loading cached processed dataset at /root/.cache/huggingface/datasets/facebook___voxpopuli/nl/1.3.0/b5ff837284f0778eefe0f642734e142d8c3f574eba8c9c8a4b13602297f73604/cache-628e2f2e464d7362.arrow\n"
          ]
        },
        {
          "output_type": "execute_result",
          "data": {
            "text/plain": [
              "8259"
            ]
          },
          "metadata": {},
          "execution_count": 88
        }
      ],
      "source": [
        "def is_not_too_long(input_ids):\n",
        "    input_length = len(input_ids)\n",
        "    return input_length < 200\n",
        "\n",
        "\n",
        "dataset = dataset.filter(is_not_too_long, input_columns=[\"input_ids\"])\n",
        "len(dataset)"
      ]
    },
    {
      "cell_type": "markdown",
      "metadata": {
        "id": "yIrvhfLK_oo8"
      },
      "source": [
        "Next, we will create a basic train/test split:"
      ]
    },
    {
      "cell_type": "code",
      "execution_count": null,
      "metadata": {
        "id": "aQHW1m-c_oo9"
      },
      "outputs": [],
      "source": [
        "dataset = dataset.train_test_split(test_size=0.1)"
      ]
    },
    {
      "cell_type": "markdown",
      "metadata": {
        "id": "rU6ec0xa_opA"
      },
      "source": [
        "### Data collator"
      ]
    },
    {
      "cell_type": "markdown",
      "metadata": {
        "id": "I1EDuxY__opB"
      },
      "source": [
        "In order to combine multiple examples into a batch, we need to define a custom data collator. This collator will pad shorter sequences with padding \n",
        "tokens, ensuring that all examples have the same length. For the spectrogram labels, the padded portions are replaced with the special value `-100`. This special value \n",
        "instructs the model to ignore that part of the spectrogram when calculating the spectrogram loss."
      ]
    },
    {
      "cell_type": "code",
      "execution_count": null,
      "metadata": {
        "id": "WL1rende_opC"
      },
      "outputs": [],
      "source": [
        "from dataclasses import dataclass\n",
        "from typing import Any, Dict, List, Union\n",
        "\n",
        "\n",
        "@dataclass\n",
        "class TTSDataCollatorWithPadding:\n",
        "    processor: Any\n",
        "\n",
        "    def __call__(self, features: List[Dict[str, Union[List[int], torch.Tensor]]]) -> Dict[str, torch.Tensor]:\n",
        "        input_ids = [{\"input_ids\": feature[\"input_ids\"]} for feature in features]\n",
        "        label_features = [{\"input_values\": feature[\"labels\"]} for feature in features]\n",
        "        speaker_features = [feature[\"speaker_embeddings\"] for feature in features]\n",
        "\n",
        "        # collate the inputs and targets into a batch\n",
        "        batch = processor.pad(input_ids=input_ids, labels=label_features, return_tensors=\"pt\")\n",
        "\n",
        "        # replace padding with -100 to ignore loss correctly\n",
        "        batch[\"labels\"] = batch[\"labels\"].masked_fill(batch.decoder_attention_mask.unsqueeze(-1).ne(1), -100)\n",
        "\n",
        "        # not used during fine-tuning\n",
        "        del batch[\"decoder_attention_mask\"]\n",
        "\n",
        "        # round down target lengths to multiple of reduction factor\n",
        "        if model.config.reduction_factor > 1:\n",
        "            target_lengths = torch.tensor([len(feature[\"input_values\"]) for feature in label_features])\n",
        "            target_lengths = target_lengths.new(\n",
        "                [length - length % model.config.reduction_factor for length in target_lengths]\n",
        "            )\n",
        "            max_length = max(target_lengths)\n",
        "            batch[\"labels\"] = batch[\"labels\"][:, :max_length]\n",
        "\n",
        "        # also add in the speaker embeddings\n",
        "        batch[\"speaker_embeddings\"] = torch.tensor(speaker_features)\n",
        "\n",
        "        return batch"
      ]
    },
    {
      "cell_type": "markdown",
      "metadata": {
        "id": "VQQTpxHk_opD"
      },
      "source": [
        "In SpeechT5, the input to the decoder part of the model is reduced by a factor 2. In other words, it throws away every \n",
        "other timestep from the target sequence. The decoder then predicts a sequence that is twice as long. Since the original \n",
        "target sequence length may be odd, the data collator makes sure to round the maximum length of the batch down to be a \n",
        "multiple of 2."
      ]
    },
    {
      "cell_type": "code",
      "execution_count": null,
      "metadata": {
        "id": "iuMAGmtb_opG"
      },
      "outputs": [],
      "source": [
        "data_collator = TTSDataCollatorWithPadding(processor=processor)"
      ]
    },
    {
      "cell_type": "markdown",
      "metadata": {
        "id": "SmEHyGnU_opH"
      },
      "source": [
        "## Train the model"
      ]
    },
    {
      "cell_type": "markdown",
      "metadata": {
        "id": "Qj_AeB84_opJ"
      },
      "source": [
        "Now we will load the pre-trained model from the same checkpoint as we used for loading the processor:"
      ]
    },
    {
      "cell_type": "code",
      "execution_count": null,
      "metadata": {
        "id": "TK_2S1fh_opM"
      },
      "outputs": [],
      "source": [
        "from transformers import SpeechT5ForTextToSpeech\n",
        "\n",
        "model = SpeechT5ForTextToSpeech.from_pretrained(checkpoint)"
      ]
    },
    {
      "cell_type": "markdown",
      "metadata": {
        "id": "ecn9vTag_opM"
      },
      "source": [
        "The `use_cache=True` option is incompatible with gradient checkpointing. we will disable it for training."
      ]
    },
    {
      "cell_type": "code",
      "execution_count": null,
      "metadata": {
        "id": "YSpLCyrx_opN"
      },
      "outputs": [],
      "source": [
        "model.config.use_cache = False"
      ]
    },
    {
      "cell_type": "markdown",
      "metadata": {
        "id": "jQn2Qzn9_opO"
      },
      "source": [
        "Define the training arguments. Here we are not computing any evaluation metrics during the training process. Instead, we'll \n",
        "only look at the loss:"
      ]
    },
    {
      "cell_type": "code",
      "execution_count": null,
      "metadata": {
        "id": "ZQuHA2tQ_opO"
      },
      "outputs": [],
      "source": [
        "from transformers import Seq2SeqTrainingArguments\n",
        "\n",
        "training_args = Seq2SeqTrainingArguments(\n",
        "    output_dir=\"speecht5_finetuned_voxpopuli_nl\",  # change to a repo name of your choice\n",
        "    per_device_train_batch_size=4,\n",
        "    gradient_accumulation_steps=8,\n",
        "    learning_rate=1e-5,\n",
        "    warmup_steps=500,\n",
        "    max_steps=4000,\n",
        "    gradient_checkpointing=True,\n",
        "    fp16=True,\n",
        "    evaluation_strategy=\"steps\",\n",
        "    per_device_eval_batch_size=2,\n",
        "    save_steps=1000,\n",
        "    eval_steps=1000,\n",
        "    logging_steps=25,\n",
        "    report_to=[\"tensorboard\"],\n",
        "    load_best_model_at_end=True,\n",
        "    greater_is_better=False,\n",
        "    label_names=[\"labels\"],\n",
        "    push_to_hub=True,\n",
        ")"
      ]
    },
    {
      "cell_type": "markdown",
      "metadata": {
        "id": "4jGhxPr5_opP"
      },
      "source": [
        "Now we will instantiate the `Trainer` object  and pass the model, dataset, and data collator to it."
      ]
    },
    {
      "cell_type": "code",
      "execution_count": null,
      "metadata": {
        "id": "KPCrsImR_opQ",
        "outputId": "7ffb1940-d7d2-437b-b409-0dc66b92139e",
        "colab": {
          "base_uri": "https://localhost:8080/"
        }
      },
      "outputs": [
        {
          "output_type": "stream",
          "name": "stderr",
          "text": [
            "/content/speecht5_finetuned_voxpopuli_nl is already a clone of https://huggingface.co/SurendraKumarDhaka/speecht5_finetuned_voxpopuli_nl. Make sure you pull the latest changes with `repo.git_pull()`.\n",
            "WARNING:huggingface_hub.repository:/content/speecht5_finetuned_voxpopuli_nl is already a clone of https://huggingface.co/SurendraKumarDhaka/speecht5_finetuned_voxpopuli_nl. Make sure you pull the latest changes with `repo.git_pull()`.\n"
          ]
        }
      ],
      "source": [
        "from transformers import Seq2SeqTrainer\n",
        "\n",
        "trainer = Seq2SeqTrainer(\n",
        "    args=training_args,\n",
        "    model=model,\n",
        "    train_dataset=dataset[\"train\"],\n",
        "    eval_dataset=dataset[\"test\"],\n",
        "    data_collator=data_collator,\n",
        "    tokenizer=processor,\n",
        ")"
      ]
    },
    {
      "cell_type": "markdown",
      "source": [
        "#Training"
      ],
      "metadata": {
        "id": "A0EAXBFD7dv8"
      }
    },
    {
      "cell_type": "code",
      "execution_count": null,
      "metadata": {
        "id": "R-Li0cxT_opR",
        "outputId": "03221906-46d0-4489-a87e-c8fd2219c63a",
        "colab": {
          "base_uri": "https://localhost:8080/",
          "height": 411
        }
      },
      "outputs": [
        {
          "metadata": {
            "tags": null
          },
          "name": "stderr",
          "output_type": "stream",
          "text": [
            "/usr/local/lib/python3.10/dist-packages/transformers/optimization.py:407: FutureWarning: This implementation of AdamW is deprecated and will be removed in a future version. Use the PyTorch implementation torch.optim.AdamW instead, or set `no_deprecation_warning=True` to disable this warning\n",
            "  warnings.warn(\n"
          ]
        },
        {
          "data": {
            "text/html": [
              "\n",
              "    <div>\n",
              "      \n",
              "      <progress value='2975' max='4000' style='width:300px; height:20px; vertical-align: middle;'></progress>\n",
              "      [2975/4000 1:49:01 < 37:35, 0.45 it/s, Epoch 12.80/18]\n",
              "    </div>\n",
              "    <table border=\"1\" class=\"dataframe\">\n",
              "  <thead>\n",
              " <tr style=\"text-align: left;\">\n",
              "      <th>Step</th>\n",
              "      <th>Training Loss</th>\n",
              "      <th>Validation Loss</th>\n",
              "    </tr>\n",
              "  </thead>\n",
              "  <tbody>\n",
              "    <tr>\n",
              "      <td>1000</td>\n",
              "      <td>0.523500</td>\n",
              "      <td>0.479455</td>\n",
              "    </tr>\n",
              "    <tr>\n",
              "      <td>2000</td>\n",
              "      <td>0.501300</td>\n",
              "      <td>0.466575</td>\n",
              "    </tr>\n",
              "  </tbody>\n",
              "</table><p>"
            ],
            "text/plain": [
              "<IPython.core.display.HTML object>"
            ]
          },
          "metadata": {},
          "output_type": "display_data"
        },
        {
          "output_type": "display_data",
          "data": {
            "text/plain": [
              "<IPython.core.display.HTML object>"
            ],
            "text/html": [
              "\n",
              "    <div>\n",
              "      \n",
              "      <progress value='4000' max='4000' style='width:300px; height:20px; vertical-align: middle;'></progress>\n",
              "      [4000/4000 2:29:36, Epoch 17/18]\n",
              "    </div>\n",
              "    <table border=\"1\" class=\"dataframe\">\n",
              "  <thead>\n",
              " <tr style=\"text-align: left;\">\n",
              "      <th>Step</th>\n",
              "      <th>Training Loss</th>\n",
              "      <th>Validation Loss</th>\n",
              "    </tr>\n",
              "  </thead>\n",
              "  <tbody>\n",
              "    <tr>\n",
              "      <td>1000</td>\n",
              "      <td>0.523500</td>\n",
              "      <td>0.479455</td>\n",
              "    </tr>\n",
              "    <tr>\n",
              "      <td>2000</td>\n",
              "      <td>0.501300</td>\n",
              "      <td>0.466575</td>\n",
              "    </tr>\n",
              "    <tr>\n",
              "      <td>3000</td>\n",
              "      <td>0.493300</td>\n",
              "      <td>0.460710</td>\n",
              "    </tr>\n",
              "    <tr>\n",
              "      <td>4000</td>\n",
              "      <td>0.485700</td>\n",
              "      <td>0.459464</td>\n",
              "    </tr>\n",
              "  </tbody>\n",
              "</table><p>"
            ]
          },
          "metadata": {}
        },
        {
          "output_type": "execute_result",
          "data": {
            "text/plain": [
              "TrainOutput(global_step=4000, training_loss=0.5225280311107635, metrics={'train_runtime': 8980.6135, 'train_samples_per_second': 14.253, 'train_steps_per_second': 0.445, 'total_flos': 1.6992227696948856e+16, 'train_loss': 0.5225280311107635, 'epoch': 17.21})"
            ]
          },
          "metadata": {},
          "execution_count": 96
        }
      ],
      "source": [
        "trainer.train()"
      ]
    },
    {
      "cell_type": "markdown",
      "metadata": {
        "id": "RIuG4IF2_opS"
      },
      "source": [
        "Now we will push the final model to the Hugging face Hub:"
      ]
    },
    {
      "cell_type": "code",
      "execution_count": null,
      "metadata": {
        "id": "IDieEwwf_opT",
        "outputId": "435e05d1-33cd-40e8-e982-92d88faadbf2",
        "colab": {
          "base_uri": "https://localhost:8080/",
          "height": 377,
          "referenced_widgets": [
            "a90353e63b0d41c49b5c60fbd8b0e057",
            "d2d541fbd9b14cc6ad406b00c5189066",
            "eba8b3903d2f4380b21b1125d3e81cf8",
            "87a4c70b093749afafcf5d68bc10c6cb",
            "f73ab91ff1cc4ba8bcdca6fd03740559",
            "df50caf28e5e467b8166c6f1420543c9",
            "b2f83dc479fc444d980f203bc8e1803f",
            "cbc1fa6544594d6e9b4c4e7796f6beef",
            "cb31ccbc919743558290c831f2a1dd4b",
            "b4edac9522ac401d82579763bb58397f",
            "0284870836684b858a68492ef490b996",
            "d75ffc79eda4441a99360887254a7e7e",
            "1cb9cc5b899244a6a120c5a38da5981c",
            "46ec6566b9f34c70a14199657cad3907",
            "516b472fa43f49bb946e9bf34932ed1d",
            "b07d56449e6e48f08cb82558c74f4472",
            "4753d803545c401382c9fb7bb231832b",
            "5731c1de7e41434e9bdf1d031b576429",
            "3496a92bca1245c4b8b211b2c075e9a7",
            "a571c75c3ff64df49aa84561a74f9743",
            "dace56f89cd24917a916ff2aeca3845d",
            "2066f6b0bb3544369400a7da4e62c2c1"
          ]
        }
      },
      "outputs": [
        {
          "output_type": "stream",
          "name": "stderr",
          "text": [
            "Several commits (2) will be pushed upstream.\n",
            "WARNING:huggingface_hub.repository:Several commits (2) will be pushed upstream.\n",
            "The progress bars may be unreliable.\n",
            "WARNING:huggingface_hub.repository:The progress bars may be unreliable.\n"
          ]
        },
        {
          "output_type": "display_data",
          "data": {
            "text/plain": [
              "Upload file pytorch_model.bin:   0%|          | 1.00/558M [00:00<?, ?B/s]"
            ],
            "application/vnd.jupyter.widget-view+json": {
              "version_major": 2,
              "version_minor": 0,
              "model_id": "a90353e63b0d41c49b5c60fbd8b0e057"
            }
          },
          "metadata": {}
        },
        {
          "output_type": "display_data",
          "data": {
            "text/plain": [
              "Upload file runs/May25_09-24-25_36dcc00bf32b/events.out.tfevents.1685006668.36dcc00bf32b.175.4:   0%|         …"
            ],
            "application/vnd.jupyter.widget-view+json": {
              "version_major": 2,
              "version_minor": 0,
              "model_id": "d75ffc79eda4441a99360887254a7e7e"
            }
          },
          "metadata": {}
        },
        {
          "output_type": "stream",
          "name": "stderr",
          "text": [
            "To https://huggingface.co/SurendraKumarDhaka/speecht5_finetuned_voxpopuli_nl\n",
            "   54d58e0..4aeb34e  main -> main\n",
            "\n",
            "WARNING:huggingface_hub.repository:To https://huggingface.co/SurendraKumarDhaka/speecht5_finetuned_voxpopuli_nl\n",
            "   54d58e0..4aeb34e  main -> main\n",
            "\n",
            "To https://huggingface.co/SurendraKumarDhaka/speecht5_finetuned_voxpopuli_nl\n",
            "   4aeb34e..503898a  main -> main\n",
            "\n",
            "WARNING:huggingface_hub.repository:To https://huggingface.co/SurendraKumarDhaka/speecht5_finetuned_voxpopuli_nl\n",
            "   4aeb34e..503898a  main -> main\n",
            "\n"
          ]
        },
        {
          "output_type": "execute_result",
          "data": {
            "text/plain": [
              "'https://huggingface.co/SurendraKumarDhaka/speecht5_finetuned_voxpopuli_nl/commit/4aeb34ed5ff194f72c5a7a6a30525de2f72efc7e'"
            ],
            "application/vnd.google.colaboratory.intrinsic+json": {
              "type": "string"
            }
          },
          "metadata": {},
          "execution_count": 97
        }
      ],
      "source": [
        "trainer.push_to_hub()"
      ]
    },
    {
      "cell_type": "markdown",
      "metadata": {
        "id": "Rzl_xLnE_opU"
      },
      "source": [
        "## Inference"
      ]
    },
    {
      "cell_type": "markdown",
      "metadata": {
        "id": "aJq2t-Vb_opV"
      },
      "source": [
        "Now we have fine-tuned a model, we can use it for inference!\n",
        "For that we will load the model from the Hub."
      ]
    },
    {
      "cell_type": "code",
      "source": [
        "from transformers import SpeechT5Processor, SpeechT5ForSpeechToSpeech, SpeechT5HifiGan,SpeechT5ForTextToSpeech\n"
      ],
      "metadata": {
        "id": "5uyGRsNN9biS"
      },
      "execution_count": null,
      "outputs": []
    },
    {
      "cell_type": "code",
      "source": [
        "from transformers import SpeechT5Processor\n",
        "checkpoint = \"microsoft/speecht5_tts\"\n",
        "processor = SpeechT5Processor.from_pretrained(checkpoint)"
      ],
      "metadata": {
        "colab": {
          "base_uri": "https://localhost:8080/",
          "height": 177,
          "referenced_widgets": [
            "abe0216bb23a4ad688e16f434be40c96",
            "72fe01f674a743468d8cc574b46356ad",
            "8376c24096d34eb99f163be9ecf56069",
            "59ac08a7ac194740aed19c0d7496fe1f",
            "ccd959db3bd4452bbf40f05b7341b9a8",
            "dbec924b2fab4206a9a3cf92d591ce97",
            "5087e595b9874acca5dd0a7f6e02301b",
            "6c9bec3513ae43cd9e4b630d7deedaa8",
            "459c6211f7d84c1a96d804284165ff80",
            "8c4be9b75fa64c628e569a3442c70512",
            "25d13690b60a4b08aeee0d9924ff7bba",
            "0daa6b33a7344ceaa77f427e8f5f3636",
            "a09360ed8d2f4968a4042ccb16362c92",
            "ca9952e896d3461a906e9b2966577ced",
            "963dbca7ff354a16980cd2eb79cda891",
            "bace869c7db14ff0bd00aa9904fd0227",
            "be2724a10019458093ef597504240bf2",
            "b7aa0c39e066409bbfdbe76ce29434b9",
            "02586f39b5344f59b28388979fce19df",
            "81d68795333e47f9a2a4b0dee0242e65",
            "a01710328f774f7c8eac52730030bc5c",
            "8a7f3937476b45868ecda5f1e3e6b79f",
            "54fd1c2b04024bbeb4573b9c96442d10",
            "40678fc22f2446fa9778e25353247e70",
            "0cd579dcc1274d28af4db5764869d3ce",
            "8f52495a44b94000b84d893300821b35",
            "089be0a374c5498c9a1dc3cb74470d35",
            "f9d12bbf903444bda0d01069ca35c1bd",
            "9416a2c756984ed4bf1cc283cc439a2f",
            "6cd2730c50b941799a1e13d0f27540a2",
            "9a9dc486df9a4bffaff690390fb7ab76",
            "bc73086ab9c64b57a8942f1d0ce32837",
            "87de6010ec3244dbb746f9dd07776f4f",
            "8fcbbc390f6441138ae92c51076ad1f7",
            "332724923b3d4afb843b78a2b45cdd32",
            "1de733dd6a3e47c99276c7c2f0cd0741",
            "d8ba75ff07f54ed7846c96e404b64b72",
            "6d61904f592f4382a2830b9187718970",
            "27a5066340984bc8ad1b6ecaf82b8d45",
            "010bf9d4deeb4b7ba67d171cbaec87be",
            "47e080830d0043718979ac83f76b4894",
            "7d1159d824e24ddbb24a113b8d626dc9",
            "e917251480714403893ea35d7ee988ba",
            "13472f33275640a6812c3fe847695bcb",
            "de4904dce0aa47858ee7d67bc416a94b",
            "3d5a609189b2430198eff3ca8ad58310",
            "ff4adb2b004f44f69a7cbd7185164fef",
            "1d58d5ce3fbf4f249742beba2b68c966",
            "75d1e2b14c284aaf841944f76031decb",
            "7996082ea67948b38c407b74df8191f7",
            "f489b489d7f84e8c8bb7a0f38f43a38a",
            "b0c50456c3ed497ea882c3b7a7b7fde2",
            "a86bafdaf1b945b18255233258aab2cb",
            "ea087183b76d4194bf40bb83320d158d",
            "f8689b380c324f508bd7df7362321dde"
          ]
        },
        "id": "O9iEZDJ8-gTK",
        "outputId": "3f273b6b-0ad9-423f-a98e-196a268fd117"
      },
      "execution_count": null,
      "outputs": [
        {
          "output_type": "display_data",
          "data": {
            "text/plain": [
              "Downloading (…)rocessor_config.json:   0%|          | 0.00/433 [00:00<?, ?B/s]"
            ],
            "application/vnd.jupyter.widget-view+json": {
              "version_major": 2,
              "version_minor": 0,
              "model_id": "abe0216bb23a4ad688e16f434be40c96"
            }
          },
          "metadata": {}
        },
        {
          "output_type": "display_data",
          "data": {
            "text/plain": [
              "Downloading spm_char.model:   0%|          | 0.00/238k [00:00<?, ?B/s]"
            ],
            "application/vnd.jupyter.widget-view+json": {
              "version_major": 2,
              "version_minor": 0,
              "model_id": "0daa6b33a7344ceaa77f427e8f5f3636"
            }
          },
          "metadata": {}
        },
        {
          "output_type": "display_data",
          "data": {
            "text/plain": [
              "Downloading (…)in/added_tokens.json:   0%|          | 0.00/40.0 [00:00<?, ?B/s]"
            ],
            "application/vnd.jupyter.widget-view+json": {
              "version_major": 2,
              "version_minor": 0,
              "model_id": "54fd1c2b04024bbeb4573b9c96442d10"
            }
          },
          "metadata": {}
        },
        {
          "output_type": "display_data",
          "data": {
            "text/plain": [
              "Downloading (…)cial_tokens_map.json:   0%|          | 0.00/234 [00:00<?, ?B/s]"
            ],
            "application/vnd.jupyter.widget-view+json": {
              "version_major": 2,
              "version_minor": 0,
              "model_id": "8fcbbc390f6441138ae92c51076ad1f7"
            }
          },
          "metadata": {}
        },
        {
          "output_type": "display_data",
          "data": {
            "text/plain": [
              "Downloading (…)okenizer_config.json:   0%|          | 0.00/232 [00:00<?, ?B/s]"
            ],
            "application/vnd.jupyter.widget-view+json": {
              "version_major": 2,
              "version_minor": 0,
              "model_id": "de4904dce0aa47858ee7d67bc416a94b"
            }
          },
          "metadata": {}
        }
      ]
    },
    {
      "cell_type": "code",
      "execution_count": null,
      "metadata": {
        "id": "johXBdpn_opW",
        "colab": {
          "base_uri": "https://localhost:8080/",
          "height": 81,
          "referenced_widgets": [
            "cabe0b6fe6cb4fe9995f16482977c1c0",
            "ddd33f34e6d14f679dbe169b63a562a3",
            "24a493c909e142e39c76841e9a3732d5",
            "244364665ae14e68b631ca064273c1ba",
            "078bb2fd562d458d98d53126b7d6a3aa",
            "3dd969eb46ee4dfb91e93cf561a281f4",
            "b4133e23c9154bc1bfe78b3c25d369c8",
            "f36d3590638346fe948cc550e2451ffc",
            "17b71f54d62748e49578457447a8922c",
            "d32f177899754360a46f9adf3d7b0b02",
            "ad05875a53c549feacdcefb40580f436",
            "be794a5c59df493abb133e37d738aa08",
            "59565f9ece1a4d82872f2cb14eb0b586",
            "f9893a73d7b549aa84e227b337466d22",
            "b5e8065e08b146b3862c45b98d1f5ef2",
            "67b1abe46fad4afc8042e026eaff3f65",
            "4c533e8e87ce406e9ad07ea11f28af90",
            "52f8af080d664ef99d030004dd63b63d",
            "6f5fd1f4e740438dbc67bd9ff72e1388",
            "b074eb9d95f14829834512e8caff7124",
            "ea814c9358d5424abfdeac42c9eeebc8",
            "fd47f0d10bbd45c0a48e6ae4e35b4c14"
          ]
        },
        "outputId": "5f5934cd-b396-4135-b185-fcc47f050967"
      },
      "outputs": [
        {
          "output_type": "display_data",
          "data": {
            "text/plain": [
              "Downloading (…)lve/main/config.json:   0%|          | 0.00/2.11k [00:00<?, ?B/s]"
            ],
            "application/vnd.jupyter.widget-view+json": {
              "version_major": 2,
              "version_minor": 0,
              "model_id": "cabe0b6fe6cb4fe9995f16482977c1c0"
            }
          },
          "metadata": {}
        },
        {
          "output_type": "display_data",
          "data": {
            "text/plain": [
              "Downloading pytorch_model.bin:   0%|          | 0.00/585M [00:00<?, ?B/s]"
            ],
            "application/vnd.jupyter.widget-view+json": {
              "version_major": 2,
              "version_minor": 0,
              "model_id": "be794a5c59df493abb133e37d738aa08"
            }
          },
          "metadata": {}
        }
      ],
      "source": [
        "model = SpeechT5ForTextToSpeech.from_pretrained(\"SurendraKumarDhaka/speecht5_finetuned_voxpopuli_nl\")"
      ]
    },
    {
      "cell_type": "markdown",
      "metadata": {
        "id": "vlZoV4K7_opX"
      },
      "source": [
        "Pick an example, here we'll take one from the test dataset. Obtain a speaker embedding."
      ]
    },
    {
      "cell_type": "code",
      "source": [
        "import numpy as np\n",
        "import torch\n",
        "from datasets import load_dataset\n",
        "embeddings_dataset = load_dataset(\"Matthijs/cmu-arctic-xvectors\", split=\"validation\")\n",
        "speaker_embeddings = torch.tensor(embeddings_dataset[7310][\"xvector\"]).unsqueeze(0)"
      ],
      "metadata": {
        "id": "SWM19sr88Nbs",
        "outputId": "c89ac4da-085f-4ad5-9370-bf50a47f0cf0",
        "colab": {
          "base_uri": "https://localhost:8080/",
          "height": 168,
          "referenced_widgets": [
            "ca5c497dd555442bbc6136292d9f17cf",
            "e7e4b63fa7704754b337c1344bde41e8",
            "cbac5960459743239935fb4ac612d7f3",
            "6f6697d330734844bad3f201b4c6545d",
            "587ce1f989554b43919df7486cc8fe0e",
            "515e3134168347848231b7a577f9bd81",
            "6851a051e5364ed5bbe361002d1a544b",
            "09d158bc127e40ae83b7a85515d2b116",
            "6398f36b6fc34afb980b5ed8e8fb3167",
            "2d45f05701c34fe0af18f1fad4bb045e",
            "80fad8449327466e97db6781022b723a",
            "9d6b8451bcc646539df0638746cf208c",
            "65aa36f4aa964ff0a27b4f7f03e63bee",
            "4eaef9a1f0c749628af07802a7375f11",
            "bcc64fedcb66492190ce2237431b4a62",
            "7a25f906a8734944959a4ac8dc822b2b",
            "2f3202e1c83e4050a59733878b93cc61",
            "04a92a84fed3419ab577b01d0a82c865",
            "e9f9b2bc78b0472b841deed856c5555d",
            "1179703362164e9b86a634699896c6c5",
            "14ff164bb8af400b9a795ae2f2e8ef10",
            "a3585050da9b4e9e81b8b39d6fbcda6a",
            "1ed16b1fa8c2458f90e08b28d6fcb024",
            "ae4e9e47961a422ab00ed30ba5431c70",
            "b39fd5be0195414392ec317ff6a7a2ff",
            "c627b4d5017a477593812a8dbe388f9c",
            "2ecd3f59d5494c9583fadebdd4e4a987",
            "3676758f39aa4c16b2b4a2d0c85665b3",
            "c6e9afc860584bba84f5d2eb53f75d6f",
            "3079bb3c58934d88b26ec59870639183",
            "6ff59c4c019848619e20acf18b0c6fe0",
            "e1682825169d4f55a07c4d68b9cf80e9",
            "1e572adef890474fa41d22a8e6a1c273",
            "d95f1e9bccca4f59bf2299b4c807f631",
            "ba8005c0dbdd4e5692eb54005964f72a",
            "aa5981c180d24017bf8cc6d67b4efa14",
            "58ccda674b4f488eb57dd4240c9eacd3",
            "1f99a1bdfeda4618ab3b1107db630ebe",
            "4c76f36bc11d4f88ac87c9cfccf67d50",
            "791e5089f92a44b294db786699634ceb",
            "e35aaf2b4d16400b9ad6489f7e05040f",
            "39bc5f0c9e8744f0a5f0c13b4994ad03",
            "3e03ccb457eb49f09af1f1a7d21a48b6",
            "99a184f53ea84bebbe7e475322f7d4ec"
          ]
        }
      },
      "execution_count": null,
      "outputs": [
        {
          "output_type": "display_data",
          "data": {
            "text/plain": [
              "Downloading builder script:   0%|          | 0.00/1.36k [00:00<?, ?B/s]"
            ],
            "application/vnd.jupyter.widget-view+json": {
              "version_major": 2,
              "version_minor": 0,
              "model_id": "ca5c497dd555442bbc6136292d9f17cf"
            }
          },
          "metadata": {}
        },
        {
          "output_type": "display_data",
          "data": {
            "text/plain": [
              "Downloading readme:   0%|          | 0.00/1.01k [00:00<?, ?B/s]"
            ],
            "application/vnd.jupyter.widget-view+json": {
              "version_major": 2,
              "version_minor": 0,
              "model_id": "9d6b8451bcc646539df0638746cf208c"
            }
          },
          "metadata": {}
        },
        {
          "output_type": "stream",
          "name": "stdout",
          "text": [
            "Downloading and preparing dataset cmu-arctic-xvectors/default to /root/.cache/huggingface/datasets/Matthijs___cmu-arctic-xvectors/default/0.0.1/a62fea1f9415e240301ea0042ffad2a3aadf4d1caa7f9a8d9512d631723e781f...\n"
          ]
        },
        {
          "output_type": "display_data",
          "data": {
            "text/plain": [
              "Downloading data:   0%|          | 0.00/17.9M [00:00<?, ?B/s]"
            ],
            "application/vnd.jupyter.widget-view+json": {
              "version_major": 2,
              "version_minor": 0,
              "model_id": "1ed16b1fa8c2458f90e08b28d6fcb024"
            }
          },
          "metadata": {}
        },
        {
          "output_type": "display_data",
          "data": {
            "text/plain": [
              "Generating validation split: 0 examples [00:00, ? examples/s]"
            ],
            "application/vnd.jupyter.widget-view+json": {
              "version_major": 2,
              "version_minor": 0,
              "model_id": "d95f1e9bccca4f59bf2299b4c807f631"
            }
          },
          "metadata": {}
        },
        {
          "output_type": "stream",
          "name": "stdout",
          "text": [
            "Dataset cmu-arctic-xvectors downloaded and prepared to /root/.cache/huggingface/datasets/Matthijs___cmu-arctic-xvectors/default/0.0.1/a62fea1f9415e240301ea0042ffad2a3aadf4d1caa7f9a8d9512d631723e781f. Subsequent calls will reuse this data.\n"
          ]
        }
      ]
    },
    {
      "cell_type": "code",
      "source": [
        "speaker_embeddings = np.load(\"cmu_us_slt_arctic-wav-arctic_a0499.npy\")"
      ],
      "metadata": {
        "id": "Rs5c2PxqeX2i"
      },
      "execution_count": null,
      "outputs": []
    },
    {
      "cell_type": "code",
      "execution_count": null,
      "metadata": {
        "id": "fQ9fATqi_opb"
      },
      "outputs": [],
      "source": [
        "text = \"Wikipedia is a free online encyclopedia, created and edited by volunteers around the world and hosted by the Wikimedia Foundation.\""
      ]
    },
    {
      "cell_type": "markdown",
      "metadata": {
        "id": "Fw_k-diX_ope"
      },
      "source": [
        "Preprocess the input text:"
      ]
    },
    {
      "cell_type": "code",
      "execution_count": null,
      "metadata": {
        "id": "Ebq9--Dt_opf"
      },
      "outputs": [],
      "source": [
        "inputs = processor(text=text, return_tensors=\"pt\")"
      ]
    },
    {
      "cell_type": "markdown",
      "metadata": {
        "id": "vSXSfTXM_oph"
      },
      "source": [
        "Create a spectrogram with your model:"
      ]
    },
    {
      "cell_type": "code",
      "execution_count": null,
      "metadata": {
        "id": "-iwYSQud_opi"
      },
      "outputs": [],
      "source": [
        "spectrogram = model.generate_speech(inputs[\"input_ids\"], speaker_embeddings)"
      ]
    },
    {
      "cell_type": "markdown",
      "metadata": {
        "id": "ZfAHIIX__opj"
      },
      "source": [
        "Visualize the spectrogram, if you'd like to:"
      ]
    },
    {
      "cell_type": "code",
      "source": [
        "from transformers import SpeechT5HifiGan\n",
        "vocoder = SpeechT5HifiGan.from_pretrained(\"microsoft/speecht5_hifigan\")\n"
      ],
      "metadata": {
        "id": "RRu9_c8AAxY3"
      },
      "execution_count": null,
      "outputs": []
    },
    {
      "cell_type": "code",
      "execution_count": null,
      "metadata": {
        "colab": {
          "base_uri": "https://localhost:8080/",
          "height": 75
        },
        "id": "Ryr3qGUh_opl",
        "outputId": "baff54f2-38c9-403d-f4e6-ece7e1b71917"
      },
      "outputs": [
        {
          "output_type": "execute_result",
          "data": {
            "text/plain": [
              "<IPython.lib.display.Audio object>"
            ],
            "text/html": [
              "\n",
              "                <audio  controls=\"controls\" >\n",
              "                    <source src=\"data:audio/wav;base64,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\" type=\"audio/wav\" />\n",
              "                    Your browser does not support the audio element.\n",
              "                </audio>\n",
              "              "
            ]
          },
          "metadata": {},
          "execution_count": 46
        }
      ],
      "source": [
        "with torch.no_grad():\n",
        "    speech = vocoder(spectrogram)\n",
        "    import soundfile as sf\n",
        "    sf.write(\"speech.wav\", speech.numpy(), samplerate=16000)\n",
        "\n",
        "from IPython.display import Audio\n",
        "\n",
        "Audio(speech.numpy(), rate=16000)"
      ]
    },
    {
      "cell_type": "code",
      "source": [
        "import soundfile as sf\n",
        "sf.write(\"speech.wav\", speech.numpy(), samplerate=16000)"
      ],
      "metadata": {
        "id": "60Bh4flo9Ucs"
      },
      "execution_count": null,
      "outputs": []
    }
  ],
  "metadata": {
    "colab": {
      "provenance": [],
      "gpuType": "T4"
    },
    "language_info": {
      "name": "python"
    },
    "kernelspec": {
      "name": "python3",
      "display_name": "Python 3"
    },
    "gpuClass": "standard",
    "accelerator": "GPU",
    "widgets": {
      "application/vnd.jupyter.widget-state+json": {
        "f75fecf52ced4a3ab804ea459014d91a": {
          "model_module": "@jupyter-widgets/controls",
          "model_name": "HBoxModel",
          "model_module_version": "1.5.0",
          "state": {
            "_dom_classes": [],
            "_model_module": "@jupyter-widgets/controls",
            "_model_module_version": "1.5.0",
            "_model_name": "HBoxModel",
            "_view_count": null,
            "_view_module": "@jupyter-widgets/controls",
            "_view_module_version": "1.5.0",
            "_view_name": "HBoxView",
            "box_style": "",
            "children": [
              "IPY_MODEL_03c93c55782d490ea261767c2c99802f",
              "IPY_MODEL_e1bec6f2fdc8436882e17953b696b61e",
              "IPY_MODEL_61d98a3075bf4790aa9f92c2c9e67159"
            ],
            "layout": "IPY_MODEL_850ff5397ba44873aef40c924fb864f6"
          }
        },
        "03c93c55782d490ea261767c2c99802f": {
          "model_module": "@jupyter-widgets/controls",
          "model_name": "HTMLModel",
          "model_module_version": "1.5.0",
          "state": {
            "_dom_classes": [],
            "_model_module": "@jupyter-widgets/controls",
            "_model_module_version": "1.5.0",
            "_model_name": "HTMLModel",
            "_view_count": null,
            "_view_module": "@jupyter-widgets/controls",
            "_view_module_version": "1.5.0",
            "_view_name": "HTMLView",
            "description": "",
            "description_tooltip": null,
            "layout": "IPY_MODEL_e361de9d6aa441efad0a20f9397f094b",
            "placeholder": "​",
            "style": "IPY_MODEL_b75362a67a034ca6bd47af932aaeb2b0",
            "value": "Map: 100%"
          }
        },
        "e1bec6f2fdc8436882e17953b696b61e": {
          "model_module": "@jupyter-widgets/controls",
          "model_name": "FloatProgressModel",
          "model_module_version": "1.5.0",
          "state": {
            "_dom_classes": [],
            "_model_module": "@jupyter-widgets/controls",
            "_model_module_version": "1.5.0",
            "_model_name": "FloatProgressModel",
            "_view_count": null,
            "_view_module": "@jupyter-widgets/controls",
            "_view_module_version": "1.5.0",
            "_view_name": "ProgressView",
            "bar_style": "",
            "description": "",
            "description_tooltip": null,
            "layout": "IPY_MODEL_703aeb1a50c142fb82373e9b987d5510",
            "max": 20968,
            "min": 0,
            "orientation": "horizontal",
            "style": "IPY_MODEL_a24e817f89b844cda00354f96fde43eb",
            "value": 20968
          }
        },
        "61d98a3075bf4790aa9f92c2c9e67159": {
          "model_module": "@jupyter-widgets/controls",
          "model_name": "HTMLModel",
          "model_module_version": "1.5.0",
          "state": {
            "_dom_classes": [],
            "_model_module": "@jupyter-widgets/controls",
            "_model_module_version": "1.5.0",
            "_model_name": "HTMLModel",
            "_view_count": null,
            "_view_module": "@jupyter-widgets/controls",
            "_view_module_version": "1.5.0",
            "_view_name": "HTMLView",
            "description": "",
            "description_tooltip": null,
            "layout": "IPY_MODEL_82d4df62ecaf4d1292d3bbcf71275aef",
            "placeholder": "​",
            "style": "IPY_MODEL_574439c5286b4a3f8ee1166a7106e354",
            "value": " 20968/20968 [00:00&lt;00:00, 146685.98 examples/s]"
          }
        },
        "850ff5397ba44873aef40c924fb864f6": {
          "model_module": "@jupyter-widgets/base",
          "model_name": "LayoutModel",
          "model_module_version": "1.2.0",
          "state": {
            "_model_module": "@jupyter-widgets/base",
            "_model_module_version": "1.2.0",
            "_model_name": "LayoutModel",
            "_view_count": null,
            "_view_module": "@jupyter-widgets/base",
            "_view_module_version": "1.2.0",
            "_view_name": "LayoutView",
            "align_content": null,
            "align_items": null,
            "align_self": null,
            "border": null,
            "bottom": null,
            "display": null,
            "flex": null,
            "flex_flow": null,
            "grid_area": null,
            "grid_auto_columns": null,
            "grid_auto_flow": null,
            "grid_auto_rows": null,
            "grid_column": null,
            "grid_gap": null,
            "grid_row": null,
            "grid_template_areas": null,
            "grid_template_columns": null,
            "grid_template_rows": null,
            "height": null,
            "justify_content": null,
            "justify_items": null,
            "left": null,
            "margin": null,
            "max_height": null,
            "max_width": null,
            "min_height": null,
            "min_width": null,
            "object_fit": null,
            "object_position": null,
            "order": null,
            "overflow": null,
            "overflow_x": null,
            "overflow_y": null,
            "padding": null,
            "right": null,
            "top": null,
            "visibility": "hidden",
            "width": null
          }
        },
        "e361de9d6aa441efad0a20f9397f094b": {
          "model_module": "@jupyter-widgets/base",
          "model_name": "LayoutModel",
          "model_module_version": "1.2.0",
          "state": {
            "_model_module": "@jupyter-widgets/base",
            "_model_module_version": "1.2.0",
            "_model_name": "LayoutModel",
            "_view_count": null,
            "_view_module": "@jupyter-widgets/base",
            "_view_module_version": "1.2.0",
            "_view_name": "LayoutView",
            "align_content": null,
            "align_items": null,
            "align_self": null,
            "border": null,
            "bottom": null,
            "display": null,
            "flex": null,
            "flex_flow": null,
            "grid_area": null,
            "grid_auto_columns": null,
            "grid_auto_flow": null,
            "grid_auto_rows": null,
            "grid_column": null,
            "grid_gap": null,
            "grid_row": null,
            "grid_template_areas": null,
            "grid_template_columns": null,
            "grid_template_rows": null,
            "height": null,
            "justify_content": null,
            "justify_items": null,
            "left": null,
            "margin": null,
            "max_height": null,
            "max_width": null,
            "min_height": null,
            "min_width": null,
            "object_fit": null,
            "object_position": null,
            "order": null,
            "overflow": null,
            "overflow_x": null,
            "overflow_y": null,
            "padding": null,
            "right": null,
            "top": null,
            "visibility": null,
            "width": null
          }
        },
        "b75362a67a034ca6bd47af932aaeb2b0": {
          "model_module": "@jupyter-widgets/controls",
          "model_name": "DescriptionStyleModel",
          "model_module_version": "1.5.0",
          "state": {
            "_model_module": "@jupyter-widgets/controls",
            "_model_module_version": "1.5.0",
            "_model_name": "DescriptionStyleModel",
            "_view_count": null,
            "_view_module": "@jupyter-widgets/base",
            "_view_module_version": "1.2.0",
            "_view_name": "StyleView",
            "description_width": ""
          }
        },
        "703aeb1a50c142fb82373e9b987d5510": {
          "model_module": "@jupyter-widgets/base",
          "model_name": "LayoutModel",
          "model_module_version": "1.2.0",
          "state": {
            "_model_module": "@jupyter-widgets/base",
            "_model_module_version": "1.2.0",
            "_model_name": "LayoutModel",
            "_view_count": null,
            "_view_module": "@jupyter-widgets/base",
            "_view_module_version": "1.2.0",
            "_view_name": "LayoutView",
            "align_content": null,
            "align_items": null,
            "align_self": null,
            "border": null,
            "bottom": null,
            "display": null,
            "flex": null,
            "flex_flow": null,
            "grid_area": null,
            "grid_auto_columns": null,
            "grid_auto_flow": null,
            "grid_auto_rows": null,
            "grid_column": null,
            "grid_gap": null,
            "grid_row": null,
            "grid_template_areas": null,
            "grid_template_columns": null,
            "grid_template_rows": null,
            "height": null,
            "justify_content": null,
            "justify_items": null,
            "left": null,
            "margin": null,
            "max_height": null,
            "max_width": null,
            "min_height": null,
            "min_width": null,
            "object_fit": null,
            "object_position": null,
            "order": null,
            "overflow": null,
            "overflow_x": null,
            "overflow_y": null,
            "padding": null,
            "right": null,
            "top": null,
            "visibility": null,
            "width": null
          }
        },
        "a24e817f89b844cda00354f96fde43eb": {
          "model_module": "@jupyter-widgets/controls",
          "model_name": "ProgressStyleModel",
          "model_module_version": "1.5.0",
          "state": {
            "_model_module": "@jupyter-widgets/controls",
            "_model_module_version": "1.5.0",
            "_model_name": "ProgressStyleModel",
            "_view_count": null,
            "_view_module": "@jupyter-widgets/base",
            "_view_module_version": "1.2.0",
            "_view_name": "StyleView",
            "bar_color": null,
            "description_width": ""
          }
        },
        "82d4df62ecaf4d1292d3bbcf71275aef": {
          "model_module": "@jupyter-widgets/base",
          "model_name": "LayoutModel",
          "model_module_version": "1.2.0",
          "state": {
            "_model_module": "@jupyter-widgets/base",
            "_model_module_version": "1.2.0",
            "_model_name": "LayoutModel",
            "_view_count": null,
            "_view_module": "@jupyter-widgets/base",
            "_view_module_version": "1.2.0",
            "_view_name": "LayoutView",
            "align_content": null,
            "align_items": null,
            "align_self": null,
            "border": null,
            "bottom": null,
            "display": null,
            "flex": null,
            "flex_flow": null,
            "grid_area": null,
            "grid_auto_columns": null,
            "grid_auto_flow": null,
            "grid_auto_rows": null,
            "grid_column": null,
            "grid_gap": null,
            "grid_row": null,
            "grid_template_areas": null,
            "grid_template_columns": null,
            "grid_template_rows": null,
            "height": null,
            "justify_content": null,
            "justify_items": null,
            "left": null,
            "margin": null,
            "max_height": null,
            "max_width": null,
            "min_height": null,
            "min_width": null,
            "object_fit": null,
            "object_position": null,
            "order": null,
            "overflow": null,
            "overflow_x": null,
            "overflow_y": null,
            "padding": null,
            "right": null,
            "top": null,
            "visibility": null,
            "width": null
          }
        },
        "574439c5286b4a3f8ee1166a7106e354": {
          "model_module": "@jupyter-widgets/controls",
          "model_name": "DescriptionStyleModel",
          "model_module_version": "1.5.0",
          "state": {
            "_model_module": "@jupyter-widgets/controls",
            "_model_module_version": "1.5.0",
            "_model_name": "DescriptionStyleModel",
            "_view_count": null,
            "_view_module": "@jupyter-widgets/base",
            "_view_module_version": "1.2.0",
            "_view_name": "StyleView",
            "description_width": ""
          }
        },
        "a90353e63b0d41c49b5c60fbd8b0e057": {
          "model_module": "@jupyter-widgets/controls",
          "model_name": "HBoxModel",
          "model_module_version": "1.5.0",
          "state": {
            "_dom_classes": [],
            "_model_module": "@jupyter-widgets/controls",
            "_model_module_version": "1.5.0",
            "_model_name": "HBoxModel",
            "_view_count": null,
            "_view_module": "@jupyter-widgets/controls",
            "_view_module_version": "1.5.0",
            "_view_name": "HBoxView",
            "box_style": "",
            "children": [
              "IPY_MODEL_d2d541fbd9b14cc6ad406b00c5189066",
              "IPY_MODEL_eba8b3903d2f4380b21b1125d3e81cf8",
              "IPY_MODEL_87a4c70b093749afafcf5d68bc10c6cb"
            ],
            "layout": "IPY_MODEL_f73ab91ff1cc4ba8bcdca6fd03740559"
          }
        },
        "d2d541fbd9b14cc6ad406b00c5189066": {
          "model_module": "@jupyter-widgets/controls",
          "model_name": "HTMLModel",
          "model_module_version": "1.5.0",
          "state": {
            "_dom_classes": [],
            "_model_module": "@jupyter-widgets/controls",
            "_model_module_version": "1.5.0",
            "_model_name": "HTMLModel",
            "_view_count": null,
            "_view_module": "@jupyter-widgets/controls",
            "_view_module_version": "1.5.0",
            "_view_name": "HTMLView",
            "description": "",
            "description_tooltip": null,
            "layout": "IPY_MODEL_df50caf28e5e467b8166c6f1420543c9",
            "placeholder": "​",
            "style": "IPY_MODEL_b2f83dc479fc444d980f203bc8e1803f",
            "value": "Upload file pytorch_model.bin: 100%"
          }
        },
        "eba8b3903d2f4380b21b1125d3e81cf8": {
          "model_module": "@jupyter-widgets/controls",
          "model_name": "FloatProgressModel",
          "model_module_version": "1.5.0",
          "state": {
            "_dom_classes": [],
            "_model_module": "@jupyter-widgets/controls",
            "_model_module_version": "1.5.0",
            "_model_name": "FloatProgressModel",
            "_view_count": null,
            "_view_module": "@jupyter-widgets/controls",
            "_view_module_version": "1.5.0",
            "_view_name": "ProgressView",
            "bar_style": "success",
            "description": "",
            "description_tooltip": null,
            "layout": "IPY_MODEL_cbc1fa6544594d6e9b4c4e7796f6beef",
            "max": 585485317,
            "min": 0,
            "orientation": "horizontal",
            "style": "IPY_MODEL_cb31ccbc919743558290c831f2a1dd4b",
            "value": 585485317
          }
        },
        "87a4c70b093749afafcf5d68bc10c6cb": {
          "model_module": "@jupyter-widgets/controls",
          "model_name": "HTMLModel",
          "model_module_version": "1.5.0",
          "state": {
            "_dom_classes": [],
            "_model_module": "@jupyter-widgets/controls",
            "_model_module_version": "1.5.0",
            "_model_name": "HTMLModel",
            "_view_count": null,
            "_view_module": "@jupyter-widgets/controls",
            "_view_module_version": "1.5.0",
            "_view_name": "HTMLView",
            "description": "",
            "description_tooltip": null,
            "layout": "IPY_MODEL_b4edac9522ac401d82579763bb58397f",
            "placeholder": "​",
            "style": "IPY_MODEL_0284870836684b858a68492ef490b996",
            "value": " 558M/558M [00:24&lt;00:00, 22.0MB/s]"
          }
        },
        "f73ab91ff1cc4ba8bcdca6fd03740559": {
          "model_module": "@jupyter-widgets/base",
          "model_name": "LayoutModel",
          "model_module_version": "1.2.0",
          "state": {
            "_model_module": "@jupyter-widgets/base",
            "_model_module_version": "1.2.0",
            "_model_name": "LayoutModel",
            "_view_count": null,
            "_view_module": "@jupyter-widgets/base",
            "_view_module_version": "1.2.0",
            "_view_name": "LayoutView",
            "align_content": null,
            "align_items": null,
            "align_self": null,
            "border": null,
            "bottom": null,
            "display": null,
            "flex": null,
            "flex_flow": null,
            "grid_area": null,
            "grid_auto_columns": null,
            "grid_auto_flow": null,
            "grid_auto_rows": null,
            "grid_column": null,
            "grid_gap": null,
            "grid_row": null,
            "grid_template_areas": null,
            "grid_template_columns": null,
            "grid_template_rows": null,
            "height": null,
            "justify_content": null,
            "justify_items": null,
            "left": null,
            "margin": null,
            "max_height": null,
            "max_width": null,
            "min_height": null,
            "min_width": null,
            "object_fit": null,
            "object_position": null,
            "order": null,
            "overflow": null,
            "overflow_x": null,
            "overflow_y": null,
            "padding": null,
            "right": null,
            "top": null,
            "visibility": null,
            "width": null
          }
        },
        "df50caf28e5e467b8166c6f1420543c9": {
          "model_module": "@jupyter-widgets/base",
          "model_name": "LayoutModel",
          "model_module_version": "1.2.0",
          "state": {
            "_model_module": "@jupyter-widgets/base",
            "_model_module_version": "1.2.0",
            "_model_name": "LayoutModel",
            "_view_count": null,
            "_view_module": "@jupyter-widgets/base",
            "_view_module_version": "1.2.0",
            "_view_name": "LayoutView",
            "align_content": null,
            "align_items": null,
            "align_self": null,
            "border": null,
            "bottom": null,
            "display": null,
            "flex": null,
            "flex_flow": null,
            "grid_area": null,
            "grid_auto_columns": null,
            "grid_auto_flow": null,
            "grid_auto_rows": null,
            "grid_column": null,
            "grid_gap": null,
            "grid_row": null,
            "grid_template_areas": null,
            "grid_template_columns": null,
            "grid_template_rows": null,
            "height": null,
            "justify_content": null,
            "justify_items": null,
            "left": null,
            "margin": null,
            "max_height": null,
            "max_width": null,
            "min_height": null,
            "min_width": null,
            "object_fit": null,
            "object_position": null,
            "order": null,
            "overflow": null,
            "overflow_x": null,
            "overflow_y": null,
            "padding": null,
            "right": null,
            "top": null,
            "visibility": null,
            "width": null
          }
        },
        "b2f83dc479fc444d980f203bc8e1803f": {
          "model_module": "@jupyter-widgets/controls",
          "model_name": "DescriptionStyleModel",
          "model_module_version": "1.5.0",
          "state": {
            "_model_module": "@jupyter-widgets/controls",
            "_model_module_version": "1.5.0",
            "_model_name": "DescriptionStyleModel",
            "_view_count": null,
            "_view_module": "@jupyter-widgets/base",
            "_view_module_version": "1.2.0",
            "_view_name": "StyleView",
            "description_width": ""
          }
        },
        "cbc1fa6544594d6e9b4c4e7796f6beef": {
          "model_module": "@jupyter-widgets/base",
          "model_name": "LayoutModel",
          "model_module_version": "1.2.0",
          "state": {
            "_model_module": "@jupyter-widgets/base",
            "_model_module_version": "1.2.0",
            "_model_name": "LayoutModel",
            "_view_count": null,
            "_view_module": "@jupyter-widgets/base",
            "_view_module_version": "1.2.0",
            "_view_name": "LayoutView",
            "align_content": null,
            "align_items": null,
            "align_self": null,
            "border": null,
            "bottom": null,
            "display": null,
            "flex": null,
            "flex_flow": null,
            "grid_area": null,
            "grid_auto_columns": null,
            "grid_auto_flow": null,
            "grid_auto_rows": null,
            "grid_column": null,
            "grid_gap": null,
            "grid_row": null,
            "grid_template_areas": null,
            "grid_template_columns": null,
            "grid_template_rows": null,
            "height": null,
            "justify_content": null,
            "justify_items": null,
            "left": null,
            "margin": null,
            "max_height": null,
            "max_width": null,
            "min_height": null,
            "min_width": null,
            "object_fit": null,
            "object_position": null,
            "order": null,
            "overflow": null,
            "overflow_x": null,
            "overflow_y": null,
            "padding": null,
            "right": null,
            "top": null,
            "visibility": null,
            "width": null
          }
        },
        "cb31ccbc919743558290c831f2a1dd4b": {
          "model_module": "@jupyter-widgets/controls",
          "model_name": "ProgressStyleModel",
          "model_module_version": "1.5.0",
          "state": {
            "_model_module": "@jupyter-widgets/controls",
            "_model_module_version": "1.5.0",
            "_model_name": "ProgressStyleModel",
            "_view_count": null,
            "_view_module": "@jupyter-widgets/base",
            "_view_module_version": "1.2.0",
            "_view_name": "StyleView",
            "bar_color": null,
            "description_width": ""
          }
        },
        "b4edac9522ac401d82579763bb58397f": {
          "model_module": "@jupyter-widgets/base",
          "model_name": "LayoutModel",
          "model_module_version": "1.2.0",
          "state": {
            "_model_module": "@jupyter-widgets/base",
            "_model_module_version": "1.2.0",
            "_model_name": "LayoutModel",
            "_view_count": null,
            "_view_module": "@jupyter-widgets/base",
            "_view_module_version": "1.2.0",
            "_view_name": "LayoutView",
            "align_content": null,
            "align_items": null,
            "align_self": null,
            "border": null,
            "bottom": null,
            "display": null,
            "flex": null,
            "flex_flow": null,
            "grid_area": null,
            "grid_auto_columns": null,
            "grid_auto_flow": null,
            "grid_auto_rows": null,
            "grid_column": null,
            "grid_gap": null,
            "grid_row": null,
            "grid_template_areas": null,
            "grid_template_columns": null,
            "grid_template_rows": null,
            "height": null,
            "justify_content": null,
            "justify_items": null,
            "left": null,
            "margin": null,
            "max_height": null,
            "max_width": null,
            "min_height": null,
            "min_width": null,
            "object_fit": null,
            "object_position": null,
            "order": null,
            "overflow": null,
            "overflow_x": null,
            "overflow_y": null,
            "padding": null,
            "right": null,
            "top": null,
            "visibility": null,
            "width": null
          }
        },
        "0284870836684b858a68492ef490b996": {
          "model_module": "@jupyter-widgets/controls",
          "model_name": "DescriptionStyleModel",
          "model_module_version": "1.5.0",
          "state": {
            "_model_module": "@jupyter-widgets/controls",
            "_model_module_version": "1.5.0",
            "_model_name": "DescriptionStyleModel",
            "_view_count": null,
            "_view_module": "@jupyter-widgets/base",
            "_view_module_version": "1.2.0",
            "_view_name": "StyleView",
            "description_width": ""
          }
        },
        "d75ffc79eda4441a99360887254a7e7e": {
          "model_module": "@jupyter-widgets/controls",
          "model_name": "HBoxModel",
          "model_module_version": "1.5.0",
          "state": {
            "_dom_classes": [],
            "_model_module": "@jupyter-widgets/controls",
            "_model_module_version": "1.5.0",
            "_model_name": "HBoxModel",
            "_view_count": null,
            "_view_module": "@jupyter-widgets/controls",
            "_view_module_version": "1.5.0",
            "_view_name": "HBoxView",
            "box_style": "",
            "children": [
              "IPY_MODEL_1cb9cc5b899244a6a120c5a38da5981c",
              "IPY_MODEL_46ec6566b9f34c70a14199657cad3907",
              "IPY_MODEL_516b472fa43f49bb946e9bf34932ed1d"
            ],
            "layout": "IPY_MODEL_b07d56449e6e48f08cb82558c74f4472"
          }
        },
        "1cb9cc5b899244a6a120c5a38da5981c": {
          "model_module": "@jupyter-widgets/controls",
          "model_name": "HTMLModel",
          "model_module_version": "1.5.0",
          "state": {
            "_dom_classes": [],
            "_model_module": "@jupyter-widgets/controls",
            "_model_module_version": "1.5.0",
            "_model_name": "HTMLModel",
            "_view_count": null,
            "_view_module": "@jupyter-widgets/controls",
            "_view_module_version": "1.5.0",
            "_view_name": "HTMLView",
            "description": "",
            "description_tooltip": null,
            "layout": "IPY_MODEL_4753d803545c401382c9fb7bb231832b",
            "placeholder": "​",
            "style": "IPY_MODEL_5731c1de7e41434e9bdf1d031b576429",
            "value": "Upload file runs/May25_09-24-25_36dcc00bf32b/events.out.tfevents.1685006668.36dcc00bf32b.175.4: 100%"
          }
        },
        "46ec6566b9f34c70a14199657cad3907": {
          "model_module": "@jupyter-widgets/controls",
          "model_name": "FloatProgressModel",
          "model_module_version": "1.5.0",
          "state": {
            "_dom_classes": [],
            "_model_module": "@jupyter-widgets/controls",
            "_model_module_version": "1.5.0",
            "_model_name": "FloatProgressModel",
            "_view_count": null,
            "_view_module": "@jupyter-widgets/controls",
            "_view_module_version": "1.5.0",
            "_view_name": "ProgressView",
            "bar_style": "success",
            "description": "",
            "description_tooltip": null,
            "layout": "IPY_MODEL_3496a92bca1245c4b8b211b2c075e9a7",
            "max": 32242,
            "min": 0,
            "orientation": "horizontal",
            "style": "IPY_MODEL_a571c75c3ff64df49aa84561a74f9743",
            "value": 32242
          }
        },
        "516b472fa43f49bb946e9bf34932ed1d": {
          "model_module": "@jupyter-widgets/controls",
          "model_name": "HTMLModel",
          "model_module_version": "1.5.0",
          "state": {
            "_dom_classes": [],
            "_model_module": "@jupyter-widgets/controls",
            "_model_module_version": "1.5.0",
            "_model_name": "HTMLModel",
            "_view_count": null,
            "_view_module": "@jupyter-widgets/controls",
            "_view_module_version": "1.5.0",
            "_view_name": "HTMLView",
            "description": "",
            "description_tooltip": null,
            "layout": "IPY_MODEL_dace56f89cd24917a916ff2aeca3845d",
            "placeholder": "​",
            "style": "IPY_MODEL_2066f6b0bb3544369400a7da4e62c2c1",
            "value": " 31.5k/31.5k [00:24&lt;00:00, 15.3MB/s]"
          }
        },
        "b07d56449e6e48f08cb82558c74f4472": {
          "model_module": "@jupyter-widgets/base",
          "model_name": "LayoutModel",
          "model_module_version": "1.2.0",
          "state": {
            "_model_module": "@jupyter-widgets/base",
            "_model_module_version": "1.2.0",
            "_model_name": "LayoutModel",
            "_view_count": null,
            "_view_module": "@jupyter-widgets/base",
            "_view_module_version": "1.2.0",
            "_view_name": "LayoutView",
            "align_content": null,
            "align_items": null,
            "align_self": null,
            "border": null,
            "bottom": null,
            "display": null,
            "flex": null,
            "flex_flow": null,
            "grid_area": null,
            "grid_auto_columns": null,
            "grid_auto_flow": null,
            "grid_auto_rows": null,
            "grid_column": null,
            "grid_gap": null,
            "grid_row": null,
            "grid_template_areas": null,
            "grid_template_columns": null,
            "grid_template_rows": null,
            "height": null,
            "justify_content": null,
            "justify_items": null,
            "left": null,
            "margin": null,
            "max_height": null,
            "max_width": null,
            "min_height": null,
            "min_width": null,
            "object_fit": null,
            "object_position": null,
            "order": null,
            "overflow": null,
            "overflow_x": null,
            "overflow_y": null,
            "padding": null,
            "right": null,
            "top": null,
            "visibility": null,
            "width": null
          }
        },
        "4753d803545c401382c9fb7bb231832b": {
          "model_module": "@jupyter-widgets/base",
          "model_name": "LayoutModel",
          "model_module_version": "1.2.0",
          "state": {
            "_model_module": "@jupyter-widgets/base",
            "_model_module_version": "1.2.0",
            "_model_name": "LayoutModel",
            "_view_count": null,
            "_view_module": "@jupyter-widgets/base",
            "_view_module_version": "1.2.0",
            "_view_name": "LayoutView",
            "align_content": null,
            "align_items": null,
            "align_self": null,
            "border": null,
            "bottom": null,
            "display": null,
            "flex": null,
            "flex_flow": null,
            "grid_area": null,
            "grid_auto_columns": null,
            "grid_auto_flow": null,
            "grid_auto_rows": null,
            "grid_column": null,
            "grid_gap": null,
            "grid_row": null,
            "grid_template_areas": null,
            "grid_template_columns": null,
            "grid_template_rows": null,
            "height": null,
            "justify_content": null,
            "justify_items": null,
            "left": null,
            "margin": null,
            "max_height": null,
            "max_width": null,
            "min_height": null,
            "min_width": null,
            "object_fit": null,
            "object_position": null,
            "order": null,
            "overflow": null,
            "overflow_x": null,
            "overflow_y": null,
            "padding": null,
            "right": null,
            "top": null,
            "visibility": null,
            "width": null
          }
        },
        "5731c1de7e41434e9bdf1d031b576429": {
          "model_module": "@jupyter-widgets/controls",
          "model_name": "DescriptionStyleModel",
          "model_module_version": "1.5.0",
          "state": {
            "_model_module": "@jupyter-widgets/controls",
            "_model_module_version": "1.5.0",
            "_model_name": "DescriptionStyleModel",
            "_view_count": null,
            "_view_module": "@jupyter-widgets/base",
            "_view_module_version": "1.2.0",
            "_view_name": "StyleView",
            "description_width": ""
          }
        },
        "3496a92bca1245c4b8b211b2c075e9a7": {
          "model_module": "@jupyter-widgets/base",
          "model_name": "LayoutModel",
          "model_module_version": "1.2.0",
          "state": {
            "_model_module": "@jupyter-widgets/base",
            "_model_module_version": "1.2.0",
            "_model_name": "LayoutModel",
            "_view_count": null,
            "_view_module": "@jupyter-widgets/base",
            "_view_module_version": "1.2.0",
            "_view_name": "LayoutView",
            "align_content": null,
            "align_items": null,
            "align_self": null,
            "border": null,
            "bottom": null,
            "display": null,
            "flex": null,
            "flex_flow": null,
            "grid_area": null,
            "grid_auto_columns": null,
            "grid_auto_flow": null,
            "grid_auto_rows": null,
            "grid_column": null,
            "grid_gap": null,
            "grid_row": null,
            "grid_template_areas": null,
            "grid_template_columns": null,
            "grid_template_rows": null,
            "height": null,
            "justify_content": null,
            "justify_items": null,
            "left": null,
            "margin": null,
            "max_height": null,
            "max_width": null,
            "min_height": null,
            "min_width": null,
            "object_fit": null,
            "object_position": null,
            "order": null,
            "overflow": null,
            "overflow_x": null,
            "overflow_y": null,
            "padding": null,
            "right": null,
            "top": null,
            "visibility": null,
            "width": null
          }
        },
        "a571c75c3ff64df49aa84561a74f9743": {
          "model_module": "@jupyter-widgets/controls",
          "model_name": "ProgressStyleModel",
          "model_module_version": "1.5.0",
          "state": {
            "_model_module": "@jupyter-widgets/controls",
            "_model_module_version": "1.5.0",
            "_model_name": "ProgressStyleModel",
            "_view_count": null,
            "_view_module": "@jupyter-widgets/base",
            "_view_module_version": "1.2.0",
            "_view_name": "StyleView",
            "bar_color": null,
            "description_width": ""
          }
        },
        "dace56f89cd24917a916ff2aeca3845d": {
          "model_module": "@jupyter-widgets/base",
          "model_name": "LayoutModel",
          "model_module_version": "1.2.0",
          "state": {
            "_model_module": "@jupyter-widgets/base",
            "_model_module_version": "1.2.0",
            "_model_name": "LayoutModel",
            "_view_count": null,
            "_view_module": "@jupyter-widgets/base",
            "_view_module_version": "1.2.0",
            "_view_name": "LayoutView",
            "align_content": null,
            "align_items": null,
            "align_self": null,
            "border": null,
            "bottom": null,
            "display": null,
            "flex": null,
            "flex_flow": null,
            "grid_area": null,
            "grid_auto_columns": null,
            "grid_auto_flow": null,
            "grid_auto_rows": null,
            "grid_column": null,
            "grid_gap": null,
            "grid_row": null,
            "grid_template_areas": null,
            "grid_template_columns": null,
            "grid_template_rows": null,
            "height": null,
            "justify_content": null,
            "justify_items": null,
            "left": null,
            "margin": null,
            "max_height": null,
            "max_width": null,
            "min_height": null,
            "min_width": null,
            "object_fit": null,
            "object_position": null,
            "order": null,
            "overflow": null,
            "overflow_x": null,
            "overflow_y": null,
            "padding": null,
            "right": null,
            "top": null,
            "visibility": null,
            "width": null
          }
        },
        "2066f6b0bb3544369400a7da4e62c2c1": {
          "model_module": "@jupyter-widgets/controls",
          "model_name": "DescriptionStyleModel",
          "model_module_version": "1.5.0",
          "state": {
            "_model_module": "@jupyter-widgets/controls",
            "_model_module_version": "1.5.0",
            "_model_name": "DescriptionStyleModel",
            "_view_count": null,
            "_view_module": "@jupyter-widgets/base",
            "_view_module_version": "1.2.0",
            "_view_name": "StyleView",
            "description_width": ""
          }
        },
        "18cd43e9a85e4243a247ae37a3c28823": {
          "model_module": "@jupyter-widgets/controls",
          "model_name": "VBoxModel",
          "model_module_version": "1.5.0",
          "state": {
            "_dom_classes": [],
            "_model_module": "@jupyter-widgets/controls",
            "_model_module_version": "1.5.0",
            "_model_name": "VBoxModel",
            "_view_count": null,
            "_view_module": "@jupyter-widgets/controls",
            "_view_module_version": "1.5.0",
            "_view_name": "VBoxView",
            "box_style": "",
            "children": [
              "IPY_MODEL_22761bdd2c2342b18a9234b1ba7b4499",
              "IPY_MODEL_55270ea3646c4ab3b66c47057045890f",
              "IPY_MODEL_ce5af83af8d34b6193a95119b41471b2",
              "IPY_MODEL_c500fd5909774be8b04853da50ffd023",
              "IPY_MODEL_0d894be205f44fe8be4ad857ce96eb51"
            ],
            "layout": "IPY_MODEL_9be64bb34b0c457dbb55aa91d3d5d492"
          }
        },
        "22761bdd2c2342b18a9234b1ba7b4499": {
          "model_module": "@jupyter-widgets/controls",
          "model_name": "HTMLModel",
          "model_module_version": "1.5.0",
          "state": {
            "_dom_classes": [],
            "_model_module": "@jupyter-widgets/controls",
            "_model_module_version": "1.5.0",
            "_model_name": "HTMLModel",
            "_view_count": null,
            "_view_module": "@jupyter-widgets/controls",
            "_view_module_version": "1.5.0",
            "_view_name": "HTMLView",
            "description": "",
            "description_tooltip": null,
            "layout": "IPY_MODEL_db2fbc9adab640f1a7fbbb3cbb00d5d3",
            "placeholder": "​",
            "style": "IPY_MODEL_4d5429b962e040ed8a40a873b8c6fa4a",
            "value": "<center> <img\nsrc=https://huggingface.co/front/assets/huggingface_logo-noborder.svg\nalt='Hugging Face'> <br> Copy a token from <a\nhref=\"https://huggingface.co/settings/tokens\" target=\"_blank\">your Hugging Face\ntokens page</a> and paste it below. <br> Immediately click login after copying\nyour token or it might be stored in plain text in this notebook file. </center>"
          }
        },
        "55270ea3646c4ab3b66c47057045890f": {
          "model_module": "@jupyter-widgets/controls",
          "model_name": "PasswordModel",
          "model_module_version": "1.5.0",
          "state": {
            "_dom_classes": [],
            "_model_module": "@jupyter-widgets/controls",
            "_model_module_version": "1.5.0",
            "_model_name": "PasswordModel",
            "_view_count": null,
            "_view_module": "@jupyter-widgets/controls",
            "_view_module_version": "1.5.0",
            "_view_name": "PasswordView",
            "continuous_update": true,
            "description": "Token:",
            "description_tooltip": null,
            "disabled": false,
            "layout": "IPY_MODEL_340290ca4c55419abaf6fbf7f5d80b40",
            "placeholder": "​",
            "style": "IPY_MODEL_fb8546c1e91c4930850220295303bd19",
            "value": ""
          }
        },
        "ce5af83af8d34b6193a95119b41471b2": {
          "model_module": "@jupyter-widgets/controls",
          "model_name": "CheckboxModel",
          "model_module_version": "1.5.0",
          "state": {
            "_dom_classes": [],
            "_model_module": "@jupyter-widgets/controls",
            "_model_module_version": "1.5.0",
            "_model_name": "CheckboxModel",
            "_view_count": null,
            "_view_module": "@jupyter-widgets/controls",
            "_view_module_version": "1.5.0",
            "_view_name": "CheckboxView",
            "description": "Add token as git credential?",
            "description_tooltip": null,
            "disabled": false,
            "indent": true,
            "layout": "IPY_MODEL_69f8a3ff7ce24f27a2c6f7894b562c98",
            "style": "IPY_MODEL_73b87223b91243f3a09848f7b3ca6d7c",
            "value": true
          }
        },
        "c500fd5909774be8b04853da50ffd023": {
          "model_module": "@jupyter-widgets/controls",
          "model_name": "ButtonModel",
          "model_module_version": "1.5.0",
          "state": {
            "_dom_classes": [],
            "_model_module": "@jupyter-widgets/controls",
            "_model_module_version": "1.5.0",
            "_model_name": "ButtonModel",
            "_view_count": null,
            "_view_module": "@jupyter-widgets/controls",
            "_view_module_version": "1.5.0",
            "_view_name": "ButtonView",
            "button_style": "",
            "description": "Login",
            "disabled": false,
            "icon": "",
            "layout": "IPY_MODEL_d2b27dd5b5fc48838312db9a8f7adda8",
            "style": "IPY_MODEL_4bb24194625d49679ba5f7641a512eaa",
            "tooltip": ""
          }
        },
        "0d894be205f44fe8be4ad857ce96eb51": {
          "model_module": "@jupyter-widgets/controls",
          "model_name": "HTMLModel",
          "model_module_version": "1.5.0",
          "state": {
            "_dom_classes": [],
            "_model_module": "@jupyter-widgets/controls",
            "_model_module_version": "1.5.0",
            "_model_name": "HTMLModel",
            "_view_count": null,
            "_view_module": "@jupyter-widgets/controls",
            "_view_module_version": "1.5.0",
            "_view_name": "HTMLView",
            "description": "",
            "description_tooltip": null,
            "layout": "IPY_MODEL_3a535c7ba618494683625776f2d383e0",
            "placeholder": "​",
            "style": "IPY_MODEL_0baea5ed51f14ab1ae55d63312e008e0",
            "value": "\n<b>Pro Tip:</b> If you don't already have one, you can create a dedicated\n'notebooks' token with 'write' access, that you can then easily reuse for all\nnotebooks. </center>"
          }
        },
        "9be64bb34b0c457dbb55aa91d3d5d492": {
          "model_module": "@jupyter-widgets/base",
          "model_name": "LayoutModel",
          "model_module_version": "1.2.0",
          "state": {
            "_model_module": "@jupyter-widgets/base",
            "_model_module_version": "1.2.0",
            "_model_name": "LayoutModel",
            "_view_count": null,
            "_view_module": "@jupyter-widgets/base",
            "_view_module_version": "1.2.0",
            "_view_name": "LayoutView",
            "align_content": null,
            "align_items": "center",
            "align_self": null,
            "border": null,
            "bottom": null,
            "display": "flex",
            "flex": null,
            "flex_flow": "column",
            "grid_area": null,
            "grid_auto_columns": null,
            "grid_auto_flow": null,
            "grid_auto_rows": null,
            "grid_column": null,
            "grid_gap": null,
            "grid_row": null,
            "grid_template_areas": null,
            "grid_template_columns": null,
            "grid_template_rows": null,
            "height": null,
            "justify_content": null,
            "justify_items": null,
            "left": null,
            "margin": null,
            "max_height": null,
            "max_width": null,
            "min_height": null,
            "min_width": null,
            "object_fit": null,
            "object_position": null,
            "order": null,
            "overflow": null,
            "overflow_x": null,
            "overflow_y": null,
            "padding": null,
            "right": null,
            "top": null,
            "visibility": null,
            "width": "50%"
          }
        },
        "db2fbc9adab640f1a7fbbb3cbb00d5d3": {
          "model_module": "@jupyter-widgets/base",
          "model_name": "LayoutModel",
          "model_module_version": "1.2.0",
          "state": {
            "_model_module": "@jupyter-widgets/base",
            "_model_module_version": "1.2.0",
            "_model_name": "LayoutModel",
            "_view_count": null,
            "_view_module": "@jupyter-widgets/base",
            "_view_module_version": "1.2.0",
            "_view_name": "LayoutView",
            "align_content": null,
            "align_items": null,
            "align_self": null,
            "border": null,
            "bottom": null,
            "display": null,
            "flex": null,
            "flex_flow": null,
            "grid_area": null,
            "grid_auto_columns": null,
            "grid_auto_flow": null,
            "grid_auto_rows": null,
            "grid_column": null,
            "grid_gap": null,
            "grid_row": null,
            "grid_template_areas": null,
            "grid_template_columns": null,
            "grid_template_rows": null,
            "height": null,
            "justify_content": null,
            "justify_items": null,
            "left": null,
            "margin": null,
            "max_height": null,
            "max_width": null,
            "min_height": null,
            "min_width": null,
            "object_fit": null,
            "object_position": null,
            "order": null,
            "overflow": null,
            "overflow_x": null,
            "overflow_y": null,
            "padding": null,
            "right": null,
            "top": null,
            "visibility": null,
            "width": null
          }
        },
        "4d5429b962e040ed8a40a873b8c6fa4a": {
          "model_module": "@jupyter-widgets/controls",
          "model_name": "DescriptionStyleModel",
          "model_module_version": "1.5.0",
          "state": {
            "_model_module": "@jupyter-widgets/controls",
            "_model_module_version": "1.5.0",
            "_model_name": "DescriptionStyleModel",
            "_view_count": null,
            "_view_module": "@jupyter-widgets/base",
            "_view_module_version": "1.2.0",
            "_view_name": "StyleView",
            "description_width": ""
          }
        },
        "340290ca4c55419abaf6fbf7f5d80b40": {
          "model_module": "@jupyter-widgets/base",
          "model_name": "LayoutModel",
          "model_module_version": "1.2.0",
          "state": {
            "_model_module": "@jupyter-widgets/base",
            "_model_module_version": "1.2.0",
            "_model_name": "LayoutModel",
            "_view_count": null,
            "_view_module": "@jupyter-widgets/base",
            "_view_module_version": "1.2.0",
            "_view_name": "LayoutView",
            "align_content": null,
            "align_items": null,
            "align_self": null,
            "border": null,
            "bottom": null,
            "display": null,
            "flex": null,
            "flex_flow": null,
            "grid_area": null,
            "grid_auto_columns": null,
            "grid_auto_flow": null,
            "grid_auto_rows": null,
            "grid_column": null,
            "grid_gap": null,
            "grid_row": null,
            "grid_template_areas": null,
            "grid_template_columns": null,
            "grid_template_rows": null,
            "height": null,
            "justify_content": null,
            "justify_items": null,
            "left": null,
            "margin": null,
            "max_height": null,
            "max_width": null,
            "min_height": null,
            "min_width": null,
            "object_fit": null,
            "object_position": null,
            "order": null,
            "overflow": null,
            "overflow_x": null,
            "overflow_y": null,
            "padding": null,
            "right": null,
            "top": null,
            "visibility": null,
            "width": null
          }
        },
        "fb8546c1e91c4930850220295303bd19": {
          "model_module": "@jupyter-widgets/controls",
          "model_name": "DescriptionStyleModel",
          "model_module_version": "1.5.0",
          "state": {
            "_model_module": "@jupyter-widgets/controls",
            "_model_module_version": "1.5.0",
            "_model_name": "DescriptionStyleModel",
            "_view_count": null,
            "_view_module": "@jupyter-widgets/base",
            "_view_module_version": "1.2.0",
            "_view_name": "StyleView",
            "description_width": ""
          }
        },
        "69f8a3ff7ce24f27a2c6f7894b562c98": {
          "model_module": "@jupyter-widgets/base",
          "model_name": "LayoutModel",
          "model_module_version": "1.2.0",
          "state": {
            "_model_module": "@jupyter-widgets/base",
            "_model_module_version": "1.2.0",
            "_model_name": "LayoutModel",
            "_view_count": null,
            "_view_module": "@jupyter-widgets/base",
            "_view_module_version": "1.2.0",
            "_view_name": "LayoutView",
            "align_content": null,
            "align_items": null,
            "align_self": null,
            "border": null,
            "bottom": null,
            "display": null,
            "flex": null,
            "flex_flow": null,
            "grid_area": null,
            "grid_auto_columns": null,
            "grid_auto_flow": null,
            "grid_auto_rows": null,
            "grid_column": null,
            "grid_gap": null,
            "grid_row": null,
            "grid_template_areas": null,
            "grid_template_columns": null,
            "grid_template_rows": null,
            "height": null,
            "justify_content": null,
            "justify_items": null,
            "left": null,
            "margin": null,
            "max_height": null,
            "max_width": null,
            "min_height": null,
            "min_width": null,
            "object_fit": null,
            "object_position": null,
            "order": null,
            "overflow": null,
            "overflow_x": null,
            "overflow_y": null,
            "padding": null,
            "right": null,
            "top": null,
            "visibility": null,
            "width": null
          }
        },
        "73b87223b91243f3a09848f7b3ca6d7c": {
          "model_module": "@jupyter-widgets/controls",
          "model_name": "DescriptionStyleModel",
          "model_module_version": "1.5.0",
          "state": {
            "_model_module": "@jupyter-widgets/controls",
            "_model_module_version": "1.5.0",
            "_model_name": "DescriptionStyleModel",
            "_view_count": null,
            "_view_module": "@jupyter-widgets/base",
            "_view_module_version": "1.2.0",
            "_view_name": "StyleView",
            "description_width": ""
          }
        },
        "d2b27dd5b5fc48838312db9a8f7adda8": {
          "model_module": "@jupyter-widgets/base",
          "model_name": "LayoutModel",
          "model_module_version": "1.2.0",
          "state": {
            "_model_module": "@jupyter-widgets/base",
            "_model_module_version": "1.2.0",
            "_model_name": "LayoutModel",
            "_view_count": null,
            "_view_module": "@jupyter-widgets/base",
            "_view_module_version": "1.2.0",
            "_view_name": "LayoutView",
            "align_content": null,
            "align_items": null,
            "align_self": null,
            "border": null,
            "bottom": null,
            "display": null,
            "flex": null,
            "flex_flow": null,
            "grid_area": null,
            "grid_auto_columns": null,
            "grid_auto_flow": null,
            "grid_auto_rows": null,
            "grid_column": null,
            "grid_gap": null,
            "grid_row": null,
            "grid_template_areas": null,
            "grid_template_columns": null,
            "grid_template_rows": null,
            "height": null,
            "justify_content": null,
            "justify_items": null,
            "left": null,
            "margin": null,
            "max_height": null,
            "max_width": null,
            "min_height": null,
            "min_width": null,
            "object_fit": null,
            "object_position": null,
            "order": null,
            "overflow": null,
            "overflow_x": null,
            "overflow_y": null,
            "padding": null,
            "right": null,
            "top": null,
            "visibility": null,
            "width": null
          }
        },
        "4bb24194625d49679ba5f7641a512eaa": {
          "model_module": "@jupyter-widgets/controls",
          "model_name": "ButtonStyleModel",
          "model_module_version": "1.5.0",
          "state": {
            "_model_module": "@jupyter-widgets/controls",
            "_model_module_version": "1.5.0",
            "_model_name": "ButtonStyleModel",
            "_view_count": null,
            "_view_module": "@jupyter-widgets/base",
            "_view_module_version": "1.2.0",
            "_view_name": "StyleView",
            "button_color": null,
            "font_weight": ""
          }
        },
        "3a535c7ba618494683625776f2d383e0": {
          "model_module": "@jupyter-widgets/base",
          "model_name": "LayoutModel",
          "model_module_version": "1.2.0",
          "state": {
            "_model_module": "@jupyter-widgets/base",
            "_model_module_version": "1.2.0",
            "_model_name": "LayoutModel",
            "_view_count": null,
            "_view_module": "@jupyter-widgets/base",
            "_view_module_version": "1.2.0",
            "_view_name": "LayoutView",
            "align_content": null,
            "align_items": null,
            "align_self": null,
            "border": null,
            "bottom": null,
            "display": null,
            "flex": null,
            "flex_flow": null,
            "grid_area": null,
            "grid_auto_columns": null,
            "grid_auto_flow": null,
            "grid_auto_rows": null,
            "grid_column": null,
            "grid_gap": null,
            "grid_row": null,
            "grid_template_areas": null,
            "grid_template_columns": null,
            "grid_template_rows": null,
            "height": null,
            "justify_content": null,
            "justify_items": null,
            "left": null,
            "margin": null,
            "max_height": null,
            "max_width": null,
            "min_height": null,
            "min_width": null,
            "object_fit": null,
            "object_position": null,
            "order": null,
            "overflow": null,
            "overflow_x": null,
            "overflow_y": null,
            "padding": null,
            "right": null,
            "top": null,
            "visibility": null,
            "width": null
          }
        },
        "0baea5ed51f14ab1ae55d63312e008e0": {
          "model_module": "@jupyter-widgets/controls",
          "model_name": "DescriptionStyleModel",
          "model_module_version": "1.5.0",
          "state": {
            "_model_module": "@jupyter-widgets/controls",
            "_model_module_version": "1.5.0",
            "_model_name": "DescriptionStyleModel",
            "_view_count": null,
            "_view_module": "@jupyter-widgets/base",
            "_view_module_version": "1.2.0",
            "_view_name": "StyleView",
            "description_width": ""
          }
        },
        "abe0216bb23a4ad688e16f434be40c96": {
          "model_module": "@jupyter-widgets/controls",
          "model_name": "HBoxModel",
          "model_module_version": "1.5.0",
          "state": {
            "_dom_classes": [],
            "_model_module": "@jupyter-widgets/controls",
            "_model_module_version": "1.5.0",
            "_model_name": "HBoxModel",
            "_view_count": null,
            "_view_module": "@jupyter-widgets/controls",
            "_view_module_version": "1.5.0",
            "_view_name": "HBoxView",
            "box_style": "",
            "children": [
              "IPY_MODEL_72fe01f674a743468d8cc574b46356ad",
              "IPY_MODEL_8376c24096d34eb99f163be9ecf56069",
              "IPY_MODEL_59ac08a7ac194740aed19c0d7496fe1f"
            ],
            "layout": "IPY_MODEL_ccd959db3bd4452bbf40f05b7341b9a8"
          }
        },
        "72fe01f674a743468d8cc574b46356ad": {
          "model_module": "@jupyter-widgets/controls",
          "model_name": "HTMLModel",
          "model_module_version": "1.5.0",
          "state": {
            "_dom_classes": [],
            "_model_module": "@jupyter-widgets/controls",
            "_model_module_version": "1.5.0",
            "_model_name": "HTMLModel",
            "_view_count": null,
            "_view_module": "@jupyter-widgets/controls",
            "_view_module_version": "1.5.0",
            "_view_name": "HTMLView",
            "description": "",
            "description_tooltip": null,
            "layout": "IPY_MODEL_dbec924b2fab4206a9a3cf92d591ce97",
            "placeholder": "​",
            "style": "IPY_MODEL_5087e595b9874acca5dd0a7f6e02301b",
            "value": "Downloading (…)rocessor_config.json: 100%"
          }
        },
        "8376c24096d34eb99f163be9ecf56069": {
          "model_module": "@jupyter-widgets/controls",
          "model_name": "FloatProgressModel",
          "model_module_version": "1.5.0",
          "state": {
            "_dom_classes": [],
            "_model_module": "@jupyter-widgets/controls",
            "_model_module_version": "1.5.0",
            "_model_name": "FloatProgressModel",
            "_view_count": null,
            "_view_module": "@jupyter-widgets/controls",
            "_view_module_version": "1.5.0",
            "_view_name": "ProgressView",
            "bar_style": "success",
            "description": "",
            "description_tooltip": null,
            "layout": "IPY_MODEL_6c9bec3513ae43cd9e4b630d7deedaa8",
            "max": 433,
            "min": 0,
            "orientation": "horizontal",
            "style": "IPY_MODEL_459c6211f7d84c1a96d804284165ff80",
            "value": 433
          }
        },
        "59ac08a7ac194740aed19c0d7496fe1f": {
          "model_module": "@jupyter-widgets/controls",
          "model_name": "HTMLModel",
          "model_module_version": "1.5.0",
          "state": {
            "_dom_classes": [],
            "_model_module": "@jupyter-widgets/controls",
            "_model_module_version": "1.5.0",
            "_model_name": "HTMLModel",
            "_view_count": null,
            "_view_module": "@jupyter-widgets/controls",
            "_view_module_version": "1.5.0",
            "_view_name": "HTMLView",
            "description": "",
            "description_tooltip": null,
            "layout": "IPY_MODEL_8c4be9b75fa64c628e569a3442c70512",
            "placeholder": "​",
            "style": "IPY_MODEL_25d13690b60a4b08aeee0d9924ff7bba",
            "value": " 433/433 [00:00&lt;00:00, 6.56kB/s]"
          }
        },
        "ccd959db3bd4452bbf40f05b7341b9a8": {
          "model_module": "@jupyter-widgets/base",
          "model_name": "LayoutModel",
          "model_module_version": "1.2.0",
          "state": {
            "_model_module": "@jupyter-widgets/base",
            "_model_module_version": "1.2.0",
            "_model_name": "LayoutModel",
            "_view_count": null,
            "_view_module": "@jupyter-widgets/base",
            "_view_module_version": "1.2.0",
            "_view_name": "LayoutView",
            "align_content": null,
            "align_items": null,
            "align_self": null,
            "border": null,
            "bottom": null,
            "display": null,
            "flex": null,
            "flex_flow": null,
            "grid_area": null,
            "grid_auto_columns": null,
            "grid_auto_flow": null,
            "grid_auto_rows": null,
            "grid_column": null,
            "grid_gap": null,
            "grid_row": null,
            "grid_template_areas": null,
            "grid_template_columns": null,
            "grid_template_rows": null,
            "height": null,
            "justify_content": null,
            "justify_items": null,
            "left": null,
            "margin": null,
            "max_height": null,
            "max_width": null,
            "min_height": null,
            "min_width": null,
            "object_fit": null,
            "object_position": null,
            "order": null,
            "overflow": null,
            "overflow_x": null,
            "overflow_y": null,
            "padding": null,
            "right": null,
            "top": null,
            "visibility": null,
            "width": null
          }
        },
        "dbec924b2fab4206a9a3cf92d591ce97": {
          "model_module": "@jupyter-widgets/base",
          "model_name": "LayoutModel",
          "model_module_version": "1.2.0",
          "state": {
            "_model_module": "@jupyter-widgets/base",
            "_model_module_version": "1.2.0",
            "_model_name": "LayoutModel",
            "_view_count": null,
            "_view_module": "@jupyter-widgets/base",
            "_view_module_version": "1.2.0",
            "_view_name": "LayoutView",
            "align_content": null,
            "align_items": null,
            "align_self": null,
            "border": null,
            "bottom": null,
            "display": null,
            "flex": null,
            "flex_flow": null,
            "grid_area": null,
            "grid_auto_columns": null,
            "grid_auto_flow": null,
            "grid_auto_rows": null,
            "grid_column": null,
            "grid_gap": null,
            "grid_row": null,
            "grid_template_areas": null,
            "grid_template_columns": null,
            "grid_template_rows": null,
            "height": null,
            "justify_content": null,
            "justify_items": null,
            "left": null,
            "margin": null,
            "max_height": null,
            "max_width": null,
            "min_height": null,
            "min_width": null,
            "object_fit": null,
            "object_position": null,
            "order": null,
            "overflow": null,
            "overflow_x": null,
            "overflow_y": null,
            "padding": null,
            "right": null,
            "top": null,
            "visibility": null,
            "width": null
          }
        },
        "5087e595b9874acca5dd0a7f6e02301b": {
          "model_module": "@jupyter-widgets/controls",
          "model_name": "DescriptionStyleModel",
          "model_module_version": "1.5.0",
          "state": {
            "_model_module": "@jupyter-widgets/controls",
            "_model_module_version": "1.5.0",
            "_model_name": "DescriptionStyleModel",
            "_view_count": null,
            "_view_module": "@jupyter-widgets/base",
            "_view_module_version": "1.2.0",
            "_view_name": "StyleView",
            "description_width": ""
          }
        },
        "6c9bec3513ae43cd9e4b630d7deedaa8": {
          "model_module": "@jupyter-widgets/base",
          "model_name": "LayoutModel",
          "model_module_version": "1.2.0",
          "state": {
            "_model_module": "@jupyter-widgets/base",
            "_model_module_version": "1.2.0",
            "_model_name": "LayoutModel",
            "_view_count": null,
            "_view_module": "@jupyter-widgets/base",
            "_view_module_version": "1.2.0",
            "_view_name": "LayoutView",
            "align_content": null,
            "align_items": null,
            "align_self": null,
            "border": null,
            "bottom": null,
            "display": null,
            "flex": null,
            "flex_flow": null,
            "grid_area": null,
            "grid_auto_columns": null,
            "grid_auto_flow": null,
            "grid_auto_rows": null,
            "grid_column": null,
            "grid_gap": null,
            "grid_row": null,
            "grid_template_areas": null,
            "grid_template_columns": null,
            "grid_template_rows": null,
            "height": null,
            "justify_content": null,
            "justify_items": null,
            "left": null,
            "margin": null,
            "max_height": null,
            "max_width": null,
            "min_height": null,
            "min_width": null,
            "object_fit": null,
            "object_position": null,
            "order": null,
            "overflow": null,
            "overflow_x": null,
            "overflow_y": null,
            "padding": null,
            "right": null,
            "top": null,
            "visibility": null,
            "width": null
          }
        },
        "459c6211f7d84c1a96d804284165ff80": {
          "model_module": "@jupyter-widgets/controls",
          "model_name": "ProgressStyleModel",
          "model_module_version": "1.5.0",
          "state": {
            "_model_module": "@jupyter-widgets/controls",
            "_model_module_version": "1.5.0",
            "_model_name": "ProgressStyleModel",
            "_view_count": null,
            "_view_module": "@jupyter-widgets/base",
            "_view_module_version": "1.2.0",
            "_view_name": "StyleView",
            "bar_color": null,
            "description_width": ""
          }
        },
        "8c4be9b75fa64c628e569a3442c70512": {
          "model_module": "@jupyter-widgets/base",
          "model_name": "LayoutModel",
          "model_module_version": "1.2.0",
          "state": {
            "_model_module": "@jupyter-widgets/base",
            "_model_module_version": "1.2.0",
            "_model_name": "LayoutModel",
            "_view_count": null,
            "_view_module": "@jupyter-widgets/base",
            "_view_module_version": "1.2.0",
            "_view_name": "LayoutView",
            "align_content": null,
            "align_items": null,
            "align_self": null,
            "border": null,
            "bottom": null,
            "display": null,
            "flex": null,
            "flex_flow": null,
            "grid_area": null,
            "grid_auto_columns": null,
            "grid_auto_flow": null,
            "grid_auto_rows": null,
            "grid_column": null,
            "grid_gap": null,
            "grid_row": null,
            "grid_template_areas": null,
            "grid_template_columns": null,
            "grid_template_rows": null,
            "height": null,
            "justify_content": null,
            "justify_items": null,
            "left": null,
            "margin": null,
            "max_height": null,
            "max_width": null,
            "min_height": null,
            "min_width": null,
            "object_fit": null,
            "object_position": null,
            "order": null,
            "overflow": null,
            "overflow_x": null,
            "overflow_y": null,
            "padding": null,
            "right": null,
            "top": null,
            "visibility": null,
            "width": null
          }
        },
        "25d13690b60a4b08aeee0d9924ff7bba": {
          "model_module": "@jupyter-widgets/controls",
          "model_name": "DescriptionStyleModel",
          "model_module_version": "1.5.0",
          "state": {
            "_model_module": "@jupyter-widgets/controls",
            "_model_module_version": "1.5.0",
            "_model_name": "DescriptionStyleModel",
            "_view_count": null,
            "_view_module": "@jupyter-widgets/base",
            "_view_module_version": "1.2.0",
            "_view_name": "StyleView",
            "description_width": ""
          }
        },
        "0daa6b33a7344ceaa77f427e8f5f3636": {
          "model_module": "@jupyter-widgets/controls",
          "model_name": "HBoxModel",
          "model_module_version": "1.5.0",
          "state": {
            "_dom_classes": [],
            "_model_module": "@jupyter-widgets/controls",
            "_model_module_version": "1.5.0",
            "_model_name": "HBoxModel",
            "_view_count": null,
            "_view_module": "@jupyter-widgets/controls",
            "_view_module_version": "1.5.0",
            "_view_name": "HBoxView",
            "box_style": "",
            "children": [
              "IPY_MODEL_a09360ed8d2f4968a4042ccb16362c92",
              "IPY_MODEL_ca9952e896d3461a906e9b2966577ced",
              "IPY_MODEL_963dbca7ff354a16980cd2eb79cda891"
            ],
            "layout": "IPY_MODEL_bace869c7db14ff0bd00aa9904fd0227"
          }
        },
        "a09360ed8d2f4968a4042ccb16362c92": {
          "model_module": "@jupyter-widgets/controls",
          "model_name": "HTMLModel",
          "model_module_version": "1.5.0",
          "state": {
            "_dom_classes": [],
            "_model_module": "@jupyter-widgets/controls",
            "_model_module_version": "1.5.0",
            "_model_name": "HTMLModel",
            "_view_count": null,
            "_view_module": "@jupyter-widgets/controls",
            "_view_module_version": "1.5.0",
            "_view_name": "HTMLView",
            "description": "",
            "description_tooltip": null,
            "layout": "IPY_MODEL_be2724a10019458093ef597504240bf2",
            "placeholder": "​",
            "style": "IPY_MODEL_b7aa0c39e066409bbfdbe76ce29434b9",
            "value": "Downloading spm_char.model: 100%"
          }
        },
        "ca9952e896d3461a906e9b2966577ced": {
          "model_module": "@jupyter-widgets/controls",
          "model_name": "FloatProgressModel",
          "model_module_version": "1.5.0",
          "state": {
            "_dom_classes": [],
            "_model_module": "@jupyter-widgets/controls",
            "_model_module_version": "1.5.0",
            "_model_name": "FloatProgressModel",
            "_view_count": null,
            "_view_module": "@jupyter-widgets/controls",
            "_view_module_version": "1.5.0",
            "_view_name": "ProgressView",
            "bar_style": "success",
            "description": "",
            "description_tooltip": null,
            "layout": "IPY_MODEL_02586f39b5344f59b28388979fce19df",
            "max": 238473,
            "min": 0,
            "orientation": "horizontal",
            "style": "IPY_MODEL_81d68795333e47f9a2a4b0dee0242e65",
            "value": 238473
          }
        },
        "963dbca7ff354a16980cd2eb79cda891": {
          "model_module": "@jupyter-widgets/controls",
          "model_name": "HTMLModel",
          "model_module_version": "1.5.0",
          "state": {
            "_dom_classes": [],
            "_model_module": "@jupyter-widgets/controls",
            "_model_module_version": "1.5.0",
            "_model_name": "HTMLModel",
            "_view_count": null,
            "_view_module": "@jupyter-widgets/controls",
            "_view_module_version": "1.5.0",
            "_view_name": "HTMLView",
            "description": "",
            "description_tooltip": null,
            "layout": "IPY_MODEL_a01710328f774f7c8eac52730030bc5c",
            "placeholder": "​",
            "style": "IPY_MODEL_8a7f3937476b45868ecda5f1e3e6b79f",
            "value": " 238k/238k [00:00&lt;00:00, 1.85MB/s]"
          }
        },
        "bace869c7db14ff0bd00aa9904fd0227": {
          "model_module": "@jupyter-widgets/base",
          "model_name": "LayoutModel",
          "model_module_version": "1.2.0",
          "state": {
            "_model_module": "@jupyter-widgets/base",
            "_model_module_version": "1.2.0",
            "_model_name": "LayoutModel",
            "_view_count": null,
            "_view_module": "@jupyter-widgets/base",
            "_view_module_version": "1.2.0",
            "_view_name": "LayoutView",
            "align_content": null,
            "align_items": null,
            "align_self": null,
            "border": null,
            "bottom": null,
            "display": null,
            "flex": null,
            "flex_flow": null,
            "grid_area": null,
            "grid_auto_columns": null,
            "grid_auto_flow": null,
            "grid_auto_rows": null,
            "grid_column": null,
            "grid_gap": null,
            "grid_row": null,
            "grid_template_areas": null,
            "grid_template_columns": null,
            "grid_template_rows": null,
            "height": null,
            "justify_content": null,
            "justify_items": null,
            "left": null,
            "margin": null,
            "max_height": null,
            "max_width": null,
            "min_height": null,
            "min_width": null,
            "object_fit": null,
            "object_position": null,
            "order": null,
            "overflow": null,
            "overflow_x": null,
            "overflow_y": null,
            "padding": null,
            "right": null,
            "top": null,
            "visibility": null,
            "width": null
          }
        },
        "be2724a10019458093ef597504240bf2": {
          "model_module": "@jupyter-widgets/base",
          "model_name": "LayoutModel",
          "model_module_version": "1.2.0",
          "state": {
            "_model_module": "@jupyter-widgets/base",
            "_model_module_version": "1.2.0",
            "_model_name": "LayoutModel",
            "_view_count": null,
            "_view_module": "@jupyter-widgets/base",
            "_view_module_version": "1.2.0",
            "_view_name": "LayoutView",
            "align_content": null,
            "align_items": null,
            "align_self": null,
            "border": null,
            "bottom": null,
            "display": null,
            "flex": null,
            "flex_flow": null,
            "grid_area": null,
            "grid_auto_columns": null,
            "grid_auto_flow": null,
            "grid_auto_rows": null,
            "grid_column": null,
            "grid_gap": null,
            "grid_row": null,
            "grid_template_areas": null,
            "grid_template_columns": null,
            "grid_template_rows": null,
            "height": null,
            "justify_content": null,
            "justify_items": null,
            "left": null,
            "margin": null,
            "max_height": null,
            "max_width": null,
            "min_height": null,
            "min_width": null,
            "object_fit": null,
            "object_position": null,
            "order": null,
            "overflow": null,
            "overflow_x": null,
            "overflow_y": null,
            "padding": null,
            "right": null,
            "top": null,
            "visibility": null,
            "width": null
          }
        },
        "b7aa0c39e066409bbfdbe76ce29434b9": {
          "model_module": "@jupyter-widgets/controls",
          "model_name": "DescriptionStyleModel",
          "model_module_version": "1.5.0",
          "state": {
            "_model_module": "@jupyter-widgets/controls",
            "_model_module_version": "1.5.0",
            "_model_name": "DescriptionStyleModel",
            "_view_count": null,
            "_view_module": "@jupyter-widgets/base",
            "_view_module_version": "1.2.0",
            "_view_name": "StyleView",
            "description_width": ""
          }
        },
        "02586f39b5344f59b28388979fce19df": {
          "model_module": "@jupyter-widgets/base",
          "model_name": "LayoutModel",
          "model_module_version": "1.2.0",
          "state": {
            "_model_module": "@jupyter-widgets/base",
            "_model_module_version": "1.2.0",
            "_model_name": "LayoutModel",
            "_view_count": null,
            "_view_module": "@jupyter-widgets/base",
            "_view_module_version": "1.2.0",
            "_view_name": "LayoutView",
            "align_content": null,
            "align_items": null,
            "align_self": null,
            "border": null,
            "bottom": null,
            "display": null,
            "flex": null,
            "flex_flow": null,
            "grid_area": null,
            "grid_auto_columns": null,
            "grid_auto_flow": null,
            "grid_auto_rows": null,
            "grid_column": null,
            "grid_gap": null,
            "grid_row": null,
            "grid_template_areas": null,
            "grid_template_columns": null,
            "grid_template_rows": null,
            "height": null,
            "justify_content": null,
            "justify_items": null,
            "left": null,
            "margin": null,
            "max_height": null,
            "max_width": null,
            "min_height": null,
            "min_width": null,
            "object_fit": null,
            "object_position": null,
            "order": null,
            "overflow": null,
            "overflow_x": null,
            "overflow_y": null,
            "padding": null,
            "right": null,
            "top": null,
            "visibility": null,
            "width": null
          }
        },
        "81d68795333e47f9a2a4b0dee0242e65": {
          "model_module": "@jupyter-widgets/controls",
          "model_name": "ProgressStyleModel",
          "model_module_version": "1.5.0",
          "state": {
            "_model_module": "@jupyter-widgets/controls",
            "_model_module_version": "1.5.0",
            "_model_name": "ProgressStyleModel",
            "_view_count": null,
            "_view_module": "@jupyter-widgets/base",
            "_view_module_version": "1.2.0",
            "_view_name": "StyleView",
            "bar_color": null,
            "description_width": ""
          }
        },
        "a01710328f774f7c8eac52730030bc5c": {
          "model_module": "@jupyter-widgets/base",
          "model_name": "LayoutModel",
          "model_module_version": "1.2.0",
          "state": {
            "_model_module": "@jupyter-widgets/base",
            "_model_module_version": "1.2.0",
            "_model_name": "LayoutModel",
            "_view_count": null,
            "_view_module": "@jupyter-widgets/base",
            "_view_module_version": "1.2.0",
            "_view_name": "LayoutView",
            "align_content": null,
            "align_items": null,
            "align_self": null,
            "border": null,
            "bottom": null,
            "display": null,
            "flex": null,
            "flex_flow": null,
            "grid_area": null,
            "grid_auto_columns": null,
            "grid_auto_flow": null,
            "grid_auto_rows": null,
            "grid_column": null,
            "grid_gap": null,
            "grid_row": null,
            "grid_template_areas": null,
            "grid_template_columns": null,
            "grid_template_rows": null,
            "height": null,
            "justify_content": null,
            "justify_items": null,
            "left": null,
            "margin": null,
            "max_height": null,
            "max_width": null,
            "min_height": null,
            "min_width": null,
            "object_fit": null,
            "object_position": null,
            "order": null,
            "overflow": null,
            "overflow_x": null,
            "overflow_y": null,
            "padding": null,
            "right": null,
            "top": null,
            "visibility": null,
            "width": null
          }
        },
        "8a7f3937476b45868ecda5f1e3e6b79f": {
          "model_module": "@jupyter-widgets/controls",
          "model_name": "DescriptionStyleModel",
          "model_module_version": "1.5.0",
          "state": {
            "_model_module": "@jupyter-widgets/controls",
            "_model_module_version": "1.5.0",
            "_model_name": "DescriptionStyleModel",
            "_view_count": null,
            "_view_module": "@jupyter-widgets/base",
            "_view_module_version": "1.2.0",
            "_view_name": "StyleView",
            "description_width": ""
          }
        },
        "54fd1c2b04024bbeb4573b9c96442d10": {
          "model_module": "@jupyter-widgets/controls",
          "model_name": "HBoxModel",
          "model_module_version": "1.5.0",
          "state": {
            "_dom_classes": [],
            "_model_module": "@jupyter-widgets/controls",
            "_model_module_version": "1.5.0",
            "_model_name": "HBoxModel",
            "_view_count": null,
            "_view_module": "@jupyter-widgets/controls",
            "_view_module_version": "1.5.0",
            "_view_name": "HBoxView",
            "box_style": "",
            "children": [
              "IPY_MODEL_40678fc22f2446fa9778e25353247e70",
              "IPY_MODEL_0cd579dcc1274d28af4db5764869d3ce",
              "IPY_MODEL_8f52495a44b94000b84d893300821b35"
            ],
            "layout": "IPY_MODEL_089be0a374c5498c9a1dc3cb74470d35"
          }
        },
        "40678fc22f2446fa9778e25353247e70": {
          "model_module": "@jupyter-widgets/controls",
          "model_name": "HTMLModel",
          "model_module_version": "1.5.0",
          "state": {
            "_dom_classes": [],
            "_model_module": "@jupyter-widgets/controls",
            "_model_module_version": "1.5.0",
            "_model_name": "HTMLModel",
            "_view_count": null,
            "_view_module": "@jupyter-widgets/controls",
            "_view_module_version": "1.5.0",
            "_view_name": "HTMLView",
            "description": "",
            "description_tooltip": null,
            "layout": "IPY_MODEL_f9d12bbf903444bda0d01069ca35c1bd",
            "placeholder": "​",
            "style": "IPY_MODEL_9416a2c756984ed4bf1cc283cc439a2f",
            "value": "Downloading (…)in/added_tokens.json: 100%"
          }
        },
        "0cd579dcc1274d28af4db5764869d3ce": {
          "model_module": "@jupyter-widgets/controls",
          "model_name": "FloatProgressModel",
          "model_module_version": "1.5.0",
          "state": {
            "_dom_classes": [],
            "_model_module": "@jupyter-widgets/controls",
            "_model_module_version": "1.5.0",
            "_model_name": "FloatProgressModel",
            "_view_count": null,
            "_view_module": "@jupyter-widgets/controls",
            "_view_module_version": "1.5.0",
            "_view_name": "ProgressView",
            "bar_style": "success",
            "description": "",
            "description_tooltip": null,
            "layout": "IPY_MODEL_6cd2730c50b941799a1e13d0f27540a2",
            "max": 40,
            "min": 0,
            "orientation": "horizontal",
            "style": "IPY_MODEL_9a9dc486df9a4bffaff690390fb7ab76",
            "value": 40
          }
        },
        "8f52495a44b94000b84d893300821b35": {
          "model_module": "@jupyter-widgets/controls",
          "model_name": "HTMLModel",
          "model_module_version": "1.5.0",
          "state": {
            "_dom_classes": [],
            "_model_module": "@jupyter-widgets/controls",
            "_model_module_version": "1.5.0",
            "_model_name": "HTMLModel",
            "_view_count": null,
            "_view_module": "@jupyter-widgets/controls",
            "_view_module_version": "1.5.0",
            "_view_name": "HTMLView",
            "description": "",
            "description_tooltip": null,
            "layout": "IPY_MODEL_bc73086ab9c64b57a8942f1d0ce32837",
            "placeholder": "​",
            "style": "IPY_MODEL_87de6010ec3244dbb746f9dd07776f4f",
            "value": " 40.0/40.0 [00:00&lt;00:00, 1.21kB/s]"
          }
        },
        "089be0a374c5498c9a1dc3cb74470d35": {
          "model_module": "@jupyter-widgets/base",
          "model_name": "LayoutModel",
          "model_module_version": "1.2.0",
          "state": {
            "_model_module": "@jupyter-widgets/base",
            "_model_module_version": "1.2.0",
            "_model_name": "LayoutModel",
            "_view_count": null,
            "_view_module": "@jupyter-widgets/base",
            "_view_module_version": "1.2.0",
            "_view_name": "LayoutView",
            "align_content": null,
            "align_items": null,
            "align_self": null,
            "border": null,
            "bottom": null,
            "display": null,
            "flex": null,
            "flex_flow": null,
            "grid_area": null,
            "grid_auto_columns": null,
            "grid_auto_flow": null,
            "grid_auto_rows": null,
            "grid_column": null,
            "grid_gap": null,
            "grid_row": null,
            "grid_template_areas": null,
            "grid_template_columns": null,
            "grid_template_rows": null,
            "height": null,
            "justify_content": null,
            "justify_items": null,
            "left": null,
            "margin": null,
            "max_height": null,
            "max_width": null,
            "min_height": null,
            "min_width": null,
            "object_fit": null,
            "object_position": null,
            "order": null,
            "overflow": null,
            "overflow_x": null,
            "overflow_y": null,
            "padding": null,
            "right": null,
            "top": null,
            "visibility": null,
            "width": null
          }
        },
        "f9d12bbf903444bda0d01069ca35c1bd": {
          "model_module": "@jupyter-widgets/base",
          "model_name": "LayoutModel",
          "model_module_version": "1.2.0",
          "state": {
            "_model_module": "@jupyter-widgets/base",
            "_model_module_version": "1.2.0",
            "_model_name": "LayoutModel",
            "_view_count": null,
            "_view_module": "@jupyter-widgets/base",
            "_view_module_version": "1.2.0",
            "_view_name": "LayoutView",
            "align_content": null,
            "align_items": null,
            "align_self": null,
            "border": null,
            "bottom": null,
            "display": null,
            "flex": null,
            "flex_flow": null,
            "grid_area": null,
            "grid_auto_columns": null,
            "grid_auto_flow": null,
            "grid_auto_rows": null,
            "grid_column": null,
            "grid_gap": null,
            "grid_row": null,
            "grid_template_areas": null,
            "grid_template_columns": null,
            "grid_template_rows": null,
            "height": null,
            "justify_content": null,
            "justify_items": null,
            "left": null,
            "margin": null,
            "max_height": null,
            "max_width": null,
            "min_height": null,
            "min_width": null,
            "object_fit": null,
            "object_position": null,
            "order": null,
            "overflow": null,
            "overflow_x": null,
            "overflow_y": null,
            "padding": null,
            "right": null,
            "top": null,
            "visibility": null,
            "width": null
          }
        },
        "9416a2c756984ed4bf1cc283cc439a2f": {
          "model_module": "@jupyter-widgets/controls",
          "model_name": "DescriptionStyleModel",
          "model_module_version": "1.5.0",
          "state": {
            "_model_module": "@jupyter-widgets/controls",
            "_model_module_version": "1.5.0",
            "_model_name": "DescriptionStyleModel",
            "_view_count": null,
            "_view_module": "@jupyter-widgets/base",
            "_view_module_version": "1.2.0",
            "_view_name": "StyleView",
            "description_width": ""
          }
        },
        "6cd2730c50b941799a1e13d0f27540a2": {
          "model_module": "@jupyter-widgets/base",
          "model_name": "LayoutModel",
          "model_module_version": "1.2.0",
          "state": {
            "_model_module": "@jupyter-widgets/base",
            "_model_module_version": "1.2.0",
            "_model_name": "LayoutModel",
            "_view_count": null,
            "_view_module": "@jupyter-widgets/base",
            "_view_module_version": "1.2.0",
            "_view_name": "LayoutView",
            "align_content": null,
            "align_items": null,
            "align_self": null,
            "border": null,
            "bottom": null,
            "display": null,
            "flex": null,
            "flex_flow": null,
            "grid_area": null,
            "grid_auto_columns": null,
            "grid_auto_flow": null,
            "grid_auto_rows": null,
            "grid_column": null,
            "grid_gap": null,
            "grid_row": null,
            "grid_template_areas": null,
            "grid_template_columns": null,
            "grid_template_rows": null,
            "height": null,
            "justify_content": null,
            "justify_items": null,
            "left": null,
            "margin": null,
            "max_height": null,
            "max_width": null,
            "min_height": null,
            "min_width": null,
            "object_fit": null,
            "object_position": null,
            "order": null,
            "overflow": null,
            "overflow_x": null,
            "overflow_y": null,
            "padding": null,
            "right": null,
            "top": null,
            "visibility": null,
            "width": null
          }
        },
        "9a9dc486df9a4bffaff690390fb7ab76": {
          "model_module": "@jupyter-widgets/controls",
          "model_name": "ProgressStyleModel",
          "model_module_version": "1.5.0",
          "state": {
            "_model_module": "@jupyter-widgets/controls",
            "_model_module_version": "1.5.0",
            "_model_name": "ProgressStyleModel",
            "_view_count": null,
            "_view_module": "@jupyter-widgets/base",
            "_view_module_version": "1.2.0",
            "_view_name": "StyleView",
            "bar_color": null,
            "description_width": ""
          }
        },
        "bc73086ab9c64b57a8942f1d0ce32837": {
          "model_module": "@jupyter-widgets/base",
          "model_name": "LayoutModel",
          "model_module_version": "1.2.0",
          "state": {
            "_model_module": "@jupyter-widgets/base",
            "_model_module_version": "1.2.0",
            "_model_name": "LayoutModel",
            "_view_count": null,
            "_view_module": "@jupyter-widgets/base",
            "_view_module_version": "1.2.0",
            "_view_name": "LayoutView",
            "align_content": null,
            "align_items": null,
            "align_self": null,
            "border": null,
            "bottom": null,
            "display": null,
            "flex": null,
            "flex_flow": null,
            "grid_area": null,
            "grid_auto_columns": null,
            "grid_auto_flow": null,
            "grid_auto_rows": null,
            "grid_column": null,
            "grid_gap": null,
            "grid_row": null,
            "grid_template_areas": null,
            "grid_template_columns": null,
            "grid_template_rows": null,
            "height": null,
            "justify_content": null,
            "justify_items": null,
            "left": null,
            "margin": null,
            "max_height": null,
            "max_width": null,
            "min_height": null,
            "min_width": null,
            "object_fit": null,
            "object_position": null,
            "order": null,
            "overflow": null,
            "overflow_x": null,
            "overflow_y": null,
            "padding": null,
            "right": null,
            "top": null,
            "visibility": null,
            "width": null
          }
        },
        "87de6010ec3244dbb746f9dd07776f4f": {
          "model_module": "@jupyter-widgets/controls",
          "model_name": "DescriptionStyleModel",
          "model_module_version": "1.5.0",
          "state": {
            "_model_module": "@jupyter-widgets/controls",
            "_model_module_version": "1.5.0",
            "_model_name": "DescriptionStyleModel",
            "_view_count": null,
            "_view_module": "@jupyter-widgets/base",
            "_view_module_version": "1.2.0",
            "_view_name": "StyleView",
            "description_width": ""
          }
        },
        "8fcbbc390f6441138ae92c51076ad1f7": {
          "model_module": "@jupyter-widgets/controls",
          "model_name": "HBoxModel",
          "model_module_version": "1.5.0",
          "state": {
            "_dom_classes": [],
            "_model_module": "@jupyter-widgets/controls",
            "_model_module_version": "1.5.0",
            "_model_name": "HBoxModel",
            "_view_count": null,
            "_view_module": "@jupyter-widgets/controls",
            "_view_module_version": "1.5.0",
            "_view_name": "HBoxView",
            "box_style": "",
            "children": [
              "IPY_MODEL_332724923b3d4afb843b78a2b45cdd32",
              "IPY_MODEL_1de733dd6a3e47c99276c7c2f0cd0741",
              "IPY_MODEL_d8ba75ff07f54ed7846c96e404b64b72"
            ],
            "layout": "IPY_MODEL_6d61904f592f4382a2830b9187718970"
          }
        },
        "332724923b3d4afb843b78a2b45cdd32": {
          "model_module": "@jupyter-widgets/controls",
          "model_name": "HTMLModel",
          "model_module_version": "1.5.0",
          "state": {
            "_dom_classes": [],
            "_model_module": "@jupyter-widgets/controls",
            "_model_module_version": "1.5.0",
            "_model_name": "HTMLModel",
            "_view_count": null,
            "_view_module": "@jupyter-widgets/controls",
            "_view_module_version": "1.5.0",
            "_view_name": "HTMLView",
            "description": "",
            "description_tooltip": null,
            "layout": "IPY_MODEL_27a5066340984bc8ad1b6ecaf82b8d45",
            "placeholder": "​",
            "style": "IPY_MODEL_010bf9d4deeb4b7ba67d171cbaec87be",
            "value": "Downloading (…)cial_tokens_map.json: 100%"
          }
        },
        "1de733dd6a3e47c99276c7c2f0cd0741": {
          "model_module": "@jupyter-widgets/controls",
          "model_name": "FloatProgressModel",
          "model_module_version": "1.5.0",
          "state": {
            "_dom_classes": [],
            "_model_module": "@jupyter-widgets/controls",
            "_model_module_version": "1.5.0",
            "_model_name": "FloatProgressModel",
            "_view_count": null,
            "_view_module": "@jupyter-widgets/controls",
            "_view_module_version": "1.5.0",
            "_view_name": "ProgressView",
            "bar_style": "success",
            "description": "",
            "description_tooltip": null,
            "layout": "IPY_MODEL_47e080830d0043718979ac83f76b4894",
            "max": 234,
            "min": 0,
            "orientation": "horizontal",
            "style": "IPY_MODEL_7d1159d824e24ddbb24a113b8d626dc9",
            "value": 234
          }
        },
        "d8ba75ff07f54ed7846c96e404b64b72": {
          "model_module": "@jupyter-widgets/controls",
          "model_name": "HTMLModel",
          "model_module_version": "1.5.0",
          "state": {
            "_dom_classes": [],
            "_model_module": "@jupyter-widgets/controls",
            "_model_module_version": "1.5.0",
            "_model_name": "HTMLModel",
            "_view_count": null,
            "_view_module": "@jupyter-widgets/controls",
            "_view_module_version": "1.5.0",
            "_view_name": "HTMLView",
            "description": "",
            "description_tooltip": null,
            "layout": "IPY_MODEL_e917251480714403893ea35d7ee988ba",
            "placeholder": "​",
            "style": "IPY_MODEL_13472f33275640a6812c3fe847695bcb",
            "value": " 234/234 [00:00&lt;00:00, 3.50kB/s]"
          }
        },
        "6d61904f592f4382a2830b9187718970": {
          "model_module": "@jupyter-widgets/base",
          "model_name": "LayoutModel",
          "model_module_version": "1.2.0",
          "state": {
            "_model_module": "@jupyter-widgets/base",
            "_model_module_version": "1.2.0",
            "_model_name": "LayoutModel",
            "_view_count": null,
            "_view_module": "@jupyter-widgets/base",
            "_view_module_version": "1.2.0",
            "_view_name": "LayoutView",
            "align_content": null,
            "align_items": null,
            "align_self": null,
            "border": null,
            "bottom": null,
            "display": null,
            "flex": null,
            "flex_flow": null,
            "grid_area": null,
            "grid_auto_columns": null,
            "grid_auto_flow": null,
            "grid_auto_rows": null,
            "grid_column": null,
            "grid_gap": null,
            "grid_row": null,
            "grid_template_areas": null,
            "grid_template_columns": null,
            "grid_template_rows": null,
            "height": null,
            "justify_content": null,
            "justify_items": null,
            "left": null,
            "margin": null,
            "max_height": null,
            "max_width": null,
            "min_height": null,
            "min_width": null,
            "object_fit": null,
            "object_position": null,
            "order": null,
            "overflow": null,
            "overflow_x": null,
            "overflow_y": null,
            "padding": null,
            "right": null,
            "top": null,
            "visibility": null,
            "width": null
          }
        },
        "27a5066340984bc8ad1b6ecaf82b8d45": {
          "model_module": "@jupyter-widgets/base",
          "model_name": "LayoutModel",
          "model_module_version": "1.2.0",
          "state": {
            "_model_module": "@jupyter-widgets/base",
            "_model_module_version": "1.2.0",
            "_model_name": "LayoutModel",
            "_view_count": null,
            "_view_module": "@jupyter-widgets/base",
            "_view_module_version": "1.2.0",
            "_view_name": "LayoutView",
            "align_content": null,
            "align_items": null,
            "align_self": null,
            "border": null,
            "bottom": null,
            "display": null,
            "flex": null,
            "flex_flow": null,
            "grid_area": null,
            "grid_auto_columns": null,
            "grid_auto_flow": null,
            "grid_auto_rows": null,
            "grid_column": null,
            "grid_gap": null,
            "grid_row": null,
            "grid_template_areas": null,
            "grid_template_columns": null,
            "grid_template_rows": null,
            "height": null,
            "justify_content": null,
            "justify_items": null,
            "left": null,
            "margin": null,
            "max_height": null,
            "max_width": null,
            "min_height": null,
            "min_width": null,
            "object_fit": null,
            "object_position": null,
            "order": null,
            "overflow": null,
            "overflow_x": null,
            "overflow_y": null,
            "padding": null,
            "right": null,
            "top": null,
            "visibility": null,
            "width": null
          }
        },
        "010bf9d4deeb4b7ba67d171cbaec87be": {
          "model_module": "@jupyter-widgets/controls",
          "model_name": "DescriptionStyleModel",
          "model_module_version": "1.5.0",
          "state": {
            "_model_module": "@jupyter-widgets/controls",
            "_model_module_version": "1.5.0",
            "_model_name": "DescriptionStyleModel",
            "_view_count": null,
            "_view_module": "@jupyter-widgets/base",
            "_view_module_version": "1.2.0",
            "_view_name": "StyleView",
            "description_width": ""
          }
        },
        "47e080830d0043718979ac83f76b4894": {
          "model_module": "@jupyter-widgets/base",
          "model_name": "LayoutModel",
          "model_module_version": "1.2.0",
          "state": {
            "_model_module": "@jupyter-widgets/base",
            "_model_module_version": "1.2.0",
            "_model_name": "LayoutModel",
            "_view_count": null,
            "_view_module": "@jupyter-widgets/base",
            "_view_module_version": "1.2.0",
            "_view_name": "LayoutView",
            "align_content": null,
            "align_items": null,
            "align_self": null,
            "border": null,
            "bottom": null,
            "display": null,
            "flex": null,
            "flex_flow": null,
            "grid_area": null,
            "grid_auto_columns": null,
            "grid_auto_flow": null,
            "grid_auto_rows": null,
            "grid_column": null,
            "grid_gap": null,
            "grid_row": null,
            "grid_template_areas": null,
            "grid_template_columns": null,
            "grid_template_rows": null,
            "height": null,
            "justify_content": null,
            "justify_items": null,
            "left": null,
            "margin": null,
            "max_height": null,
            "max_width": null,
            "min_height": null,
            "min_width": null,
            "object_fit": null,
            "object_position": null,
            "order": null,
            "overflow": null,
            "overflow_x": null,
            "overflow_y": null,
            "padding": null,
            "right": null,
            "top": null,
            "visibility": null,
            "width": null
          }
        },
        "7d1159d824e24ddbb24a113b8d626dc9": {
          "model_module": "@jupyter-widgets/controls",
          "model_name": "ProgressStyleModel",
          "model_module_version": "1.5.0",
          "state": {
            "_model_module": "@jupyter-widgets/controls",
            "_model_module_version": "1.5.0",
            "_model_name": "ProgressStyleModel",
            "_view_count": null,
            "_view_module": "@jupyter-widgets/base",
            "_view_module_version": "1.2.0",
            "_view_name": "StyleView",
            "bar_color": null,
            "description_width": ""
          }
        },
        "e917251480714403893ea35d7ee988ba": {
          "model_module": "@jupyter-widgets/base",
          "model_name": "LayoutModel",
          "model_module_version": "1.2.0",
          "state": {
            "_model_module": "@jupyter-widgets/base",
            "_model_module_version": "1.2.0",
            "_model_name": "LayoutModel",
            "_view_count": null,
            "_view_module": "@jupyter-widgets/base",
            "_view_module_version": "1.2.0",
            "_view_name": "LayoutView",
            "align_content": null,
            "align_items": null,
            "align_self": null,
            "border": null,
            "bottom": null,
            "display": null,
            "flex": null,
            "flex_flow": null,
            "grid_area": null,
            "grid_auto_columns": null,
            "grid_auto_flow": null,
            "grid_auto_rows": null,
            "grid_column": null,
            "grid_gap": null,
            "grid_row": null,
            "grid_template_areas": null,
            "grid_template_columns": null,
            "grid_template_rows": null,
            "height": null,
            "justify_content": null,
            "justify_items": null,
            "left": null,
            "margin": null,
            "max_height": null,
            "max_width": null,
            "min_height": null,
            "min_width": null,
            "object_fit": null,
            "object_position": null,
            "order": null,
            "overflow": null,
            "overflow_x": null,
            "overflow_y": null,
            "padding": null,
            "right": null,
            "top": null,
            "visibility": null,
            "width": null
          }
        },
        "13472f33275640a6812c3fe847695bcb": {
          "model_module": "@jupyter-widgets/controls",
          "model_name": "DescriptionStyleModel",
          "model_module_version": "1.5.0",
          "state": {
            "_model_module": "@jupyter-widgets/controls",
            "_model_module_version": "1.5.0",
            "_model_name": "DescriptionStyleModel",
            "_view_count": null,
            "_view_module": "@jupyter-widgets/base",
            "_view_module_version": "1.2.0",
            "_view_name": "StyleView",
            "description_width": ""
          }
        },
        "de4904dce0aa47858ee7d67bc416a94b": {
          "model_module": "@jupyter-widgets/controls",
          "model_name": "HBoxModel",
          "model_module_version": "1.5.0",
          "state": {
            "_dom_classes": [],
            "_model_module": "@jupyter-widgets/controls",
            "_model_module_version": "1.5.0",
            "_model_name": "HBoxModel",
            "_view_count": null,
            "_view_module": "@jupyter-widgets/controls",
            "_view_module_version": "1.5.0",
            "_view_name": "HBoxView",
            "box_style": "",
            "children": [
              "IPY_MODEL_3d5a609189b2430198eff3ca8ad58310",
              "IPY_MODEL_ff4adb2b004f44f69a7cbd7185164fef",
              "IPY_MODEL_1d58d5ce3fbf4f249742beba2b68c966"
            ],
            "layout": "IPY_MODEL_75d1e2b14c284aaf841944f76031decb"
          }
        },
        "3d5a609189b2430198eff3ca8ad58310": {
          "model_module": "@jupyter-widgets/controls",
          "model_name": "HTMLModel",
          "model_module_version": "1.5.0",
          "state": {
            "_dom_classes": [],
            "_model_module": "@jupyter-widgets/controls",
            "_model_module_version": "1.5.0",
            "_model_name": "HTMLModel",
            "_view_count": null,
            "_view_module": "@jupyter-widgets/controls",
            "_view_module_version": "1.5.0",
            "_view_name": "HTMLView",
            "description": "",
            "description_tooltip": null,
            "layout": "IPY_MODEL_7996082ea67948b38c407b74df8191f7",
            "placeholder": "​",
            "style": "IPY_MODEL_f489b489d7f84e8c8bb7a0f38f43a38a",
            "value": "Downloading (…)okenizer_config.json: 100%"
          }
        },
        "ff4adb2b004f44f69a7cbd7185164fef": {
          "model_module": "@jupyter-widgets/controls",
          "model_name": "FloatProgressModel",
          "model_module_version": "1.5.0",
          "state": {
            "_dom_classes": [],
            "_model_module": "@jupyter-widgets/controls",
            "_model_module_version": "1.5.0",
            "_model_name": "FloatProgressModel",
            "_view_count": null,
            "_view_module": "@jupyter-widgets/controls",
            "_view_module_version": "1.5.0",
            "_view_name": "ProgressView",
            "bar_style": "success",
            "description": "",
            "description_tooltip": null,
            "layout": "IPY_MODEL_b0c50456c3ed497ea882c3b7a7b7fde2",
            "max": 232,
            "min": 0,
            "orientation": "horizontal",
            "style": "IPY_MODEL_a86bafdaf1b945b18255233258aab2cb",
            "value": 232
          }
        },
        "1d58d5ce3fbf4f249742beba2b68c966": {
          "model_module": "@jupyter-widgets/controls",
          "model_name": "HTMLModel",
          "model_module_version": "1.5.0",
          "state": {
            "_dom_classes": [],
            "_model_module": "@jupyter-widgets/controls",
            "_model_module_version": "1.5.0",
            "_model_name": "HTMLModel",
            "_view_count": null,
            "_view_module": "@jupyter-widgets/controls",
            "_view_module_version": "1.5.0",
            "_view_name": "HTMLView",
            "description": "",
            "description_tooltip": null,
            "layout": "IPY_MODEL_ea087183b76d4194bf40bb83320d158d",
            "placeholder": "​",
            "style": "IPY_MODEL_f8689b380c324f508bd7df7362321dde",
            "value": " 232/232 [00:00&lt;00:00, 3.10kB/s]"
          }
        },
        "75d1e2b14c284aaf841944f76031decb": {
          "model_module": "@jupyter-widgets/base",
          "model_name": "LayoutModel",
          "model_module_version": "1.2.0",
          "state": {
            "_model_module": "@jupyter-widgets/base",
            "_model_module_version": "1.2.0",
            "_model_name": "LayoutModel",
            "_view_count": null,
            "_view_module": "@jupyter-widgets/base",
            "_view_module_version": "1.2.0",
            "_view_name": "LayoutView",
            "align_content": null,
            "align_items": null,
            "align_self": null,
            "border": null,
            "bottom": null,
            "display": null,
            "flex": null,
            "flex_flow": null,
            "grid_area": null,
            "grid_auto_columns": null,
            "grid_auto_flow": null,
            "grid_auto_rows": null,
            "grid_column": null,
            "grid_gap": null,
            "grid_row": null,
            "grid_template_areas": null,
            "grid_template_columns": null,
            "grid_template_rows": null,
            "height": null,
            "justify_content": null,
            "justify_items": null,
            "left": null,
            "margin": null,
            "max_height": null,
            "max_width": null,
            "min_height": null,
            "min_width": null,
            "object_fit": null,
            "object_position": null,
            "order": null,
            "overflow": null,
            "overflow_x": null,
            "overflow_y": null,
            "padding": null,
            "right": null,
            "top": null,
            "visibility": null,
            "width": null
          }
        },
        "7996082ea67948b38c407b74df8191f7": {
          "model_module": "@jupyter-widgets/base",
          "model_name": "LayoutModel",
          "model_module_version": "1.2.0",
          "state": {
            "_model_module": "@jupyter-widgets/base",
            "_model_module_version": "1.2.0",
            "_model_name": "LayoutModel",
            "_view_count": null,
            "_view_module": "@jupyter-widgets/base",
            "_view_module_version": "1.2.0",
            "_view_name": "LayoutView",
            "align_content": null,
            "align_items": null,
            "align_self": null,
            "border": null,
            "bottom": null,
            "display": null,
            "flex": null,
            "flex_flow": null,
            "grid_area": null,
            "grid_auto_columns": null,
            "grid_auto_flow": null,
            "grid_auto_rows": null,
            "grid_column": null,
            "grid_gap": null,
            "grid_row": null,
            "grid_template_areas": null,
            "grid_template_columns": null,
            "grid_template_rows": null,
            "height": null,
            "justify_content": null,
            "justify_items": null,
            "left": null,
            "margin": null,
            "max_height": null,
            "max_width": null,
            "min_height": null,
            "min_width": null,
            "object_fit": null,
            "object_position": null,
            "order": null,
            "overflow": null,
            "overflow_x": null,
            "overflow_y": null,
            "padding": null,
            "right": null,
            "top": null,
            "visibility": null,
            "width": null
          }
        },
        "f489b489d7f84e8c8bb7a0f38f43a38a": {
          "model_module": "@jupyter-widgets/controls",
          "model_name": "DescriptionStyleModel",
          "model_module_version": "1.5.0",
          "state": {
            "_model_module": "@jupyter-widgets/controls",
            "_model_module_version": "1.5.0",
            "_model_name": "DescriptionStyleModel",
            "_view_count": null,
            "_view_module": "@jupyter-widgets/base",
            "_view_module_version": "1.2.0",
            "_view_name": "StyleView",
            "description_width": ""
          }
        },
        "b0c50456c3ed497ea882c3b7a7b7fde2": {
          "model_module": "@jupyter-widgets/base",
          "model_name": "LayoutModel",
          "model_module_version": "1.2.0",
          "state": {
            "_model_module": "@jupyter-widgets/base",
            "_model_module_version": "1.2.0",
            "_model_name": "LayoutModel",
            "_view_count": null,
            "_view_module": "@jupyter-widgets/base",
            "_view_module_version": "1.2.0",
            "_view_name": "LayoutView",
            "align_content": null,
            "align_items": null,
            "align_self": null,
            "border": null,
            "bottom": null,
            "display": null,
            "flex": null,
            "flex_flow": null,
            "grid_area": null,
            "grid_auto_columns": null,
            "grid_auto_flow": null,
            "grid_auto_rows": null,
            "grid_column": null,
            "grid_gap": null,
            "grid_row": null,
            "grid_template_areas": null,
            "grid_template_columns": null,
            "grid_template_rows": null,
            "height": null,
            "justify_content": null,
            "justify_items": null,
            "left": null,
            "margin": null,
            "max_height": null,
            "max_width": null,
            "min_height": null,
            "min_width": null,
            "object_fit": null,
            "object_position": null,
            "order": null,
            "overflow": null,
            "overflow_x": null,
            "overflow_y": null,
            "padding": null,
            "right": null,
            "top": null,
            "visibility": null,
            "width": null
          }
        },
        "a86bafdaf1b945b18255233258aab2cb": {
          "model_module": "@jupyter-widgets/controls",
          "model_name": "ProgressStyleModel",
          "model_module_version": "1.5.0",
          "state": {
            "_model_module": "@jupyter-widgets/controls",
            "_model_module_version": "1.5.0",
            "_model_name": "ProgressStyleModel",
            "_view_count": null,
            "_view_module": "@jupyter-widgets/base",
            "_view_module_version": "1.2.0",
            "_view_name": "StyleView",
            "bar_color": null,
            "description_width": ""
          }
        },
        "ea087183b76d4194bf40bb83320d158d": {
          "model_module": "@jupyter-widgets/base",
          "model_name": "LayoutModel",
          "model_module_version": "1.2.0",
          "state": {
            "_model_module": "@jupyter-widgets/base",
            "_model_module_version": "1.2.0",
            "_model_name": "LayoutModel",
            "_view_count": null,
            "_view_module": "@jupyter-widgets/base",
            "_view_module_version": "1.2.0",
            "_view_name": "LayoutView",
            "align_content": null,
            "align_items": null,
            "align_self": null,
            "border": null,
            "bottom": null,
            "display": null,
            "flex": null,
            "flex_flow": null,
            "grid_area": null,
            "grid_auto_columns": null,
            "grid_auto_flow": null,
            "grid_auto_rows": null,
            "grid_column": null,
            "grid_gap": null,
            "grid_row": null,
            "grid_template_areas": null,
            "grid_template_columns": null,
            "grid_template_rows": null,
            "height": null,
            "justify_content": null,
            "justify_items": null,
            "left": null,
            "margin": null,
            "max_height": null,
            "max_width": null,
            "min_height": null,
            "min_width": null,
            "object_fit": null,
            "object_position": null,
            "order": null,
            "overflow": null,
            "overflow_x": null,
            "overflow_y": null,
            "padding": null,
            "right": null,
            "top": null,
            "visibility": null,
            "width": null
          }
        },
        "f8689b380c324f508bd7df7362321dde": {
          "model_module": "@jupyter-widgets/controls",
          "model_name": "DescriptionStyleModel",
          "model_module_version": "1.5.0",
          "state": {
            "_model_module": "@jupyter-widgets/controls",
            "_model_module_version": "1.5.0",
            "_model_name": "DescriptionStyleModel",
            "_view_count": null,
            "_view_module": "@jupyter-widgets/base",
            "_view_module_version": "1.2.0",
            "_view_name": "StyleView",
            "description_width": ""
          }
        },
        "cabe0b6fe6cb4fe9995f16482977c1c0": {
          "model_module": "@jupyter-widgets/controls",
          "model_name": "HBoxModel",
          "model_module_version": "1.5.0",
          "state": {
            "_dom_classes": [],
            "_model_module": "@jupyter-widgets/controls",
            "_model_module_version": "1.5.0",
            "_model_name": "HBoxModel",
            "_view_count": null,
            "_view_module": "@jupyter-widgets/controls",
            "_view_module_version": "1.5.0",
            "_view_name": "HBoxView",
            "box_style": "",
            "children": [
              "IPY_MODEL_ddd33f34e6d14f679dbe169b63a562a3",
              "IPY_MODEL_24a493c909e142e39c76841e9a3732d5",
              "IPY_MODEL_244364665ae14e68b631ca064273c1ba"
            ],
            "layout": "IPY_MODEL_078bb2fd562d458d98d53126b7d6a3aa"
          }
        },
        "ddd33f34e6d14f679dbe169b63a562a3": {
          "model_module": "@jupyter-widgets/controls",
          "model_name": "HTMLModel",
          "model_module_version": "1.5.0",
          "state": {
            "_dom_classes": [],
            "_model_module": "@jupyter-widgets/controls",
            "_model_module_version": "1.5.0",
            "_model_name": "HTMLModel",
            "_view_count": null,
            "_view_module": "@jupyter-widgets/controls",
            "_view_module_version": "1.5.0",
            "_view_name": "HTMLView",
            "description": "",
            "description_tooltip": null,
            "layout": "IPY_MODEL_3dd969eb46ee4dfb91e93cf561a281f4",
            "placeholder": "​",
            "style": "IPY_MODEL_b4133e23c9154bc1bfe78b3c25d369c8",
            "value": "Downloading (…)lve/main/config.json: 100%"
          }
        },
        "24a493c909e142e39c76841e9a3732d5": {
          "model_module": "@jupyter-widgets/controls",
          "model_name": "FloatProgressModel",
          "model_module_version": "1.5.0",
          "state": {
            "_dom_classes": [],
            "_model_module": "@jupyter-widgets/controls",
            "_model_module_version": "1.5.0",
            "_model_name": "FloatProgressModel",
            "_view_count": null,
            "_view_module": "@jupyter-widgets/controls",
            "_view_module_version": "1.5.0",
            "_view_name": "ProgressView",
            "bar_style": "success",
            "description": "",
            "description_tooltip": null,
            "layout": "IPY_MODEL_f36d3590638346fe948cc550e2451ffc",
            "max": 2108,
            "min": 0,
            "orientation": "horizontal",
            "style": "IPY_MODEL_17b71f54d62748e49578457447a8922c",
            "value": 2108
          }
        },
        "244364665ae14e68b631ca064273c1ba": {
          "model_module": "@jupyter-widgets/controls",
          "model_name": "HTMLModel",
          "model_module_version": "1.5.0",
          "state": {
            "_dom_classes": [],
            "_model_module": "@jupyter-widgets/controls",
            "_model_module_version": "1.5.0",
            "_model_name": "HTMLModel",
            "_view_count": null,
            "_view_module": "@jupyter-widgets/controls",
            "_view_module_version": "1.5.0",
            "_view_name": "HTMLView",
            "description": "",
            "description_tooltip": null,
            "layout": "IPY_MODEL_d32f177899754360a46f9adf3d7b0b02",
            "placeholder": "​",
            "style": "IPY_MODEL_ad05875a53c549feacdcefb40580f436",
            "value": " 2.11k/2.11k [00:00&lt;00:00, 37.9kB/s]"
          }
        },
        "078bb2fd562d458d98d53126b7d6a3aa": {
          "model_module": "@jupyter-widgets/base",
          "model_name": "LayoutModel",
          "model_module_version": "1.2.0",
          "state": {
            "_model_module": "@jupyter-widgets/base",
            "_model_module_version": "1.2.0",
            "_model_name": "LayoutModel",
            "_view_count": null,
            "_view_module": "@jupyter-widgets/base",
            "_view_module_version": "1.2.0",
            "_view_name": "LayoutView",
            "align_content": null,
            "align_items": null,
            "align_self": null,
            "border": null,
            "bottom": null,
            "display": null,
            "flex": null,
            "flex_flow": null,
            "grid_area": null,
            "grid_auto_columns": null,
            "grid_auto_flow": null,
            "grid_auto_rows": null,
            "grid_column": null,
            "grid_gap": null,
            "grid_row": null,
            "grid_template_areas": null,
            "grid_template_columns": null,
            "grid_template_rows": null,
            "height": null,
            "justify_content": null,
            "justify_items": null,
            "left": null,
            "margin": null,
            "max_height": null,
            "max_width": null,
            "min_height": null,
            "min_width": null,
            "object_fit": null,
            "object_position": null,
            "order": null,
            "overflow": null,
            "overflow_x": null,
            "overflow_y": null,
            "padding": null,
            "right": null,
            "top": null,
            "visibility": null,
            "width": null
          }
        },
        "3dd969eb46ee4dfb91e93cf561a281f4": {
          "model_module": "@jupyter-widgets/base",
          "model_name": "LayoutModel",
          "model_module_version": "1.2.0",
          "state": {
            "_model_module": "@jupyter-widgets/base",
            "_model_module_version": "1.2.0",
            "_model_name": "LayoutModel",
            "_view_count": null,
            "_view_module": "@jupyter-widgets/base",
            "_view_module_version": "1.2.0",
            "_view_name": "LayoutView",
            "align_content": null,
            "align_items": null,
            "align_self": null,
            "border": null,
            "bottom": null,
            "display": null,
            "flex": null,
            "flex_flow": null,
            "grid_area": null,
            "grid_auto_columns": null,
            "grid_auto_flow": null,
            "grid_auto_rows": null,
            "grid_column": null,
            "grid_gap": null,
            "grid_row": null,
            "grid_template_areas": null,
            "grid_template_columns": null,
            "grid_template_rows": null,
            "height": null,
            "justify_content": null,
            "justify_items": null,
            "left": null,
            "margin": null,
            "max_height": null,
            "max_width": null,
            "min_height": null,
            "min_width": null,
            "object_fit": null,
            "object_position": null,
            "order": null,
            "overflow": null,
            "overflow_x": null,
            "overflow_y": null,
            "padding": null,
            "right": null,
            "top": null,
            "visibility": null,
            "width": null
          }
        },
        "b4133e23c9154bc1bfe78b3c25d369c8": {
          "model_module": "@jupyter-widgets/controls",
          "model_name": "DescriptionStyleModel",
          "model_module_version": "1.5.0",
          "state": {
            "_model_module": "@jupyter-widgets/controls",
            "_model_module_version": "1.5.0",
            "_model_name": "DescriptionStyleModel",
            "_view_count": null,
            "_view_module": "@jupyter-widgets/base",
            "_view_module_version": "1.2.0",
            "_view_name": "StyleView",
            "description_width": ""
          }
        },
        "f36d3590638346fe948cc550e2451ffc": {
          "model_module": "@jupyter-widgets/base",
          "model_name": "LayoutModel",
          "model_module_version": "1.2.0",
          "state": {
            "_model_module": "@jupyter-widgets/base",
            "_model_module_version": "1.2.0",
            "_model_name": "LayoutModel",
            "_view_count": null,
            "_view_module": "@jupyter-widgets/base",
            "_view_module_version": "1.2.0",
            "_view_name": "LayoutView",
            "align_content": null,
            "align_items": null,
            "align_self": null,
            "border": null,
            "bottom": null,
            "display": null,
            "flex": null,
            "flex_flow": null,
            "grid_area": null,
            "grid_auto_columns": null,
            "grid_auto_flow": null,
            "grid_auto_rows": null,
            "grid_column": null,
            "grid_gap": null,
            "grid_row": null,
            "grid_template_areas": null,
            "grid_template_columns": null,
            "grid_template_rows": null,
            "height": null,
            "justify_content": null,
            "justify_items": null,
            "left": null,
            "margin": null,
            "max_height": null,
            "max_width": null,
            "min_height": null,
            "min_width": null,
            "object_fit": null,
            "object_position": null,
            "order": null,
            "overflow": null,
            "overflow_x": null,
            "overflow_y": null,
            "padding": null,
            "right": null,
            "top": null,
            "visibility": null,
            "width": null
          }
        },
        "17b71f54d62748e49578457447a8922c": {
          "model_module": "@jupyter-widgets/controls",
          "model_name": "ProgressStyleModel",
          "model_module_version": "1.5.0",
          "state": {
            "_model_module": "@jupyter-widgets/controls",
            "_model_module_version": "1.5.0",
            "_model_name": "ProgressStyleModel",
            "_view_count": null,
            "_view_module": "@jupyter-widgets/base",
            "_view_module_version": "1.2.0",
            "_view_name": "StyleView",
            "bar_color": null,
            "description_width": ""
          }
        },
        "d32f177899754360a46f9adf3d7b0b02": {
          "model_module": "@jupyter-widgets/base",
          "model_name": "LayoutModel",
          "model_module_version": "1.2.0",
          "state": {
            "_model_module": "@jupyter-widgets/base",
            "_model_module_version": "1.2.0",
            "_model_name": "LayoutModel",
            "_view_count": null,
            "_view_module": "@jupyter-widgets/base",
            "_view_module_version": "1.2.0",
            "_view_name": "LayoutView",
            "align_content": null,
            "align_items": null,
            "align_self": null,
            "border": null,
            "bottom": null,
            "display": null,
            "flex": null,
            "flex_flow": null,
            "grid_area": null,
            "grid_auto_columns": null,
            "grid_auto_flow": null,
            "grid_auto_rows": null,
            "grid_column": null,
            "grid_gap": null,
            "grid_row": null,
            "grid_template_areas": null,
            "grid_template_columns": null,
            "grid_template_rows": null,
            "height": null,
            "justify_content": null,
            "justify_items": null,
            "left": null,
            "margin": null,
            "max_height": null,
            "max_width": null,
            "min_height": null,
            "min_width": null,
            "object_fit": null,
            "object_position": null,
            "order": null,
            "overflow": null,
            "overflow_x": null,
            "overflow_y": null,
            "padding": null,
            "right": null,
            "top": null,
            "visibility": null,
            "width": null
          }
        },
        "ad05875a53c549feacdcefb40580f436": {
          "model_module": "@jupyter-widgets/controls",
          "model_name": "DescriptionStyleModel",
          "model_module_version": "1.5.0",
          "state": {
            "_model_module": "@jupyter-widgets/controls",
            "_model_module_version": "1.5.0",
            "_model_name": "DescriptionStyleModel",
            "_view_count": null,
            "_view_module": "@jupyter-widgets/base",
            "_view_module_version": "1.2.0",
            "_view_name": "StyleView",
            "description_width": ""
          }
        },
        "be794a5c59df493abb133e37d738aa08": {
          "model_module": "@jupyter-widgets/controls",
          "model_name": "HBoxModel",
          "model_module_version": "1.5.0",
          "state": {
            "_dom_classes": [],
            "_model_module": "@jupyter-widgets/controls",
            "_model_module_version": "1.5.0",
            "_model_name": "HBoxModel",
            "_view_count": null,
            "_view_module": "@jupyter-widgets/controls",
            "_view_module_version": "1.5.0",
            "_view_name": "HBoxView",
            "box_style": "",
            "children": [
              "IPY_MODEL_59565f9ece1a4d82872f2cb14eb0b586",
              "IPY_MODEL_f9893a73d7b549aa84e227b337466d22",
              "IPY_MODEL_b5e8065e08b146b3862c45b98d1f5ef2"
            ],
            "layout": "IPY_MODEL_67b1abe46fad4afc8042e026eaff3f65"
          }
        },
        "59565f9ece1a4d82872f2cb14eb0b586": {
          "model_module": "@jupyter-widgets/controls",
          "model_name": "HTMLModel",
          "model_module_version": "1.5.0",
          "state": {
            "_dom_classes": [],
            "_model_module": "@jupyter-widgets/controls",
            "_model_module_version": "1.5.0",
            "_model_name": "HTMLModel",
            "_view_count": null,
            "_view_module": "@jupyter-widgets/controls",
            "_view_module_version": "1.5.0",
            "_view_name": "HTMLView",
            "description": "",
            "description_tooltip": null,
            "layout": "IPY_MODEL_4c533e8e87ce406e9ad07ea11f28af90",
            "placeholder": "​",
            "style": "IPY_MODEL_52f8af080d664ef99d030004dd63b63d",
            "value": "Downloading pytorch_model.bin: 100%"
          }
        },
        "f9893a73d7b549aa84e227b337466d22": {
          "model_module": "@jupyter-widgets/controls",
          "model_name": "FloatProgressModel",
          "model_module_version": "1.5.0",
          "state": {
            "_dom_classes": [],
            "_model_module": "@jupyter-widgets/controls",
            "_model_module_version": "1.5.0",
            "_model_name": "FloatProgressModel",
            "_view_count": null,
            "_view_module": "@jupyter-widgets/controls",
            "_view_module_version": "1.5.0",
            "_view_name": "ProgressView",
            "bar_style": "success",
            "description": "",
            "description_tooltip": null,
            "layout": "IPY_MODEL_6f5fd1f4e740438dbc67bd9ff72e1388",
            "max": 585485317,
            "min": 0,
            "orientation": "horizontal",
            "style": "IPY_MODEL_b074eb9d95f14829834512e8caff7124",
            "value": 585485317
          }
        },
        "b5e8065e08b146b3862c45b98d1f5ef2": {
          "model_module": "@jupyter-widgets/controls",
          "model_name": "HTMLModel",
          "model_module_version": "1.5.0",
          "state": {
            "_dom_classes": [],
            "_model_module": "@jupyter-widgets/controls",
            "_model_module_version": "1.5.0",
            "_model_name": "HTMLModel",
            "_view_count": null,
            "_view_module": "@jupyter-widgets/controls",
            "_view_module_version": "1.5.0",
            "_view_name": "HTMLView",
            "description": "",
            "description_tooltip": null,
            "layout": "IPY_MODEL_ea814c9358d5424abfdeac42c9eeebc8",
            "placeholder": "​",
            "style": "IPY_MODEL_fd47f0d10bbd45c0a48e6ae4e35b4c14",
            "value": " 585M/585M [00:10&lt;00:00, 60.1MB/s]"
          }
        },
        "67b1abe46fad4afc8042e026eaff3f65": {
          "model_module": "@jupyter-widgets/base",
          "model_name": "LayoutModel",
          "model_module_version": "1.2.0",
          "state": {
            "_model_module": "@jupyter-widgets/base",
            "_model_module_version": "1.2.0",
            "_model_name": "LayoutModel",
            "_view_count": null,
            "_view_module": "@jupyter-widgets/base",
            "_view_module_version": "1.2.0",
            "_view_name": "LayoutView",
            "align_content": null,
            "align_items": null,
            "align_self": null,
            "border": null,
            "bottom": null,
            "display": null,
            "flex": null,
            "flex_flow": null,
            "grid_area": null,
            "grid_auto_columns": null,
            "grid_auto_flow": null,
            "grid_auto_rows": null,
            "grid_column": null,
            "grid_gap": null,
            "grid_row": null,
            "grid_template_areas": null,
            "grid_template_columns": null,
            "grid_template_rows": null,
            "height": null,
            "justify_content": null,
            "justify_items": null,
            "left": null,
            "margin": null,
            "max_height": null,
            "max_width": null,
            "min_height": null,
            "min_width": null,
            "object_fit": null,
            "object_position": null,
            "order": null,
            "overflow": null,
            "overflow_x": null,
            "overflow_y": null,
            "padding": null,
            "right": null,
            "top": null,
            "visibility": null,
            "width": null
          }
        },
        "4c533e8e87ce406e9ad07ea11f28af90": {
          "model_module": "@jupyter-widgets/base",
          "model_name": "LayoutModel",
          "model_module_version": "1.2.0",
          "state": {
            "_model_module": "@jupyter-widgets/base",
            "_model_module_version": "1.2.0",
            "_model_name": "LayoutModel",
            "_view_count": null,
            "_view_module": "@jupyter-widgets/base",
            "_view_module_version": "1.2.0",
            "_view_name": "LayoutView",
            "align_content": null,
            "align_items": null,
            "align_self": null,
            "border": null,
            "bottom": null,
            "display": null,
            "flex": null,
            "flex_flow": null,
            "grid_area": null,
            "grid_auto_columns": null,
            "grid_auto_flow": null,
            "grid_auto_rows": null,
            "grid_column": null,
            "grid_gap": null,
            "grid_row": null,
            "grid_template_areas": null,
            "grid_template_columns": null,
            "grid_template_rows": null,
            "height": null,
            "justify_content": null,
            "justify_items": null,
            "left": null,
            "margin": null,
            "max_height": null,
            "max_width": null,
            "min_height": null,
            "min_width": null,
            "object_fit": null,
            "object_position": null,
            "order": null,
            "overflow": null,
            "overflow_x": null,
            "overflow_y": null,
            "padding": null,
            "right": null,
            "top": null,
            "visibility": null,
            "width": null
          }
        },
        "52f8af080d664ef99d030004dd63b63d": {
          "model_module": "@jupyter-widgets/controls",
          "model_name": "DescriptionStyleModel",
          "model_module_version": "1.5.0",
          "state": {
            "_model_module": "@jupyter-widgets/controls",
            "_model_module_version": "1.5.0",
            "_model_name": "DescriptionStyleModel",
            "_view_count": null,
            "_view_module": "@jupyter-widgets/base",
            "_view_module_version": "1.2.0",
            "_view_name": "StyleView",
            "description_width": ""
          }
        },
        "6f5fd1f4e740438dbc67bd9ff72e1388": {
          "model_module": "@jupyter-widgets/base",
          "model_name": "LayoutModel",
          "model_module_version": "1.2.0",
          "state": {
            "_model_module": "@jupyter-widgets/base",
            "_model_module_version": "1.2.0",
            "_model_name": "LayoutModel",
            "_view_count": null,
            "_view_module": "@jupyter-widgets/base",
            "_view_module_version": "1.2.0",
            "_view_name": "LayoutView",
            "align_content": null,
            "align_items": null,
            "align_self": null,
            "border": null,
            "bottom": null,
            "display": null,
            "flex": null,
            "flex_flow": null,
            "grid_area": null,
            "grid_auto_columns": null,
            "grid_auto_flow": null,
            "grid_auto_rows": null,
            "grid_column": null,
            "grid_gap": null,
            "grid_row": null,
            "grid_template_areas": null,
            "grid_template_columns": null,
            "grid_template_rows": null,
            "height": null,
            "justify_content": null,
            "justify_items": null,
            "left": null,
            "margin": null,
            "max_height": null,
            "max_width": null,
            "min_height": null,
            "min_width": null,
            "object_fit": null,
            "object_position": null,
            "order": null,
            "overflow": null,
            "overflow_x": null,
            "overflow_y": null,
            "padding": null,
            "right": null,
            "top": null,
            "visibility": null,
            "width": null
          }
        },
        "b074eb9d95f14829834512e8caff7124": {
          "model_module": "@jupyter-widgets/controls",
          "model_name": "ProgressStyleModel",
          "model_module_version": "1.5.0",
          "state": {
            "_model_module": "@jupyter-widgets/controls",
            "_model_module_version": "1.5.0",
            "_model_name": "ProgressStyleModel",
            "_view_count": null,
            "_view_module": "@jupyter-widgets/base",
            "_view_module_version": "1.2.0",
            "_view_name": "StyleView",
            "bar_color": null,
            "description_width": ""
          }
        },
        "ea814c9358d5424abfdeac42c9eeebc8": {
          "model_module": "@jupyter-widgets/base",
          "model_name": "LayoutModel",
          "model_module_version": "1.2.0",
          "state": {
            "_model_module": "@jupyter-widgets/base",
            "_model_module_version": "1.2.0",
            "_model_name": "LayoutModel",
            "_view_count": null,
            "_view_module": "@jupyter-widgets/base",
            "_view_module_version": "1.2.0",
            "_view_name": "LayoutView",
            "align_content": null,
            "align_items": null,
            "align_self": null,
            "border": null,
            "bottom": null,
            "display": null,
            "flex": null,
            "flex_flow": null,
            "grid_area": null,
            "grid_auto_columns": null,
            "grid_auto_flow": null,
            "grid_auto_rows": null,
            "grid_column": null,
            "grid_gap": null,
            "grid_row": null,
            "grid_template_areas": null,
            "grid_template_columns": null,
            "grid_template_rows": null,
            "height": null,
            "justify_content": null,
            "justify_items": null,
            "left": null,
            "margin": null,
            "max_height": null,
            "max_width": null,
            "min_height": null,
            "min_width": null,
            "object_fit": null,
            "object_position": null,
            "order": null,
            "overflow": null,
            "overflow_x": null,
            "overflow_y": null,
            "padding": null,
            "right": null,
            "top": null,
            "visibility": null,
            "width": null
          }
        },
        "fd47f0d10bbd45c0a48e6ae4e35b4c14": {
          "model_module": "@jupyter-widgets/controls",
          "model_name": "DescriptionStyleModel",
          "model_module_version": "1.5.0",
          "state": {
            "_model_module": "@jupyter-widgets/controls",
            "_model_module_version": "1.5.0",
            "_model_name": "DescriptionStyleModel",
            "_view_count": null,
            "_view_module": "@jupyter-widgets/base",
            "_view_module_version": "1.2.0",
            "_view_name": "StyleView",
            "description_width": ""
          }
        },
        "ca5c497dd555442bbc6136292d9f17cf": {
          "model_module": "@jupyter-widgets/controls",
          "model_name": "HBoxModel",
          "model_module_version": "1.5.0",
          "state": {
            "_dom_classes": [],
            "_model_module": "@jupyter-widgets/controls",
            "_model_module_version": "1.5.0",
            "_model_name": "HBoxModel",
            "_view_count": null,
            "_view_module": "@jupyter-widgets/controls",
            "_view_module_version": "1.5.0",
            "_view_name": "HBoxView",
            "box_style": "",
            "children": [
              "IPY_MODEL_e7e4b63fa7704754b337c1344bde41e8",
              "IPY_MODEL_cbac5960459743239935fb4ac612d7f3",
              "IPY_MODEL_6f6697d330734844bad3f201b4c6545d"
            ],
            "layout": "IPY_MODEL_587ce1f989554b43919df7486cc8fe0e"
          }
        },
        "e7e4b63fa7704754b337c1344bde41e8": {
          "model_module": "@jupyter-widgets/controls",
          "model_name": "HTMLModel",
          "model_module_version": "1.5.0",
          "state": {
            "_dom_classes": [],
            "_model_module": "@jupyter-widgets/controls",
            "_model_module_version": "1.5.0",
            "_model_name": "HTMLModel",
            "_view_count": null,
            "_view_module": "@jupyter-widgets/controls",
            "_view_module_version": "1.5.0",
            "_view_name": "HTMLView",
            "description": "",
            "description_tooltip": null,
            "layout": "IPY_MODEL_515e3134168347848231b7a577f9bd81",
            "placeholder": "​",
            "style": "IPY_MODEL_6851a051e5364ed5bbe361002d1a544b",
            "value": "Downloading builder script: 100%"
          }
        },
        "cbac5960459743239935fb4ac612d7f3": {
          "model_module": "@jupyter-widgets/controls",
          "model_name": "FloatProgressModel",
          "model_module_version": "1.5.0",
          "state": {
            "_dom_classes": [],
            "_model_module": "@jupyter-widgets/controls",
            "_model_module_version": "1.5.0",
            "_model_name": "FloatProgressModel",
            "_view_count": null,
            "_view_module": "@jupyter-widgets/controls",
            "_view_module_version": "1.5.0",
            "_view_name": "ProgressView",
            "bar_style": "success",
            "description": "",
            "description_tooltip": null,
            "layout": "IPY_MODEL_09d158bc127e40ae83b7a85515d2b116",
            "max": 1364,
            "min": 0,
            "orientation": "horizontal",
            "style": "IPY_MODEL_6398f36b6fc34afb980b5ed8e8fb3167",
            "value": 1364
          }
        },
        "6f6697d330734844bad3f201b4c6545d": {
          "model_module": "@jupyter-widgets/controls",
          "model_name": "HTMLModel",
          "model_module_version": "1.5.0",
          "state": {
            "_dom_classes": [],
            "_model_module": "@jupyter-widgets/controls",
            "_model_module_version": "1.5.0",
            "_model_name": "HTMLModel",
            "_view_count": null,
            "_view_module": "@jupyter-widgets/controls",
            "_view_module_version": "1.5.0",
            "_view_name": "HTMLView",
            "description": "",
            "description_tooltip": null,
            "layout": "IPY_MODEL_2d45f05701c34fe0af18f1fad4bb045e",
            "placeholder": "​",
            "style": "IPY_MODEL_80fad8449327466e97db6781022b723a",
            "value": " 1.36k/1.36k [00:00&lt;00:00, 46.8kB/s]"
          }
        },
        "587ce1f989554b43919df7486cc8fe0e": {
          "model_module": "@jupyter-widgets/base",
          "model_name": "LayoutModel",
          "model_module_version": "1.2.0",
          "state": {
            "_model_module": "@jupyter-widgets/base",
            "_model_module_version": "1.2.0",
            "_model_name": "LayoutModel",
            "_view_count": null,
            "_view_module": "@jupyter-widgets/base",
            "_view_module_version": "1.2.0",
            "_view_name": "LayoutView",
            "align_content": null,
            "align_items": null,
            "align_self": null,
            "border": null,
            "bottom": null,
            "display": null,
            "flex": null,
            "flex_flow": null,
            "grid_area": null,
            "grid_auto_columns": null,
            "grid_auto_flow": null,
            "grid_auto_rows": null,
            "grid_column": null,
            "grid_gap": null,
            "grid_row": null,
            "grid_template_areas": null,
            "grid_template_columns": null,
            "grid_template_rows": null,
            "height": null,
            "justify_content": null,
            "justify_items": null,
            "left": null,
            "margin": null,
            "max_height": null,
            "max_width": null,
            "min_height": null,
            "min_width": null,
            "object_fit": null,
            "object_position": null,
            "order": null,
            "overflow": null,
            "overflow_x": null,
            "overflow_y": null,
            "padding": null,
            "right": null,
            "top": null,
            "visibility": null,
            "width": null
          }
        },
        "515e3134168347848231b7a577f9bd81": {
          "model_module": "@jupyter-widgets/base",
          "model_name": "LayoutModel",
          "model_module_version": "1.2.0",
          "state": {
            "_model_module": "@jupyter-widgets/base",
            "_model_module_version": "1.2.0",
            "_model_name": "LayoutModel",
            "_view_count": null,
            "_view_module": "@jupyter-widgets/base",
            "_view_module_version": "1.2.0",
            "_view_name": "LayoutView",
            "align_content": null,
            "align_items": null,
            "align_self": null,
            "border": null,
            "bottom": null,
            "display": null,
            "flex": null,
            "flex_flow": null,
            "grid_area": null,
            "grid_auto_columns": null,
            "grid_auto_flow": null,
            "grid_auto_rows": null,
            "grid_column": null,
            "grid_gap": null,
            "grid_row": null,
            "grid_template_areas": null,
            "grid_template_columns": null,
            "grid_template_rows": null,
            "height": null,
            "justify_content": null,
            "justify_items": null,
            "left": null,
            "margin": null,
            "max_height": null,
            "max_width": null,
            "min_height": null,
            "min_width": null,
            "object_fit": null,
            "object_position": null,
            "order": null,
            "overflow": null,
            "overflow_x": null,
            "overflow_y": null,
            "padding": null,
            "right": null,
            "top": null,
            "visibility": null,
            "width": null
          }
        },
        "6851a051e5364ed5bbe361002d1a544b": {
          "model_module": "@jupyter-widgets/controls",
          "model_name": "DescriptionStyleModel",
          "model_module_version": "1.5.0",
          "state": {
            "_model_module": "@jupyter-widgets/controls",
            "_model_module_version": "1.5.0",
            "_model_name": "DescriptionStyleModel",
            "_view_count": null,
            "_view_module": "@jupyter-widgets/base",
            "_view_module_version": "1.2.0",
            "_view_name": "StyleView",
            "description_width": ""
          }
        },
        "09d158bc127e40ae83b7a85515d2b116": {
          "model_module": "@jupyter-widgets/base",
          "model_name": "LayoutModel",
          "model_module_version": "1.2.0",
          "state": {
            "_model_module": "@jupyter-widgets/base",
            "_model_module_version": "1.2.0",
            "_model_name": "LayoutModel",
            "_view_count": null,
            "_view_module": "@jupyter-widgets/base",
            "_view_module_version": "1.2.0",
            "_view_name": "LayoutView",
            "align_content": null,
            "align_items": null,
            "align_self": null,
            "border": null,
            "bottom": null,
            "display": null,
            "flex": null,
            "flex_flow": null,
            "grid_area": null,
            "grid_auto_columns": null,
            "grid_auto_flow": null,
            "grid_auto_rows": null,
            "grid_column": null,
            "grid_gap": null,
            "grid_row": null,
            "grid_template_areas": null,
            "grid_template_columns": null,
            "grid_template_rows": null,
            "height": null,
            "justify_content": null,
            "justify_items": null,
            "left": null,
            "margin": null,
            "max_height": null,
            "max_width": null,
            "min_height": null,
            "min_width": null,
            "object_fit": null,
            "object_position": null,
            "order": null,
            "overflow": null,
            "overflow_x": null,
            "overflow_y": null,
            "padding": null,
            "right": null,
            "top": null,
            "visibility": null,
            "width": null
          }
        },
        "6398f36b6fc34afb980b5ed8e8fb3167": {
          "model_module": "@jupyter-widgets/controls",
          "model_name": "ProgressStyleModel",
          "model_module_version": "1.5.0",
          "state": {
            "_model_module": "@jupyter-widgets/controls",
            "_model_module_version": "1.5.0",
            "_model_name": "ProgressStyleModel",
            "_view_count": null,
            "_view_module": "@jupyter-widgets/base",
            "_view_module_version": "1.2.0",
            "_view_name": "StyleView",
            "bar_color": null,
            "description_width": ""
          }
        },
        "2d45f05701c34fe0af18f1fad4bb045e": {
          "model_module": "@jupyter-widgets/base",
          "model_name": "LayoutModel",
          "model_module_version": "1.2.0",
          "state": {
            "_model_module": "@jupyter-widgets/base",
            "_model_module_version": "1.2.0",
            "_model_name": "LayoutModel",
            "_view_count": null,
            "_view_module": "@jupyter-widgets/base",
            "_view_module_version": "1.2.0",
            "_view_name": "LayoutView",
            "align_content": null,
            "align_items": null,
            "align_self": null,
            "border": null,
            "bottom": null,
            "display": null,
            "flex": null,
            "flex_flow": null,
            "grid_area": null,
            "grid_auto_columns": null,
            "grid_auto_flow": null,
            "grid_auto_rows": null,
            "grid_column": null,
            "grid_gap": null,
            "grid_row": null,
            "grid_template_areas": null,
            "grid_template_columns": null,
            "grid_template_rows": null,
            "height": null,
            "justify_content": null,
            "justify_items": null,
            "left": null,
            "margin": null,
            "max_height": null,
            "max_width": null,
            "min_height": null,
            "min_width": null,
            "object_fit": null,
            "object_position": null,
            "order": null,
            "overflow": null,
            "overflow_x": null,
            "overflow_y": null,
            "padding": null,
            "right": null,
            "top": null,
            "visibility": null,
            "width": null
          }
        },
        "80fad8449327466e97db6781022b723a": {
          "model_module": "@jupyter-widgets/controls",
          "model_name": "DescriptionStyleModel",
          "model_module_version": "1.5.0",
          "state": {
            "_model_module": "@jupyter-widgets/controls",
            "_model_module_version": "1.5.0",
            "_model_name": "DescriptionStyleModel",
            "_view_count": null,
            "_view_module": "@jupyter-widgets/base",
            "_view_module_version": "1.2.0",
            "_view_name": "StyleView",
            "description_width": ""
          }
        },
        "9d6b8451bcc646539df0638746cf208c": {
          "model_module": "@jupyter-widgets/controls",
          "model_name": "HBoxModel",
          "model_module_version": "1.5.0",
          "state": {
            "_dom_classes": [],
            "_model_module": "@jupyter-widgets/controls",
            "_model_module_version": "1.5.0",
            "_model_name": "HBoxModel",
            "_view_count": null,
            "_view_module": "@jupyter-widgets/controls",
            "_view_module_version": "1.5.0",
            "_view_name": "HBoxView",
            "box_style": "",
            "children": [
              "IPY_MODEL_65aa36f4aa964ff0a27b4f7f03e63bee",
              "IPY_MODEL_4eaef9a1f0c749628af07802a7375f11",
              "IPY_MODEL_bcc64fedcb66492190ce2237431b4a62"
            ],
            "layout": "IPY_MODEL_7a25f906a8734944959a4ac8dc822b2b"
          }
        },
        "65aa36f4aa964ff0a27b4f7f03e63bee": {
          "model_module": "@jupyter-widgets/controls",
          "model_name": "HTMLModel",
          "model_module_version": "1.5.0",
          "state": {
            "_dom_classes": [],
            "_model_module": "@jupyter-widgets/controls",
            "_model_module_version": "1.5.0",
            "_model_name": "HTMLModel",
            "_view_count": null,
            "_view_module": "@jupyter-widgets/controls",
            "_view_module_version": "1.5.0",
            "_view_name": "HTMLView",
            "description": "",
            "description_tooltip": null,
            "layout": "IPY_MODEL_2f3202e1c83e4050a59733878b93cc61",
            "placeholder": "​",
            "style": "IPY_MODEL_04a92a84fed3419ab577b01d0a82c865",
            "value": "Downloading readme: 100%"
          }
        },
        "4eaef9a1f0c749628af07802a7375f11": {
          "model_module": "@jupyter-widgets/controls",
          "model_name": "FloatProgressModel",
          "model_module_version": "1.5.0",
          "state": {
            "_dom_classes": [],
            "_model_module": "@jupyter-widgets/controls",
            "_model_module_version": "1.5.0",
            "_model_name": "FloatProgressModel",
            "_view_count": null,
            "_view_module": "@jupyter-widgets/controls",
            "_view_module_version": "1.5.0",
            "_view_name": "ProgressView",
            "bar_style": "success",
            "description": "",
            "description_tooltip": null,
            "layout": "IPY_MODEL_e9f9b2bc78b0472b841deed856c5555d",
            "max": 1012,
            "min": 0,
            "orientation": "horizontal",
            "style": "IPY_MODEL_1179703362164e9b86a634699896c6c5",
            "value": 1012
          }
        },
        "bcc64fedcb66492190ce2237431b4a62": {
          "model_module": "@jupyter-widgets/controls",
          "model_name": "HTMLModel",
          "model_module_version": "1.5.0",
          "state": {
            "_dom_classes": [],
            "_model_module": "@jupyter-widgets/controls",
            "_model_module_version": "1.5.0",
            "_model_name": "HTMLModel",
            "_view_count": null,
            "_view_module": "@jupyter-widgets/controls",
            "_view_module_version": "1.5.0",
            "_view_name": "HTMLView",
            "description": "",
            "description_tooltip": null,
            "layout": "IPY_MODEL_14ff164bb8af400b9a795ae2f2e8ef10",
            "placeholder": "​",
            "style": "IPY_MODEL_a3585050da9b4e9e81b8b39d6fbcda6a",
            "value": " 1.01k/1.01k [00:00&lt;00:00, 38.6kB/s]"
          }
        },
        "7a25f906a8734944959a4ac8dc822b2b": {
          "model_module": "@jupyter-widgets/base",
          "model_name": "LayoutModel",
          "model_module_version": "1.2.0",
          "state": {
            "_model_module": "@jupyter-widgets/base",
            "_model_module_version": "1.2.0",
            "_model_name": "LayoutModel",
            "_view_count": null,
            "_view_module": "@jupyter-widgets/base",
            "_view_module_version": "1.2.0",
            "_view_name": "LayoutView",
            "align_content": null,
            "align_items": null,
            "align_self": null,
            "border": null,
            "bottom": null,
            "display": null,
            "flex": null,
            "flex_flow": null,
            "grid_area": null,
            "grid_auto_columns": null,
            "grid_auto_flow": null,
            "grid_auto_rows": null,
            "grid_column": null,
            "grid_gap": null,
            "grid_row": null,
            "grid_template_areas": null,
            "grid_template_columns": null,
            "grid_template_rows": null,
            "height": null,
            "justify_content": null,
            "justify_items": null,
            "left": null,
            "margin": null,
            "max_height": null,
            "max_width": null,
            "min_height": null,
            "min_width": null,
            "object_fit": null,
            "object_position": null,
            "order": null,
            "overflow": null,
            "overflow_x": null,
            "overflow_y": null,
            "padding": null,
            "right": null,
            "top": null,
            "visibility": null,
            "width": null
          }
        },
        "2f3202e1c83e4050a59733878b93cc61": {
          "model_module": "@jupyter-widgets/base",
          "model_name": "LayoutModel",
          "model_module_version": "1.2.0",
          "state": {
            "_model_module": "@jupyter-widgets/base",
            "_model_module_version": "1.2.0",
            "_model_name": "LayoutModel",
            "_view_count": null,
            "_view_module": "@jupyter-widgets/base",
            "_view_module_version": "1.2.0",
            "_view_name": "LayoutView",
            "align_content": null,
            "align_items": null,
            "align_self": null,
            "border": null,
            "bottom": null,
            "display": null,
            "flex": null,
            "flex_flow": null,
            "grid_area": null,
            "grid_auto_columns": null,
            "grid_auto_flow": null,
            "grid_auto_rows": null,
            "grid_column": null,
            "grid_gap": null,
            "grid_row": null,
            "grid_template_areas": null,
            "grid_template_columns": null,
            "grid_template_rows": null,
            "height": null,
            "justify_content": null,
            "justify_items": null,
            "left": null,
            "margin": null,
            "max_height": null,
            "max_width": null,
            "min_height": null,
            "min_width": null,
            "object_fit": null,
            "object_position": null,
            "order": null,
            "overflow": null,
            "overflow_x": null,
            "overflow_y": null,
            "padding": null,
            "right": null,
            "top": null,
            "visibility": null,
            "width": null
          }
        },
        "04a92a84fed3419ab577b01d0a82c865": {
          "model_module": "@jupyter-widgets/controls",
          "model_name": "DescriptionStyleModel",
          "model_module_version": "1.5.0",
          "state": {
            "_model_module": "@jupyter-widgets/controls",
            "_model_module_version": "1.5.0",
            "_model_name": "DescriptionStyleModel",
            "_view_count": null,
            "_view_module": "@jupyter-widgets/base",
            "_view_module_version": "1.2.0",
            "_view_name": "StyleView",
            "description_width": ""
          }
        },
        "e9f9b2bc78b0472b841deed856c5555d": {
          "model_module": "@jupyter-widgets/base",
          "model_name": "LayoutModel",
          "model_module_version": "1.2.0",
          "state": {
            "_model_module": "@jupyter-widgets/base",
            "_model_module_version": "1.2.0",
            "_model_name": "LayoutModel",
            "_view_count": null,
            "_view_module": "@jupyter-widgets/base",
            "_view_module_version": "1.2.0",
            "_view_name": "LayoutView",
            "align_content": null,
            "align_items": null,
            "align_self": null,
            "border": null,
            "bottom": null,
            "display": null,
            "flex": null,
            "flex_flow": null,
            "grid_area": null,
            "grid_auto_columns": null,
            "grid_auto_flow": null,
            "grid_auto_rows": null,
            "grid_column": null,
            "grid_gap": null,
            "grid_row": null,
            "grid_template_areas": null,
            "grid_template_columns": null,
            "grid_template_rows": null,
            "height": null,
            "justify_content": null,
            "justify_items": null,
            "left": null,
            "margin": null,
            "max_height": null,
            "max_width": null,
            "min_height": null,
            "min_width": null,
            "object_fit": null,
            "object_position": null,
            "order": null,
            "overflow": null,
            "overflow_x": null,
            "overflow_y": null,
            "padding": null,
            "right": null,
            "top": null,
            "visibility": null,
            "width": null
          }
        },
        "1179703362164e9b86a634699896c6c5": {
          "model_module": "@jupyter-widgets/controls",
          "model_name": "ProgressStyleModel",
          "model_module_version": "1.5.0",
          "state": {
            "_model_module": "@jupyter-widgets/controls",
            "_model_module_version": "1.5.0",
            "_model_name": "ProgressStyleModel",
            "_view_count": null,
            "_view_module": "@jupyter-widgets/base",
            "_view_module_version": "1.2.0",
            "_view_name": "StyleView",
            "bar_color": null,
            "description_width": ""
          }
        },
        "14ff164bb8af400b9a795ae2f2e8ef10": {
          "model_module": "@jupyter-widgets/base",
          "model_name": "LayoutModel",
          "model_module_version": "1.2.0",
          "state": {
            "_model_module": "@jupyter-widgets/base",
            "_model_module_version": "1.2.0",
            "_model_name": "LayoutModel",
            "_view_count": null,
            "_view_module": "@jupyter-widgets/base",
            "_view_module_version": "1.2.0",
            "_view_name": "LayoutView",
            "align_content": null,
            "align_items": null,
            "align_self": null,
            "border": null,
            "bottom": null,
            "display": null,
            "flex": null,
            "flex_flow": null,
            "grid_area": null,
            "grid_auto_columns": null,
            "grid_auto_flow": null,
            "grid_auto_rows": null,
            "grid_column": null,
            "grid_gap": null,
            "grid_row": null,
            "grid_template_areas": null,
            "grid_template_columns": null,
            "grid_template_rows": null,
            "height": null,
            "justify_content": null,
            "justify_items": null,
            "left": null,
            "margin": null,
            "max_height": null,
            "max_width": null,
            "min_height": null,
            "min_width": null,
            "object_fit": null,
            "object_position": null,
            "order": null,
            "overflow": null,
            "overflow_x": null,
            "overflow_y": null,
            "padding": null,
            "right": null,
            "top": null,
            "visibility": null,
            "width": null
          }
        },
        "a3585050da9b4e9e81b8b39d6fbcda6a": {
          "model_module": "@jupyter-widgets/controls",
          "model_name": "DescriptionStyleModel",
          "model_module_version": "1.5.0",
          "state": {
            "_model_module": "@jupyter-widgets/controls",
            "_model_module_version": "1.5.0",
            "_model_name": "DescriptionStyleModel",
            "_view_count": null,
            "_view_module": "@jupyter-widgets/base",
            "_view_module_version": "1.2.0",
            "_view_name": "StyleView",
            "description_width": ""
          }
        },
        "1ed16b1fa8c2458f90e08b28d6fcb024": {
          "model_module": "@jupyter-widgets/controls",
          "model_name": "HBoxModel",
          "model_module_version": "1.5.0",
          "state": {
            "_dom_classes": [],
            "_model_module": "@jupyter-widgets/controls",
            "_model_module_version": "1.5.0",
            "_model_name": "HBoxModel",
            "_view_count": null,
            "_view_module": "@jupyter-widgets/controls",
            "_view_module_version": "1.5.0",
            "_view_name": "HBoxView",
            "box_style": "",
            "children": [
              "IPY_MODEL_ae4e9e47961a422ab00ed30ba5431c70",
              "IPY_MODEL_b39fd5be0195414392ec317ff6a7a2ff",
              "IPY_MODEL_c627b4d5017a477593812a8dbe388f9c"
            ],
            "layout": "IPY_MODEL_2ecd3f59d5494c9583fadebdd4e4a987"
          }
        },
        "ae4e9e47961a422ab00ed30ba5431c70": {
          "model_module": "@jupyter-widgets/controls",
          "model_name": "HTMLModel",
          "model_module_version": "1.5.0",
          "state": {
            "_dom_classes": [],
            "_model_module": "@jupyter-widgets/controls",
            "_model_module_version": "1.5.0",
            "_model_name": "HTMLModel",
            "_view_count": null,
            "_view_module": "@jupyter-widgets/controls",
            "_view_module_version": "1.5.0",
            "_view_name": "HTMLView",
            "description": "",
            "description_tooltip": null,
            "layout": "IPY_MODEL_3676758f39aa4c16b2b4a2d0c85665b3",
            "placeholder": "​",
            "style": "IPY_MODEL_c6e9afc860584bba84f5d2eb53f75d6f",
            "value": "Downloading data: 100%"
          }
        },
        "b39fd5be0195414392ec317ff6a7a2ff": {
          "model_module": "@jupyter-widgets/controls",
          "model_name": "FloatProgressModel",
          "model_module_version": "1.5.0",
          "state": {
            "_dom_classes": [],
            "_model_module": "@jupyter-widgets/controls",
            "_model_module_version": "1.5.0",
            "_model_name": "FloatProgressModel",
            "_view_count": null,
            "_view_module": "@jupyter-widgets/controls",
            "_view_module_version": "1.5.0",
            "_view_name": "ProgressView",
            "bar_style": "success",
            "description": "",
            "description_tooltip": null,
            "layout": "IPY_MODEL_3079bb3c58934d88b26ec59870639183",
            "max": 17943510,
            "min": 0,
            "orientation": "horizontal",
            "style": "IPY_MODEL_6ff59c4c019848619e20acf18b0c6fe0",
            "value": 17943510
          }
        },
        "c627b4d5017a477593812a8dbe388f9c": {
          "model_module": "@jupyter-widgets/controls",
          "model_name": "HTMLModel",
          "model_module_version": "1.5.0",
          "state": {
            "_dom_classes": [],
            "_model_module": "@jupyter-widgets/controls",
            "_model_module_version": "1.5.0",
            "_model_name": "HTMLModel",
            "_view_count": null,
            "_view_module": "@jupyter-widgets/controls",
            "_view_module_version": "1.5.0",
            "_view_name": "HTMLView",
            "description": "",
            "description_tooltip": null,
            "layout": "IPY_MODEL_e1682825169d4f55a07c4d68b9cf80e9",
            "placeholder": "​",
            "style": "IPY_MODEL_1e572adef890474fa41d22a8e6a1c273",
            "value": " 17.9M/17.9M [00:00&lt;00:00, 30.4MB/s]"
          }
        },
        "2ecd3f59d5494c9583fadebdd4e4a987": {
          "model_module": "@jupyter-widgets/base",
          "model_name": "LayoutModel",
          "model_module_version": "1.2.0",
          "state": {
            "_model_module": "@jupyter-widgets/base",
            "_model_module_version": "1.2.0",
            "_model_name": "LayoutModel",
            "_view_count": null,
            "_view_module": "@jupyter-widgets/base",
            "_view_module_version": "1.2.0",
            "_view_name": "LayoutView",
            "align_content": null,
            "align_items": null,
            "align_self": null,
            "border": null,
            "bottom": null,
            "display": null,
            "flex": null,
            "flex_flow": null,
            "grid_area": null,
            "grid_auto_columns": null,
            "grid_auto_flow": null,
            "grid_auto_rows": null,
            "grid_column": null,
            "grid_gap": null,
            "grid_row": null,
            "grid_template_areas": null,
            "grid_template_columns": null,
            "grid_template_rows": null,
            "height": null,
            "justify_content": null,
            "justify_items": null,
            "left": null,
            "margin": null,
            "max_height": null,
            "max_width": null,
            "min_height": null,
            "min_width": null,
            "object_fit": null,
            "object_position": null,
            "order": null,
            "overflow": null,
            "overflow_x": null,
            "overflow_y": null,
            "padding": null,
            "right": null,
            "top": null,
            "visibility": null,
            "width": null
          }
        },
        "3676758f39aa4c16b2b4a2d0c85665b3": {
          "model_module": "@jupyter-widgets/base",
          "model_name": "LayoutModel",
          "model_module_version": "1.2.0",
          "state": {
            "_model_module": "@jupyter-widgets/base",
            "_model_module_version": "1.2.0",
            "_model_name": "LayoutModel",
            "_view_count": null,
            "_view_module": "@jupyter-widgets/base",
            "_view_module_version": "1.2.0",
            "_view_name": "LayoutView",
            "align_content": null,
            "align_items": null,
            "align_self": null,
            "border": null,
            "bottom": null,
            "display": null,
            "flex": null,
            "flex_flow": null,
            "grid_area": null,
            "grid_auto_columns": null,
            "grid_auto_flow": null,
            "grid_auto_rows": null,
            "grid_column": null,
            "grid_gap": null,
            "grid_row": null,
            "grid_template_areas": null,
            "grid_template_columns": null,
            "grid_template_rows": null,
            "height": null,
            "justify_content": null,
            "justify_items": null,
            "left": null,
            "margin": null,
            "max_height": null,
            "max_width": null,
            "min_height": null,
            "min_width": null,
            "object_fit": null,
            "object_position": null,
            "order": null,
            "overflow": null,
            "overflow_x": null,
            "overflow_y": null,
            "padding": null,
            "right": null,
            "top": null,
            "visibility": null,
            "width": null
          }
        },
        "c6e9afc860584bba84f5d2eb53f75d6f": {
          "model_module": "@jupyter-widgets/controls",
          "model_name": "DescriptionStyleModel",
          "model_module_version": "1.5.0",
          "state": {
            "_model_module": "@jupyter-widgets/controls",
            "_model_module_version": "1.5.0",
            "_model_name": "DescriptionStyleModel",
            "_view_count": null,
            "_view_module": "@jupyter-widgets/base",
            "_view_module_version": "1.2.0",
            "_view_name": "StyleView",
            "description_width": ""
          }
        },
        "3079bb3c58934d88b26ec59870639183": {
          "model_module": "@jupyter-widgets/base",
          "model_name": "LayoutModel",
          "model_module_version": "1.2.0",
          "state": {
            "_model_module": "@jupyter-widgets/base",
            "_model_module_version": "1.2.0",
            "_model_name": "LayoutModel",
            "_view_count": null,
            "_view_module": "@jupyter-widgets/base",
            "_view_module_version": "1.2.0",
            "_view_name": "LayoutView",
            "align_content": null,
            "align_items": null,
            "align_self": null,
            "border": null,
            "bottom": null,
            "display": null,
            "flex": null,
            "flex_flow": null,
            "grid_area": null,
            "grid_auto_columns": null,
            "grid_auto_flow": null,
            "grid_auto_rows": null,
            "grid_column": null,
            "grid_gap": null,
            "grid_row": null,
            "grid_template_areas": null,
            "grid_template_columns": null,
            "grid_template_rows": null,
            "height": null,
            "justify_content": null,
            "justify_items": null,
            "left": null,
            "margin": null,
            "max_height": null,
            "max_width": null,
            "min_height": null,
            "min_width": null,
            "object_fit": null,
            "object_position": null,
            "order": null,
            "overflow": null,
            "overflow_x": null,
            "overflow_y": null,
            "padding": null,
            "right": null,
            "top": null,
            "visibility": null,
            "width": null
          }
        },
        "6ff59c4c019848619e20acf18b0c6fe0": {
          "model_module": "@jupyter-widgets/controls",
          "model_name": "ProgressStyleModel",
          "model_module_version": "1.5.0",
          "state": {
            "_model_module": "@jupyter-widgets/controls",
            "_model_module_version": "1.5.0",
            "_model_name": "ProgressStyleModel",
            "_view_count": null,
            "_view_module": "@jupyter-widgets/base",
            "_view_module_version": "1.2.0",
            "_view_name": "StyleView",
            "bar_color": null,
            "description_width": ""
          }
        },
        "e1682825169d4f55a07c4d68b9cf80e9": {
          "model_module": "@jupyter-widgets/base",
          "model_name": "LayoutModel",
          "model_module_version": "1.2.0",
          "state": {
            "_model_module": "@jupyter-widgets/base",
            "_model_module_version": "1.2.0",
            "_model_name": "LayoutModel",
            "_view_count": null,
            "_view_module": "@jupyter-widgets/base",
            "_view_module_version": "1.2.0",
            "_view_name": "LayoutView",
            "align_content": null,
            "align_items": null,
            "align_self": null,
            "border": null,
            "bottom": null,
            "display": null,
            "flex": null,
            "flex_flow": null,
            "grid_area": null,
            "grid_auto_columns": null,
            "grid_auto_flow": null,
            "grid_auto_rows": null,
            "grid_column": null,
            "grid_gap": null,
            "grid_row": null,
            "grid_template_areas": null,
            "grid_template_columns": null,
            "grid_template_rows": null,
            "height": null,
            "justify_content": null,
            "justify_items": null,
            "left": null,
            "margin": null,
            "max_height": null,
            "max_width": null,
            "min_height": null,
            "min_width": null,
            "object_fit": null,
            "object_position": null,
            "order": null,
            "overflow": null,
            "overflow_x": null,
            "overflow_y": null,
            "padding": null,
            "right": null,
            "top": null,
            "visibility": null,
            "width": null
          }
        },
        "1e572adef890474fa41d22a8e6a1c273": {
          "model_module": "@jupyter-widgets/controls",
          "model_name": "DescriptionStyleModel",
          "model_module_version": "1.5.0",
          "state": {
            "_model_module": "@jupyter-widgets/controls",
            "_model_module_version": "1.5.0",
            "_model_name": "DescriptionStyleModel",
            "_view_count": null,
            "_view_module": "@jupyter-widgets/base",
            "_view_module_version": "1.2.0",
            "_view_name": "StyleView",
            "description_width": ""
          }
        },
        "d95f1e9bccca4f59bf2299b4c807f631": {
          "model_module": "@jupyter-widgets/controls",
          "model_name": "HBoxModel",
          "model_module_version": "1.5.0",
          "state": {
            "_dom_classes": [],
            "_model_module": "@jupyter-widgets/controls",
            "_model_module_version": "1.5.0",
            "_model_name": "HBoxModel",
            "_view_count": null,
            "_view_module": "@jupyter-widgets/controls",
            "_view_module_version": "1.5.0",
            "_view_name": "HBoxView",
            "box_style": "",
            "children": [
              "IPY_MODEL_ba8005c0dbdd4e5692eb54005964f72a",
              "IPY_MODEL_aa5981c180d24017bf8cc6d67b4efa14",
              "IPY_MODEL_58ccda674b4f488eb57dd4240c9eacd3"
            ],
            "layout": "IPY_MODEL_1f99a1bdfeda4618ab3b1107db630ebe"
          }
        },
        "ba8005c0dbdd4e5692eb54005964f72a": {
          "model_module": "@jupyter-widgets/controls",
          "model_name": "HTMLModel",
          "model_module_version": "1.5.0",
          "state": {
            "_dom_classes": [],
            "_model_module": "@jupyter-widgets/controls",
            "_model_module_version": "1.5.0",
            "_model_name": "HTMLModel",
            "_view_count": null,
            "_view_module": "@jupyter-widgets/controls",
            "_view_module_version": "1.5.0",
            "_view_name": "HTMLView",
            "description": "",
            "description_tooltip": null,
            "layout": "IPY_MODEL_4c76f36bc11d4f88ac87c9cfccf67d50",
            "placeholder": "​",
            "style": "IPY_MODEL_791e5089f92a44b294db786699634ceb",
            "value": "Generating validation split: "
          }
        },
        "aa5981c180d24017bf8cc6d67b4efa14": {
          "model_module": "@jupyter-widgets/controls",
          "model_name": "FloatProgressModel",
          "model_module_version": "1.5.0",
          "state": {
            "_dom_classes": [],
            "_model_module": "@jupyter-widgets/controls",
            "_model_module_version": "1.5.0",
            "_model_name": "FloatProgressModel",
            "_view_count": null,
            "_view_module": "@jupyter-widgets/controls",
            "_view_module_version": "1.5.0",
            "_view_name": "ProgressView",
            "bar_style": "info",
            "description": "",
            "description_tooltip": null,
            "layout": "IPY_MODEL_e35aaf2b4d16400b9ad6489f7e05040f",
            "max": 1,
            "min": 0,
            "orientation": "horizontal",
            "style": "IPY_MODEL_39bc5f0c9e8744f0a5f0c13b4994ad03",
            "value": 1
          }
        },
        "58ccda674b4f488eb57dd4240c9eacd3": {
          "model_module": "@jupyter-widgets/controls",
          "model_name": "HTMLModel",
          "model_module_version": "1.5.0",
          "state": {
            "_dom_classes": [],
            "_model_module": "@jupyter-widgets/controls",
            "_model_module_version": "1.5.0",
            "_model_name": "HTMLModel",
            "_view_count": null,
            "_view_module": "@jupyter-widgets/controls",
            "_view_module_version": "1.5.0",
            "_view_name": "HTMLView",
            "description": "",
            "description_tooltip": null,
            "layout": "IPY_MODEL_3e03ccb457eb49f09af1f1a7d21a48b6",
            "placeholder": "​",
            "style": "IPY_MODEL_99a184f53ea84bebbe7e475322f7d4ec",
            "value": " 7896/0 [00:14&lt;00:00, 735.95 examples/s]"
          }
        },
        "1f99a1bdfeda4618ab3b1107db630ebe": {
          "model_module": "@jupyter-widgets/base",
          "model_name": "LayoutModel",
          "model_module_version": "1.2.0",
          "state": {
            "_model_module": "@jupyter-widgets/base",
            "_model_module_version": "1.2.0",
            "_model_name": "LayoutModel",
            "_view_count": null,
            "_view_module": "@jupyter-widgets/base",
            "_view_module_version": "1.2.0",
            "_view_name": "LayoutView",
            "align_content": null,
            "align_items": null,
            "align_self": null,
            "border": null,
            "bottom": null,
            "display": null,
            "flex": null,
            "flex_flow": null,
            "grid_area": null,
            "grid_auto_columns": null,
            "grid_auto_flow": null,
            "grid_auto_rows": null,
            "grid_column": null,
            "grid_gap": null,
            "grid_row": null,
            "grid_template_areas": null,
            "grid_template_columns": null,
            "grid_template_rows": null,
            "height": null,
            "justify_content": null,
            "justify_items": null,
            "left": null,
            "margin": null,
            "max_height": null,
            "max_width": null,
            "min_height": null,
            "min_width": null,
            "object_fit": null,
            "object_position": null,
            "order": null,
            "overflow": null,
            "overflow_x": null,
            "overflow_y": null,
            "padding": null,
            "right": null,
            "top": null,
            "visibility": "hidden",
            "width": null
          }
        },
        "4c76f36bc11d4f88ac87c9cfccf67d50": {
          "model_module": "@jupyter-widgets/base",
          "model_name": "LayoutModel",
          "model_module_version": "1.2.0",
          "state": {
            "_model_module": "@jupyter-widgets/base",
            "_model_module_version": "1.2.0",
            "_model_name": "LayoutModel",
            "_view_count": null,
            "_view_module": "@jupyter-widgets/base",
            "_view_module_version": "1.2.0",
            "_view_name": "LayoutView",
            "align_content": null,
            "align_items": null,
            "align_self": null,
            "border": null,
            "bottom": null,
            "display": null,
            "flex": null,
            "flex_flow": null,
            "grid_area": null,
            "grid_auto_columns": null,
            "grid_auto_flow": null,
            "grid_auto_rows": null,
            "grid_column": null,
            "grid_gap": null,
            "grid_row": null,
            "grid_template_areas": null,
            "grid_template_columns": null,
            "grid_template_rows": null,
            "height": null,
            "justify_content": null,
            "justify_items": null,
            "left": null,
            "margin": null,
            "max_height": null,
            "max_width": null,
            "min_height": null,
            "min_width": null,
            "object_fit": null,
            "object_position": null,
            "order": null,
            "overflow": null,
            "overflow_x": null,
            "overflow_y": null,
            "padding": null,
            "right": null,
            "top": null,
            "visibility": null,
            "width": null
          }
        },
        "791e5089f92a44b294db786699634ceb": {
          "model_module": "@jupyter-widgets/controls",
          "model_name": "DescriptionStyleModel",
          "model_module_version": "1.5.0",
          "state": {
            "_model_module": "@jupyter-widgets/controls",
            "_model_module_version": "1.5.0",
            "_model_name": "DescriptionStyleModel",
            "_view_count": null,
            "_view_module": "@jupyter-widgets/base",
            "_view_module_version": "1.2.0",
            "_view_name": "StyleView",
            "description_width": ""
          }
        },
        "e35aaf2b4d16400b9ad6489f7e05040f": {
          "model_module": "@jupyter-widgets/base",
          "model_name": "LayoutModel",
          "model_module_version": "1.2.0",
          "state": {
            "_model_module": "@jupyter-widgets/base",
            "_model_module_version": "1.2.0",
            "_model_name": "LayoutModel",
            "_view_count": null,
            "_view_module": "@jupyter-widgets/base",
            "_view_module_version": "1.2.0",
            "_view_name": "LayoutView",
            "align_content": null,
            "align_items": null,
            "align_self": null,
            "border": null,
            "bottom": null,
            "display": null,
            "flex": null,
            "flex_flow": null,
            "grid_area": null,
            "grid_auto_columns": null,
            "grid_auto_flow": null,
            "grid_auto_rows": null,
            "grid_column": null,
            "grid_gap": null,
            "grid_row": null,
            "grid_template_areas": null,
            "grid_template_columns": null,
            "grid_template_rows": null,
            "height": null,
            "justify_content": null,
            "justify_items": null,
            "left": null,
            "margin": null,
            "max_height": null,
            "max_width": null,
            "min_height": null,
            "min_width": null,
            "object_fit": null,
            "object_position": null,
            "order": null,
            "overflow": null,
            "overflow_x": null,
            "overflow_y": null,
            "padding": null,
            "right": null,
            "top": null,
            "visibility": null,
            "width": "20px"
          }
        },
        "39bc5f0c9e8744f0a5f0c13b4994ad03": {
          "model_module": "@jupyter-widgets/controls",
          "model_name": "ProgressStyleModel",
          "model_module_version": "1.5.0",
          "state": {
            "_model_module": "@jupyter-widgets/controls",
            "_model_module_version": "1.5.0",
            "_model_name": "ProgressStyleModel",
            "_view_count": null,
            "_view_module": "@jupyter-widgets/base",
            "_view_module_version": "1.2.0",
            "_view_name": "StyleView",
            "bar_color": null,
            "description_width": ""
          }
        },
        "3e03ccb457eb49f09af1f1a7d21a48b6": {
          "model_module": "@jupyter-widgets/base",
          "model_name": "LayoutModel",
          "model_module_version": "1.2.0",
          "state": {
            "_model_module": "@jupyter-widgets/base",
            "_model_module_version": "1.2.0",
            "_model_name": "LayoutModel",
            "_view_count": null,
            "_view_module": "@jupyter-widgets/base",
            "_view_module_version": "1.2.0",
            "_view_name": "LayoutView",
            "align_content": null,
            "align_items": null,
            "align_self": null,
            "border": null,
            "bottom": null,
            "display": null,
            "flex": null,
            "flex_flow": null,
            "grid_area": null,
            "grid_auto_columns": null,
            "grid_auto_flow": null,
            "grid_auto_rows": null,
            "grid_column": null,
            "grid_gap": null,
            "grid_row": null,
            "grid_template_areas": null,
            "grid_template_columns": null,
            "grid_template_rows": null,
            "height": null,
            "justify_content": null,
            "justify_items": null,
            "left": null,
            "margin": null,
            "max_height": null,
            "max_width": null,
            "min_height": null,
            "min_width": null,
            "object_fit": null,
            "object_position": null,
            "order": null,
            "overflow": null,
            "overflow_x": null,
            "overflow_y": null,
            "padding": null,
            "right": null,
            "top": null,
            "visibility": null,
            "width": null
          }
        },
        "99a184f53ea84bebbe7e475322f7d4ec": {
          "model_module": "@jupyter-widgets/controls",
          "model_name": "DescriptionStyleModel",
          "model_module_version": "1.5.0",
          "state": {
            "_model_module": "@jupyter-widgets/controls",
            "_model_module_version": "1.5.0",
            "_model_name": "DescriptionStyleModel",
            "_view_count": null,
            "_view_module": "@jupyter-widgets/base",
            "_view_module_version": "1.2.0",
            "_view_name": "StyleView",
            "description_width": ""
          }
        }
      }
    }
  },
  "nbformat": 4,
  "nbformat_minor": 0
}